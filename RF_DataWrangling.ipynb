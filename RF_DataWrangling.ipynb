{
 "cells": [
  {
   "cell_type": "code",
   "execution_count": 2,
   "metadata": {},
   "outputs": [],
   "source": [
    "import pandas as pd\n",
    "import numpy as np\n",
    "import datetime as dt\n",
    "\n",
    "import matplotlib.pyplot as plt\n",
    "%matplotlib inline"
   ]
  },
  {
   "cell_type": "code",
   "execution_count": 4,
   "metadata": {},
   "outputs": [],
   "source": [
    "df = pd.read_pickle('dates.pkl')"
   ]
  },
  {
   "cell_type": "code",
   "execution_count": 25,
   "metadata": {},
   "outputs": [],
   "source": [
    "dt_index = df[['date']].astype('datetime64[ns]').set_index('date')"
   ]
  },
  {
   "cell_type": "markdown",
   "metadata": {},
   "source": [
    "### NOS"
   ]
  },
  {
   "cell_type": "code",
   "execution_count": 37,
   "metadata": {},
   "outputs": [
    {
     "data": {
      "text/html": [
       "<div>\n",
       "<style scoped>\n",
       "    .dataframe tbody tr th:only-of-type {\n",
       "        vertical-align: middle;\n",
       "    }\n",
       "\n",
       "    .dataframe tbody tr th {\n",
       "        vertical-align: top;\n",
       "    }\n",
       "\n",
       "    .dataframe thead th {\n",
       "        text-align: right;\n",
       "    }\n",
       "</style>\n",
       "<table border=\"1\" class=\"dataframe\">\n",
       "  <thead>\n",
       "    <tr style=\"text-align: right;\">\n",
       "      <th></th>\n",
       "      <th>ticker</th>\n",
       "      <th>year</th>\n",
       "      <th>1</th>\n",
       "      <th>2</th>\n",
       "      <th>3</th>\n",
       "      <th>4</th>\n",
       "      <th>5</th>\n",
       "      <th>6</th>\n",
       "      <th>7</th>\n",
       "      <th>8</th>\n",
       "      <th>9</th>\n",
       "      <th>10</th>\n",
       "      <th>11</th>\n",
       "      <th>12</th>\n",
       "    </tr>\n",
       "  </thead>\n",
       "  <tbody>\n",
       "    <tr>\n",
       "      <td>0</td>\n",
       "      <td>AMTMVS</td>\n",
       "      <td>1992</td>\n",
       "      <td>227721</td>\n",
       "      <td>228860</td>\n",
       "      <td>238604</td>\n",
       "      <td>239877.0</td>\n",
       "      <td>243732.0</td>\n",
       "      <td>245693.0</td>\n",
       "      <td>245608.0</td>\n",
       "      <td>242874.0</td>\n",
       "      <td>244894.0</td>\n",
       "      <td>243190.0</td>\n",
       "      <td>246901.0</td>\n",
       "      <td>248199.0</td>\n",
       "    </tr>\n",
       "    <tr>\n",
       "      <td>1</td>\n",
       "      <td>AMTMVS</td>\n",
       "      <td>1993</td>\n",
       "      <td>247812</td>\n",
       "      <td>249517</td>\n",
       "      <td>250346</td>\n",
       "      <td>248681.0</td>\n",
       "      <td>251798.0</td>\n",
       "      <td>253388.0</td>\n",
       "      <td>248759.0</td>\n",
       "      <td>249283.0</td>\n",
       "      <td>252679.0</td>\n",
       "      <td>256449.0</td>\n",
       "      <td>255017.0</td>\n",
       "      <td>256087.0</td>\n",
       "    </tr>\n",
       "    <tr>\n",
       "      <td>2</td>\n",
       "      <td>AMTMVS</td>\n",
       "      <td>1994</td>\n",
       "      <td>259834</td>\n",
       "      <td>261152</td>\n",
       "      <td>261862</td>\n",
       "      <td>263499.0</td>\n",
       "      <td>266632.0</td>\n",
       "      <td>268116.0</td>\n",
       "      <td>271246.0</td>\n",
       "      <td>273778.0</td>\n",
       "      <td>272898.0</td>\n",
       "      <td>276184.0</td>\n",
       "      <td>279548.0</td>\n",
       "      <td>286731.0</td>\n",
       "    </tr>\n",
       "    <tr>\n",
       "      <td>3</td>\n",
       "      <td>AMTMVS</td>\n",
       "      <td>1995</td>\n",
       "      <td>286480</td>\n",
       "      <td>288455</td>\n",
       "      <td>284903</td>\n",
       "      <td>289640.0</td>\n",
       "      <td>285641.0</td>\n",
       "      <td>288557.0</td>\n",
       "      <td>287862.0</td>\n",
       "      <td>289737.0</td>\n",
       "      <td>295286.0</td>\n",
       "      <td>292655.0</td>\n",
       "      <td>291561.0</td>\n",
       "      <td>300609.0</td>\n",
       "    </tr>\n",
       "    <tr>\n",
       "      <td>4</td>\n",
       "      <td>AMTMVS</td>\n",
       "      <td>1996</td>\n",
       "      <td>286897</td>\n",
       "      <td>282115</td>\n",
       "      <td>294562</td>\n",
       "      <td>295365.0</td>\n",
       "      <td>299775.0</td>\n",
       "      <td>303281.0</td>\n",
       "      <td>300234.0</td>\n",
       "      <td>301541.0</td>\n",
       "      <td>305155.0</td>\n",
       "      <td>301294.0</td>\n",
       "      <td>308575.0</td>\n",
       "      <td>307211.0</td>\n",
       "    </tr>\n",
       "  </tbody>\n",
       "</table>\n",
       "</div>"
      ],
      "text/plain": [
       "   ticker  year       1       2       3         4         5         6  \\\n",
       "0  AMTMVS  1992  227721  228860  238604  239877.0  243732.0  245693.0   \n",
       "1  AMTMVS  1993  247812  249517  250346  248681.0  251798.0  253388.0   \n",
       "2  AMTMVS  1994  259834  261152  261862  263499.0  266632.0  268116.0   \n",
       "3  AMTMVS  1995  286480  288455  284903  289640.0  285641.0  288557.0   \n",
       "4  AMTMVS  1996  286897  282115  294562  295365.0  299775.0  303281.0   \n",
       "\n",
       "          7         8         9        10        11        12  \n",
       "0  245608.0  242874.0  244894.0  243190.0  246901.0  248199.0  \n",
       "1  248759.0  249283.0  252679.0  256449.0  255017.0  256087.0  \n",
       "2  271246.0  273778.0  272898.0  276184.0  279548.0  286731.0  \n",
       "3  287862.0  289737.0  295286.0  292655.0  291561.0  300609.0  \n",
       "4  300234.0  301541.0  305155.0  301294.0  308575.0  307211.0  "
      ]
     },
     "execution_count": 37,
     "metadata": {},
     "output_type": "execute_result"
    }
   ],
   "source": [
    "df_nos_ship = pd.read_excel('raw_data/nos/naicsvsp.xls', header=None)\n",
    "df_nos_ship.columns = ['ticker', \n",
    "                       'year', \n",
    "                      1,\n",
    "                      2,\n",
    "                      3,\n",
    "                      4,\n",
    "                      5,\n",
    "                      6,\n",
    "                      7,\n",
    "                      8,\n",
    "                      9,\n",
    "                      10,\n",
    "                      11,\n",
    "                      12]\n",
    "df_nos_ship.head()"
   ]
  },
  {
   "cell_type": "code",
   "execution_count": 50,
   "metadata": {},
   "outputs": [],
   "source": [
    "df_nos_mdm = df_nos_ship[df_nos_ship['ticker'] == 'AMDMVS'].drop('ticker', axis=1)\n",
    "df_nos_mt = df_nos_mdm.melt(id_vars=['year'])"
   ]
  },
  {
   "cell_type": "code",
   "execution_count": 56,
   "metadata": {},
   "outputs": [
    {
     "data": {
      "text/html": [
       "<div>\n",
       "<style scoped>\n",
       "    .dataframe tbody tr th:only-of-type {\n",
       "        vertical-align: middle;\n",
       "    }\n",
       "\n",
       "    .dataframe tbody tr th {\n",
       "        vertical-align: top;\n",
       "    }\n",
       "\n",
       "    .dataframe thead th {\n",
       "        text-align: right;\n",
       "    }\n",
       "</style>\n",
       "<table border=\"1\" class=\"dataframe\">\n",
       "  <thead>\n",
       "    <tr style=\"text-align: right;\">\n",
       "      <th></th>\n",
       "      <th>year</th>\n",
       "      <th>variable</th>\n",
       "      <th>value</th>\n",
       "    </tr>\n",
       "  </thead>\n",
       "  <tbody>\n",
       "    <tr>\n",
       "      <td>0</td>\n",
       "      <td>1992</td>\n",
       "      <td>1</td>\n",
       "      <td>117958.0</td>\n",
       "    </tr>\n",
       "    <tr>\n",
       "      <td>1</td>\n",
       "      <td>1993</td>\n",
       "      <td>1</td>\n",
       "      <td>129525.0</td>\n",
       "    </tr>\n",
       "    <tr>\n",
       "      <td>2</td>\n",
       "      <td>1994</td>\n",
       "      <td>1</td>\n",
       "      <td>141207.0</td>\n",
       "    </tr>\n",
       "    <tr>\n",
       "      <td>3</td>\n",
       "      <td>1995</td>\n",
       "      <td>1</td>\n",
       "      <td>157247.0</td>\n",
       "    </tr>\n",
       "    <tr>\n",
       "      <td>4</td>\n",
       "      <td>1996</td>\n",
       "      <td>1</td>\n",
       "      <td>156881.0</td>\n",
       "    </tr>\n",
       "  </tbody>\n",
       "</table>\n",
       "</div>"
      ],
      "text/plain": [
       "   year variable     value\n",
       "0  1992        1  117958.0\n",
       "1  1993        1  129525.0\n",
       "2  1994        1  141207.0\n",
       "3  1995        1  157247.0\n",
       "4  1996        1  156881.0"
      ]
     },
     "execution_count": 56,
     "metadata": {},
     "output_type": "execute_result"
    }
   ],
   "source": [
    "df_nos_mt.head()"
   ]
  },
  {
   "cell_type": "code",
   "execution_count": 60,
   "metadata": {},
   "outputs": [],
   "source": [
    "def get_knowledge_dt(year, month):\n",
    "    if month != 12:\n",
    "        return dt.date(year, month + 1, 25)\n",
    "    else:\n",
    "        return dt.date(year + 1, 1, 25)"
   ]
  },
  {
   "cell_type": "code",
   "execution_count": 61,
   "metadata": {},
   "outputs": [],
   "source": [
    "df_nos_mt['knowledge_dt'] = df_nos_mt.apply(lambda row: \n",
    "                                            get_knowledge_dt(row['year'], row['variable']),\n",
    "                                            axis=1)\n",
    "                                            "
   ]
  },
  {
   "cell_type": "code",
   "execution_count": 71,
   "metadata": {},
   "outputs": [
    {
     "data": {
      "text/html": [
       "<div>\n",
       "<style scoped>\n",
       "    .dataframe tbody tr th:only-of-type {\n",
       "        vertical-align: middle;\n",
       "    }\n",
       "\n",
       "    .dataframe tbody tr th {\n",
       "        vertical-align: top;\n",
       "    }\n",
       "\n",
       "    .dataframe thead th {\n",
       "        text-align: right;\n",
       "    }\n",
       "</style>\n",
       "<table border=\"1\" class=\"dataframe\">\n",
       "  <thead>\n",
       "    <tr style=\"text-align: right;\">\n",
       "      <th></th>\n",
       "      <th>shipments</th>\n",
       "    </tr>\n",
       "    <tr>\n",
       "      <th>knowledge_dt</th>\n",
       "      <th></th>\n",
       "    </tr>\n",
       "  </thead>\n",
       "  <tbody>\n",
       "    <tr>\n",
       "      <td>1992-02-25</td>\n",
       "      <td>117958.0</td>\n",
       "    </tr>\n",
       "    <tr>\n",
       "      <td>1992-03-25</td>\n",
       "      <td>119895.0</td>\n",
       "    </tr>\n",
       "    <tr>\n",
       "      <td>1992-04-25</td>\n",
       "      <td>124897.0</td>\n",
       "    </tr>\n",
       "    <tr>\n",
       "      <td>1992-05-25</td>\n",
       "      <td>126174.0</td>\n",
       "    </tr>\n",
       "    <tr>\n",
       "      <td>1992-06-25</td>\n",
       "      <td>127638.0</td>\n",
       "    </tr>\n",
       "  </tbody>\n",
       "</table>\n",
       "</div>"
      ],
      "text/plain": [
       "              shipments\n",
       "knowledge_dt           \n",
       "1992-02-25     117958.0\n",
       "1992-03-25     119895.0\n",
       "1992-04-25     124897.0\n",
       "1992-05-25     126174.0\n",
       "1992-06-25     127638.0"
      ]
     },
     "execution_count": 71,
     "metadata": {},
     "output_type": "execute_result"
    }
   ],
   "source": [
    "df_ship_res = df_nos_mt.set_index('knowledge_dt')[['value']].rename(columns={'value': \n",
    "                                                                             'shipments'}).sort_index()\n",
    "df_ship_res.head()"
   ]
  },
  {
   "cell_type": "code",
   "execution_count": 73,
   "metadata": {},
   "outputs": [
    {
     "data": {
      "image/png": "[encoded data removed]",
      "text/plain": [
       "<Figure size 432x288 with 1 Axes>"
      ]
     },
     "metadata": {
      "needs_background": "light"
     },
     "output_type": "display_data"
    }
   ],
   "source": [
    "df_ship_res.plot(); plt.show()"
   ]
  },
  {
   "cell_type": "code",
   "execution_count": 67,
   "metadata": {},
   "outputs": [
    {
     "data": {
      "text/html": [
       "<div>\n",
       "<style scoped>\n",
       "    .dataframe tbody tr th:only-of-type {\n",
       "        vertical-align: middle;\n",
       "    }\n",
       "\n",
       "    .dataframe tbody tr th {\n",
       "        vertical-align: top;\n",
       "    }\n",
       "\n",
       "    .dataframe thead th {\n",
       "        text-align: right;\n",
       "    }\n",
       "</style>\n",
       "<table border=\"1\" class=\"dataframe\">\n",
       "  <thead>\n",
       "    <tr style=\"text-align: right;\">\n",
       "      <th></th>\n",
       "      <th>ticker</th>\n",
       "      <th>year</th>\n",
       "      <th>1</th>\n",
       "      <th>2</th>\n",
       "      <th>3</th>\n",
       "      <th>4</th>\n",
       "      <th>5</th>\n",
       "      <th>6</th>\n",
       "      <th>7</th>\n",
       "      <th>8</th>\n",
       "      <th>9</th>\n",
       "      <th>10</th>\n",
       "      <th>11</th>\n",
       "      <th>12</th>\n",
       "    </tr>\n",
       "  </thead>\n",
       "  <tbody>\n",
       "    <tr>\n",
       "      <td>0</td>\n",
       "      <td>AMTMNO</td>\n",
       "      <td>1993</td>\n",
       "      <td>239924.0</td>\n",
       "      <td>247176</td>\n",
       "      <td>245506</td>\n",
       "      <td>244703</td>\n",
       "      <td>245194</td>\n",
       "      <td>249521</td>\n",
       "      <td>245765</td>\n",
       "      <td>246562</td>\n",
       "      <td>245731</td>\n",
       "      <td>251656.0</td>\n",
       "      <td>247827.0</td>\n",
       "      <td>250057.0</td>\n",
       "    </tr>\n",
       "    <tr>\n",
       "      <td>1</td>\n",
       "      <td>AMTMNO</td>\n",
       "      <td>1994</td>\n",
       "      <td>257125.0</td>\n",
       "      <td>256624</td>\n",
       "      <td>257190</td>\n",
       "      <td>260006</td>\n",
       "      <td>263419</td>\n",
       "      <td>267027</td>\n",
       "      <td>267694</td>\n",
       "      <td>269994</td>\n",
       "      <td>270377</td>\n",
       "      <td>275087.0</td>\n",
       "      <td>276477.0</td>\n",
       "      <td>282738.0</td>\n",
       "    </tr>\n",
       "    <tr>\n",
       "      <td>2</td>\n",
       "      <td>AMTMNO</td>\n",
       "      <td>1995</td>\n",
       "      <td>279692.0</td>\n",
       "      <td>284915</td>\n",
       "      <td>282195</td>\n",
       "      <td>283370</td>\n",
       "      <td>282955</td>\n",
       "      <td>281900</td>\n",
       "      <td>281269</td>\n",
       "      <td>285979</td>\n",
       "      <td>293326</td>\n",
       "      <td>287568.0</td>\n",
       "      <td>287704.0</td>\n",
       "      <td>297684.0</td>\n",
       "    </tr>\n",
       "    <tr>\n",
       "      <td>3</td>\n",
       "      <td>AMTMNO</td>\n",
       "      <td>1996</td>\n",
       "      <td>285822.0</td>\n",
       "      <td>277940</td>\n",
       "      <td>298862</td>\n",
       "      <td>290320</td>\n",
       "      <td>298700</td>\n",
       "      <td>299606</td>\n",
       "      <td>298909</td>\n",
       "      <td>293231</td>\n",
       "      <td>302015</td>\n",
       "      <td>301595.0</td>\n",
       "      <td>309537.0</td>\n",
       "      <td>300179.0</td>\n",
       "    </tr>\n",
       "    <tr>\n",
       "      <td>4</td>\n",
       "      <td>AMTMNO</td>\n",
       "      <td>1997</td>\n",
       "      <td>300765.0</td>\n",
       "      <td>310604</td>\n",
       "      <td>307465</td>\n",
       "      <td>313694</td>\n",
       "      <td>308733</td>\n",
       "      <td>315090</td>\n",
       "      <td>318485</td>\n",
       "      <td>319106</td>\n",
       "      <td>318687</td>\n",
       "      <td>319565.0</td>\n",
       "      <td>334896.0</td>\n",
       "      <td>315121.0</td>\n",
       "    </tr>\n",
       "  </tbody>\n",
       "</table>\n",
       "</div>"
      ],
      "text/plain": [
       "   ticker  year         1       2       3       4       5       6       7  \\\n",
       "0  AMTMNO  1993  239924.0  247176  245506  244703  245194  249521  245765   \n",
       "1  AMTMNO  1994  257125.0  256624  257190  260006  263419  267027  267694   \n",
       "2  AMTMNO  1995  279692.0  284915  282195  283370  282955  281900  281269   \n",
       "3  AMTMNO  1996  285822.0  277940  298862  290320  298700  299606  298909   \n",
       "4  AMTMNO  1997  300765.0  310604  307465  313694  308733  315090  318485   \n",
       "\n",
       "        8       9        10        11        12  \n",
       "0  246562  245731  251656.0  247827.0  250057.0  \n",
       "1  269994  270377  275087.0  276477.0  282738.0  \n",
       "2  285979  293326  287568.0  287704.0  297684.0  \n",
       "3  293231  302015  301595.0  309537.0  300179.0  \n",
       "4  319106  318687  319565.0  334896.0  315121.0  "
      ]
     },
     "execution_count": 67,
     "metadata": {},
     "output_type": "execute_result"
    }
   ],
   "source": [
    "df_nos_orders = pd.read_excel('raw_data/nos/naicsnop.xls')\n",
    "df_nos_orders.columns = ['ticker', \n",
    "                         'year', \n",
    "                          1,\n",
    "                          2,\n",
    "                          3,\n",
    "                          4,\n",
    "                          5,\n",
    "                          6,\n",
    "                          7,\n",
    "                          8,\n",
    "                          9,\n",
    "                          10,\n",
    "                          11,\n",
    "                          12]\n",
    "df_nos_orders.head()"
   ]
  },
  {
   "cell_type": "code",
   "execution_count": 68,
   "metadata": {},
   "outputs": [],
   "source": [
    "df_order_mdm = df_nos_orders[df_nos_orders['ticker'] == 'AMDMNO'].drop('ticker', axis=1)\n",
    "df_order_mt = df_order_mdm.melt(id_vars=['year'])"
   ]
  },
  {
   "cell_type": "code",
   "execution_count": 69,
   "metadata": {},
   "outputs": [],
   "source": [
    "df_order_mt['knowledge_dt'] = df_order_mt.apply(lambda row: \n",
    "                                            get_knowledge_dt(row['year'], row['variable']),\n",
    "                                            axis=1)\n",
    "                                            "
   ]
  },
  {
   "cell_type": "code",
   "execution_count": 74,
   "metadata": {
    "scrolled": true
   },
   "outputs": [
    {
     "data": {
      "text/html": [
       "<div>\n",
       "<style scoped>\n",
       "    .dataframe tbody tr th:only-of-type {\n",
       "        vertical-align: middle;\n",
       "    }\n",
       "\n",
       "    .dataframe tbody tr th {\n",
       "        vertical-align: top;\n",
       "    }\n",
       "\n",
       "    .dataframe thead th {\n",
       "        text-align: right;\n",
       "    }\n",
       "</style>\n",
       "<table border=\"1\" class=\"dataframe\">\n",
       "  <thead>\n",
       "    <tr style=\"text-align: right;\">\n",
       "      <th></th>\n",
       "      <th>orders</th>\n",
       "    </tr>\n",
       "    <tr>\n",
       "      <th>knowledge_dt</th>\n",
       "      <th></th>\n",
       "    </tr>\n",
       "  </thead>\n",
       "  <tbody>\n",
       "    <tr>\n",
       "      <td>1992-02-25</td>\n",
       "      <td>NaN</td>\n",
       "    </tr>\n",
       "    <tr>\n",
       "      <td>1992-03-25</td>\n",
       "      <td>114535.0</td>\n",
       "    </tr>\n",
       "    <tr>\n",
       "      <td>1992-04-25</td>\n",
       "      <td>120025.0</td>\n",
       "    </tr>\n",
       "    <tr>\n",
       "      <td>1992-05-25</td>\n",
       "      <td>124470.0</td>\n",
       "    </tr>\n",
       "    <tr>\n",
       "      <td>1992-06-25</td>\n",
       "      <td>125822.0</td>\n",
       "    </tr>\n",
       "  </tbody>\n",
       "</table>\n",
       "</div>"
      ],
      "text/plain": [
       "                orders\n",
       "knowledge_dt          \n",
       "1992-02-25         NaN\n",
       "1992-03-25    114535.0\n",
       "1992-04-25    120025.0\n",
       "1992-05-25    124470.0\n",
       "1992-06-25    125822.0"
      ]
     },
     "execution_count": 74,
     "metadata": {},
     "output_type": "execute_result"
    }
   ],
   "source": [
    "df_order_res = df_order_mt.set_index('knowledge_dt')[['value']].rename(columns={'value': \n",
    "                                                                             'orders'}).sort_index()\n",
    "df_order_res.head()"
   ]
  },
  {
   "cell_type": "code",
   "execution_count": 75,
   "metadata": {},
   "outputs": [
    {
     "data": {
      "text/plain": [
       "<matplotlib.axes._subplots.AxesSubplot at 0x1220da7f0>"
      ]
     },
     "execution_count": 75,
     "metadata": {},
     "output_type": "execute_result"
    },
    {
     "data": {
      "image/png": "[encoded data removed]",
      "text/plain": [
       "<Figure size 432x288 with 1 Axes>"
      ]
     },
     "metadata": {
      "needs_background": "light"
     },
     "output_type": "display_data"
    }
   ],
   "source": [
    "df_order_res.plot()"
   ]
  },
  {
   "cell_type": "markdown",
   "metadata": {},
   "source": [
    "### Older NOS data"
   ]
  },
  {
   "cell_type": "markdown",
   "metadata": {},
   "source": [
    "#### Shipments"
   ]
  },
  {
   "cell_type": "code",
   "execution_count": 79,
   "metadata": {},
   "outputs": [
    {
     "data": {
      "text/html": [
       "<div>\n",
       "<style scoped>\n",
       "    .dataframe tbody tr th:only-of-type {\n",
       "        vertical-align: middle;\n",
       "    }\n",
       "\n",
       "    .dataframe tbody tr th {\n",
       "        vertical-align: top;\n",
       "    }\n",
       "\n",
       "    .dataframe thead th {\n",
       "        text-align: right;\n",
       "    }\n",
       "</style>\n",
       "<table border=\"1\" class=\"dataframe\">\n",
       "  <thead>\n",
       "    <tr style=\"text-align: right;\">\n",
       "      <th></th>\n",
       "      <th>ticker</th>\n",
       "      <th>year</th>\n",
       "      <th>1</th>\n",
       "      <th>2</th>\n",
       "      <th>3</th>\n",
       "      <th>4</th>\n",
       "      <th>5</th>\n",
       "      <th>6</th>\n",
       "      <th>7</th>\n",
       "      <th>8</th>\n",
       "      <th>9</th>\n",
       "      <th>10</th>\n",
       "      <th>11</th>\n",
       "      <th>12</th>\n",
       "    </tr>\n",
       "  </thead>\n",
       "  <tbody>\n",
       "    <tr>\n",
       "      <td>0</td>\n",
       "      <td>A20AVS</td>\n",
       "      <td>1958</td>\n",
       "      <td>1253</td>\n",
       "      <td>1296</td>\n",
       "      <td>1306</td>\n",
       "      <td>1274.0</td>\n",
       "      <td>1325.0</td>\n",
       "      <td>1355.0</td>\n",
       "      <td>1322.0</td>\n",
       "      <td>1389.0</td>\n",
       "      <td>1337.0</td>\n",
       "      <td>1278.0</td>\n",
       "      <td>1475.0</td>\n",
       "      <td>1320.0</td>\n",
       "    </tr>\n",
       "    <tr>\n",
       "      <td>1</td>\n",
       "      <td>A20AVS</td>\n",
       "      <td>1959</td>\n",
       "      <td>1372</td>\n",
       "      <td>1331</td>\n",
       "      <td>1359</td>\n",
       "      <td>1306.0</td>\n",
       "      <td>1364.0</td>\n",
       "      <td>1315.0</td>\n",
       "      <td>1292.0</td>\n",
       "      <td>1305.0</td>\n",
       "      <td>1259.0</td>\n",
       "      <td>1259.0</td>\n",
       "      <td>1299.0</td>\n",
       "      <td>1247.0</td>\n",
       "    </tr>\n",
       "    <tr>\n",
       "      <td>2</td>\n",
       "      <td>A20AVS</td>\n",
       "      <td>1960</td>\n",
       "      <td>1338</td>\n",
       "      <td>1212</td>\n",
       "      <td>1277</td>\n",
       "      <td>1343.0</td>\n",
       "      <td>1329.0</td>\n",
       "      <td>1325.0</td>\n",
       "      <td>1376.0</td>\n",
       "      <td>1319.0</td>\n",
       "      <td>1340.0</td>\n",
       "      <td>1355.0</td>\n",
       "      <td>1324.0</td>\n",
       "      <td>1344.0</td>\n",
       "    </tr>\n",
       "    <tr>\n",
       "      <td>3</td>\n",
       "      <td>A20AVS</td>\n",
       "      <td>1961</td>\n",
       "      <td>1336</td>\n",
       "      <td>1361</td>\n",
       "      <td>1361</td>\n",
       "      <td>1376.0</td>\n",
       "      <td>1326.0</td>\n",
       "      <td>1311.0</td>\n",
       "      <td>1326.0</td>\n",
       "      <td>1258.0</td>\n",
       "      <td>1334.0</td>\n",
       "      <td>1368.0</td>\n",
       "      <td>1314.0</td>\n",
       "      <td>1380.0</td>\n",
       "    </tr>\n",
       "    <tr>\n",
       "      <td>4</td>\n",
       "      <td>A20AVS</td>\n",
       "      <td>1962</td>\n",
       "      <td>1347</td>\n",
       "      <td>1383</td>\n",
       "      <td>1335</td>\n",
       "      <td>1388.0</td>\n",
       "      <td>1346.0</td>\n",
       "      <td>1402.0</td>\n",
       "      <td>1374.0</td>\n",
       "      <td>1375.0</td>\n",
       "      <td>1440.0</td>\n",
       "      <td>1398.0</td>\n",
       "      <td>1497.0</td>\n",
       "      <td>1401.0</td>\n",
       "    </tr>\n",
       "  </tbody>\n",
       "</table>\n",
       "</div>"
      ],
      "text/plain": [
       "   ticker  year     1     2     3       4       5       6       7       8  \\\n",
       "0  A20AVS  1958  1253  1296  1306  1274.0  1325.0  1355.0  1322.0  1389.0   \n",
       "1  A20AVS  1959  1372  1331  1359  1306.0  1364.0  1315.0  1292.0  1305.0   \n",
       "2  A20AVS  1960  1338  1212  1277  1343.0  1329.0  1325.0  1376.0  1319.0   \n",
       "3  A20AVS  1961  1336  1361  1361  1376.0  1326.0  1311.0  1326.0  1258.0   \n",
       "4  A20AVS  1962  1347  1383  1335  1388.0  1346.0  1402.0  1374.0  1375.0   \n",
       "\n",
       "        9      10      11      12  \n",
       "0  1337.0  1278.0  1475.0  1320.0  \n",
       "1  1259.0  1259.0  1299.0  1247.0  \n",
       "2  1340.0  1355.0  1324.0  1344.0  \n",
       "3  1334.0  1368.0  1314.0  1380.0  \n",
       "4  1440.0  1398.0  1497.0  1401.0  "
      ]
     },
     "execution_count": 79,
     "metadata": {},
     "output_type": "execute_result"
    }
   ],
   "source": [
    "df_old_ship = pd.read_excel('raw_data/nos/vsp.xls', header=None)\n",
    "df_old_ship.columns = ['ticker', \n",
    "                         'year', \n",
    "                          1,\n",
    "                          2,\n",
    "                          3,\n",
    "                          4,\n",
    "                          5,\n",
    "                          6,\n",
    "                          7,\n",
    "                          8,\n",
    "                          9,\n",
    "                          10,\n",
    "                          11,\n",
    "                          12]\n",
    "df_old_ship.head()"
   ]
  },
  {
   "cell_type": "code",
   "execution_count": 81,
   "metadata": {},
   "outputs": [
    {
     "data": {
      "text/html": [
       "<div>\n",
       "<style scoped>\n",
       "    .dataframe tbody tr th:only-of-type {\n",
       "        vertical-align: middle;\n",
       "    }\n",
       "\n",
       "    .dataframe tbody tr th {\n",
       "        vertical-align: top;\n",
       "    }\n",
       "\n",
       "    .dataframe thead th {\n",
       "        text-align: right;\n",
       "    }\n",
       "</style>\n",
       "<table border=\"1\" class=\"dataframe\">\n",
       "  <thead>\n",
       "    <tr style=\"text-align: right;\">\n",
       "      <th></th>\n",
       "      <th>year</th>\n",
       "      <th>variable</th>\n",
       "      <th>value</th>\n",
       "    </tr>\n",
       "  </thead>\n",
       "  <tbody>\n",
       "    <tr>\n",
       "      <td>0</td>\n",
       "      <td>1958</td>\n",
       "      <td>1</td>\n",
       "      <td>13960.0</td>\n",
       "    </tr>\n",
       "    <tr>\n",
       "      <td>1</td>\n",
       "      <td>1959</td>\n",
       "      <td>1</td>\n",
       "      <td>14769.0</td>\n",
       "    </tr>\n",
       "    <tr>\n",
       "      <td>2</td>\n",
       "      <td>1960</td>\n",
       "      <td>1</td>\n",
       "      <td>16844.0</td>\n",
       "    </tr>\n",
       "    <tr>\n",
       "      <td>3</td>\n",
       "      <td>1961</td>\n",
       "      <td>1</td>\n",
       "      <td>14311.0</td>\n",
       "    </tr>\n",
       "    <tr>\n",
       "      <td>4</td>\n",
       "      <td>1962</td>\n",
       "      <td>1</td>\n",
       "      <td>16941.0</td>\n",
       "    </tr>\n",
       "  </tbody>\n",
       "</table>\n",
       "</div>"
      ],
      "text/plain": [
       "   year variable    value\n",
       "0  1958        1  13960.0\n",
       "1  1959        1  14769.0\n",
       "2  1960        1  16844.0\n",
       "3  1961        1  14311.0\n",
       "4  1962        1  16941.0"
      ]
     },
     "execution_count": 81,
     "metadata": {},
     "output_type": "execute_result"
    }
   ],
   "source": [
    "df_old_mdm = df_old_ship[df_old_ship['ticker'] == 'AMDMVS'].drop('ticker', axis=1)\n",
    "df_old_mt = df_old_mdm.melt(id_vars=['year'])\n",
    "df_old_mt.head()"
   ]
  },
  {
   "cell_type": "code",
   "execution_count": 82,
   "metadata": {},
   "outputs": [],
   "source": [
    "df_old_mt['knowledge_dt'] = df_old_mt.apply(lambda row: \n",
    "                                            get_knowledge_dt(row['year'], row['variable']),\n",
    "                                            axis=1)\n",
    "                                            "
   ]
  },
  {
   "cell_type": "code",
   "execution_count": 92,
   "metadata": {},
   "outputs": [
    {
     "data": {
      "text/html": [
       "<div>\n",
       "<style scoped>\n",
       "    .dataframe tbody tr th:only-of-type {\n",
       "        vertical-align: middle;\n",
       "    }\n",
       "\n",
       "    .dataframe tbody tr th {\n",
       "        vertical-align: top;\n",
       "    }\n",
       "\n",
       "    .dataframe thead th {\n",
       "        text-align: right;\n",
       "    }\n",
       "</style>\n",
       "<table border=\"1\" class=\"dataframe\">\n",
       "  <thead>\n",
       "    <tr style=\"text-align: right;\">\n",
       "      <th></th>\n",
       "      <th>old_shipments</th>\n",
       "    </tr>\n",
       "    <tr>\n",
       "      <th>knowledge_dt</th>\n",
       "      <th></th>\n",
       "    </tr>\n",
       "  </thead>\n",
       "  <tbody>\n",
       "    <tr>\n",
       "      <td>2000-06-25</td>\n",
       "      <td>214890.0</td>\n",
       "    </tr>\n",
       "    <tr>\n",
       "      <td>2000-07-25</td>\n",
       "      <td>217645.0</td>\n",
       "    </tr>\n",
       "    <tr>\n",
       "      <td>2000-08-25</td>\n",
       "      <td>212142.0</td>\n",
       "    </tr>\n",
       "    <tr>\n",
       "      <td>2000-09-25</td>\n",
       "      <td>214018.0</td>\n",
       "    </tr>\n",
       "    <tr>\n",
       "      <td>2000-10-25</td>\n",
       "      <td>214165.0</td>\n",
       "    </tr>\n",
       "    <tr>\n",
       "      <td>2000-11-25</td>\n",
       "      <td>209833.0</td>\n",
       "    </tr>\n",
       "    <tr>\n",
       "      <td>2000-12-25</td>\n",
       "      <td>207715.0</td>\n",
       "    </tr>\n",
       "    <tr>\n",
       "      <td>2001-01-25</td>\n",
       "      <td>206588.0</td>\n",
       "    </tr>\n",
       "    <tr>\n",
       "      <td>2001-02-25</td>\n",
       "      <td>201519.0</td>\n",
       "    </tr>\n",
       "    <tr>\n",
       "      <td>2001-03-25</td>\n",
       "      <td>200406.0</td>\n",
       "    </tr>\n",
       "    <tr>\n",
       "      <td>2001-04-25</td>\n",
       "      <td>201966.0</td>\n",
       "    </tr>\n",
       "    <tr>\n",
       "      <td>2001-05-25</td>\n",
       "      <td>NaN</td>\n",
       "    </tr>\n",
       "    <tr>\n",
       "      <td>2001-06-25</td>\n",
       "      <td>NaN</td>\n",
       "    </tr>\n",
       "    <tr>\n",
       "      <td>2001-07-25</td>\n",
       "      <td>NaN</td>\n",
       "    </tr>\n",
       "    <tr>\n",
       "      <td>2001-08-25</td>\n",
       "      <td>NaN</td>\n",
       "    </tr>\n",
       "    <tr>\n",
       "      <td>2001-09-25</td>\n",
       "      <td>NaN</td>\n",
       "    </tr>\n",
       "    <tr>\n",
       "      <td>2001-10-25</td>\n",
       "      <td>NaN</td>\n",
       "    </tr>\n",
       "    <tr>\n",
       "      <td>2001-11-25</td>\n",
       "      <td>NaN</td>\n",
       "    </tr>\n",
       "    <tr>\n",
       "      <td>2001-12-25</td>\n",
       "      <td>NaN</td>\n",
       "    </tr>\n",
       "    <tr>\n",
       "      <td>2002-01-25</td>\n",
       "      <td>NaN</td>\n",
       "    </tr>\n",
       "  </tbody>\n",
       "</table>\n",
       "</div>"
      ],
      "text/plain": [
       "              old_shipments\n",
       "knowledge_dt               \n",
       "2000-06-25         214890.0\n",
       "2000-07-25         217645.0\n",
       "2000-08-25         212142.0\n",
       "2000-09-25         214018.0\n",
       "2000-10-25         214165.0\n",
       "2000-11-25         209833.0\n",
       "2000-12-25         207715.0\n",
       "2001-01-25         206588.0\n",
       "2001-02-25         201519.0\n",
       "2001-03-25         200406.0\n",
       "2001-04-25         201966.0\n",
       "2001-05-25              NaN\n",
       "2001-06-25              NaN\n",
       "2001-07-25              NaN\n",
       "2001-08-25              NaN\n",
       "2001-09-25              NaN\n",
       "2001-10-25              NaN\n",
       "2001-11-25              NaN\n",
       "2001-12-25              NaN\n",
       "2002-01-25              NaN"
      ]
     },
     "execution_count": 92,
     "metadata": {},
     "output_type": "execute_result"
    }
   ],
   "source": [
    "df_old_res = df_old_mt.set_index('knowledge_dt')[['value']].rename(columns={'value': \n",
    "                                                                             'old_shipments'}).sort_index()\n",
    "df_old_res.tail(20)"
   ]
  },
  {
   "cell_type": "markdown",
   "metadata": {},
   "source": [
    "### both shipping"
   ]
  },
  {
   "cell_type": "code",
   "execution_count": 93,
   "metadata": {},
   "outputs": [],
   "source": [
    "df_ship_combined = df_old_res.join(df_ship_res, how='outer')"
   ]
  },
  {
   "cell_type": "code",
   "execution_count": 96,
   "metadata": {},
   "outputs": [
    {
     "data": {
      "image/png": "[encoded data removed]",
      "text/plain": [
       "<Figure size 432x288 with 1 Axes>"
      ]
     },
     "metadata": {
      "needs_background": "light"
     },
     "output_type": "display_data"
    }
   ],
   "source": [
    "df_ship_combined.plot();plt.show()"
   ]
  },
  {
   "cell_type": "code",
   "execution_count": 99,
   "metadata": {},
   "outputs": [],
   "source": [
    "df_ship_combined['filled_shipments'] = df_ship_combined.apply(lambda row: \n",
    "                                                              row['old_shipments'] \n",
    "                                                              if pd.isnull(row['shipments'])\n",
    "                                                             else row['shipments'],\n",
    "                                                             axis=1)"
   ]
  },
  {
   "cell_type": "code",
   "execution_count": 102,
   "metadata": {},
   "outputs": [
    {
     "data": {
      "image/png": "[encoded data removed]",
      "text/plain": [
       "<Figure size 432x288 with 1 Axes>"
      ]
     },
     "metadata": {
      "needs_background": "light"
     },
     "output_type": "display_data"
    }
   ],
   "source": [
    "df_ship_combined[['filled_shipments']].plot(); plt.show()"
   ]
  },
  {
   "cell_type": "markdown",
   "metadata": {},
   "source": [
    "## Old orders"
   ]
  },
  {
   "cell_type": "code",
   "execution_count": 103,
   "metadata": {},
   "outputs": [
    {
     "data": {
      "text/html": [
       "<div>\n",
       "<style scoped>\n",
       "    .dataframe tbody tr th:only-of-type {\n",
       "        vertical-align: middle;\n",
       "    }\n",
       "\n",
       "    .dataframe tbody tr th {\n",
       "        vertical-align: top;\n",
       "    }\n",
       "\n",
       "    .dataframe thead th {\n",
       "        text-align: right;\n",
       "    }\n",
       "</style>\n",
       "<table border=\"1\" class=\"dataframe\">\n",
       "  <thead>\n",
       "    <tr style=\"text-align: right;\">\n",
       "      <th></th>\n",
       "      <th>ticker</th>\n",
       "      <th>year</th>\n",
       "      <th>1</th>\n",
       "      <th>2</th>\n",
       "      <th>3</th>\n",
       "      <th>4</th>\n",
       "      <th>5</th>\n",
       "      <th>6</th>\n",
       "      <th>7</th>\n",
       "      <th>8</th>\n",
       "      <th>9</th>\n",
       "      <th>10</th>\n",
       "      <th>11</th>\n",
       "      <th>12</th>\n",
       "    </tr>\n",
       "  </thead>\n",
       "  <tbody>\n",
       "    <tr>\n",
       "      <td>0</td>\n",
       "      <td>A32MNO</td>\n",
       "      <td>1958</td>\n",
       "      <td>NaN</td>\n",
       "      <td>725</td>\n",
       "      <td>712</td>\n",
       "      <td>717.0</td>\n",
       "      <td>741.0</td>\n",
       "      <td>734.0</td>\n",
       "      <td>815.0</td>\n",
       "      <td>819.0</td>\n",
       "      <td>880.0</td>\n",
       "      <td>873.0</td>\n",
       "      <td>918.0</td>\n",
       "      <td>852.0</td>\n",
       "    </tr>\n",
       "    <tr>\n",
       "      <td>1</td>\n",
       "      <td>A32MNO</td>\n",
       "      <td>1959</td>\n",
       "      <td>898.0</td>\n",
       "      <td>935</td>\n",
       "      <td>955</td>\n",
       "      <td>948.0</td>\n",
       "      <td>931.0</td>\n",
       "      <td>930.0</td>\n",
       "      <td>966.0</td>\n",
       "      <td>973.0</td>\n",
       "      <td>876.0</td>\n",
       "      <td>913.0</td>\n",
       "      <td>899.0</td>\n",
       "      <td>933.0</td>\n",
       "    </tr>\n",
       "    <tr>\n",
       "      <td>2</td>\n",
       "      <td>A32MNO</td>\n",
       "      <td>1960</td>\n",
       "      <td>1082.0</td>\n",
       "      <td>1073</td>\n",
       "      <td>851</td>\n",
       "      <td>891.0</td>\n",
       "      <td>902.0</td>\n",
       "      <td>877.0</td>\n",
       "      <td>848.0</td>\n",
       "      <td>876.0</td>\n",
       "      <td>892.0</td>\n",
       "      <td>840.0</td>\n",
       "      <td>798.0</td>\n",
       "      <td>926.0</td>\n",
       "    </tr>\n",
       "    <tr>\n",
       "      <td>3</td>\n",
       "      <td>A32MNO</td>\n",
       "      <td>1961</td>\n",
       "      <td>752.0</td>\n",
       "      <td>773</td>\n",
       "      <td>889</td>\n",
       "      <td>842.0</td>\n",
       "      <td>879.0</td>\n",
       "      <td>961.0</td>\n",
       "      <td>940.0</td>\n",
       "      <td>942.0</td>\n",
       "      <td>951.0</td>\n",
       "      <td>933.0</td>\n",
       "      <td>946.0</td>\n",
       "      <td>873.0</td>\n",
       "    </tr>\n",
       "    <tr>\n",
       "      <td>4</td>\n",
       "      <td>A32MNO</td>\n",
       "      <td>1962</td>\n",
       "      <td>893.0</td>\n",
       "      <td>899</td>\n",
       "      <td>902</td>\n",
       "      <td>1000.0</td>\n",
       "      <td>934.0</td>\n",
       "      <td>945.0</td>\n",
       "      <td>918.0</td>\n",
       "      <td>957.0</td>\n",
       "      <td>934.0</td>\n",
       "      <td>970.0</td>\n",
       "      <td>982.0</td>\n",
       "      <td>992.0</td>\n",
       "    </tr>\n",
       "  </tbody>\n",
       "</table>\n",
       "</div>"
      ],
      "text/plain": [
       "   ticker  year       1     2    3       4      5      6      7      8      9  \\\n",
       "0  A32MNO  1958     NaN   725  712   717.0  741.0  734.0  815.0  819.0  880.0   \n",
       "1  A32MNO  1959   898.0   935  955   948.0  931.0  930.0  966.0  973.0  876.0   \n",
       "2  A32MNO  1960  1082.0  1073  851   891.0  902.0  877.0  848.0  876.0  892.0   \n",
       "3  A32MNO  1961   752.0   773  889   842.0  879.0  961.0  940.0  942.0  951.0   \n",
       "4  A32MNO  1962   893.0   899  902  1000.0  934.0  945.0  918.0  957.0  934.0   \n",
       "\n",
       "      10     11     12  \n",
       "0  873.0  918.0  852.0  \n",
       "1  913.0  899.0  933.0  \n",
       "2  840.0  798.0  926.0  \n",
       "3  933.0  946.0  873.0  \n",
       "4  970.0  982.0  992.0  "
      ]
     },
     "execution_count": 103,
     "metadata": {},
     "output_type": "execute_result"
    }
   ],
   "source": [
    "df_old_order = pd.read_excel('raw_data/nos/nop.xls', header=None)\n",
    "df_old_order.columns = ['ticker', \n",
    "                         'year', \n",
    "                          1,\n",
    "                          2,\n",
    "                          3,\n",
    "                          4,\n",
    "                          5,\n",
    "                          6,\n",
    "                          7,\n",
    "                          8,\n",
    "                          9,\n",
    "                          10,\n",
    "                          11,\n",
    "                          12]\n",
    "df_old_order.head()"
   ]
  },
  {
   "cell_type": "code",
   "execution_count": 107,
   "metadata": {},
   "outputs": [
    {
     "data": {
      "text/html": [
       "<div>\n",
       "<style scoped>\n",
       "    .dataframe tbody tr th:only-of-type {\n",
       "        vertical-align: middle;\n",
       "    }\n",
       "\n",
       "    .dataframe tbody tr th {\n",
       "        vertical-align: top;\n",
       "    }\n",
       "\n",
       "    .dataframe thead th {\n",
       "        text-align: right;\n",
       "    }\n",
       "</style>\n",
       "<table border=\"1\" class=\"dataframe\">\n",
       "  <thead>\n",
       "    <tr style=\"text-align: right;\">\n",
       "      <th></th>\n",
       "      <th>year</th>\n",
       "      <th>variable</th>\n",
       "      <th>value</th>\n",
       "    </tr>\n",
       "  </thead>\n",
       "  <tbody>\n",
       "    <tr>\n",
       "      <td>0</td>\n",
       "      <td>1958</td>\n",
       "      <td>1</td>\n",
       "      <td>NaN</td>\n",
       "    </tr>\n",
       "    <tr>\n",
       "      <td>1</td>\n",
       "      <td>1959</td>\n",
       "      <td>1</td>\n",
       "      <td>15647.0</td>\n",
       "    </tr>\n",
       "    <tr>\n",
       "      <td>2</td>\n",
       "      <td>1960</td>\n",
       "      <td>1</td>\n",
       "      <td>15507.0</td>\n",
       "    </tr>\n",
       "    <tr>\n",
       "      <td>3</td>\n",
       "      <td>1961</td>\n",
       "      <td>1</td>\n",
       "      <td>14092.0</td>\n",
       "    </tr>\n",
       "    <tr>\n",
       "      <td>4</td>\n",
       "      <td>1962</td>\n",
       "      <td>1</td>\n",
       "      <td>17469.0</td>\n",
       "    </tr>\n",
       "  </tbody>\n",
       "</table>\n",
       "</div>"
      ],
      "text/plain": [
       "   year variable    value\n",
       "0  1958        1      NaN\n",
       "1  1959        1  15647.0\n",
       "2  1960        1  15507.0\n",
       "3  1961        1  14092.0\n",
       "4  1962        1  17469.0"
      ]
     },
     "execution_count": 107,
     "metadata": {},
     "output_type": "execute_result"
    }
   ],
   "source": [
    "df_old_mdm_order = df_old_order[df_old_order['ticker'] == 'AMDMNO'].drop('ticker', axis=1)\n",
    "df_old_mt_order = df_old_mdm_order.melt(id_vars=['year'])\n",
    "df_old_mt_order.head()"
   ]
  },
  {
   "cell_type": "code",
   "execution_count": 108,
   "metadata": {},
   "outputs": [],
   "source": [
    "df_old_mt_order['knowledge_dt'] = df_old_mt_order.apply(lambda row: \n",
    "                                            get_knowledge_dt(row['year'], row['variable']),\n",
    "                                            axis=1)"
   ]
  },
  {
   "cell_type": "code",
   "execution_count": 109,
   "metadata": {},
   "outputs": [
    {
     "data": {
      "text/html": [
       "<div>\n",
       "<style scoped>\n",
       "    .dataframe tbody tr th:only-of-type {\n",
       "        vertical-align: middle;\n",
       "    }\n",
       "\n",
       "    .dataframe tbody tr th {\n",
       "        vertical-align: top;\n",
       "    }\n",
       "\n",
       "    .dataframe thead th {\n",
       "        text-align: right;\n",
       "    }\n",
       "</style>\n",
       "<table border=\"1\" class=\"dataframe\">\n",
       "  <thead>\n",
       "    <tr style=\"text-align: right;\">\n",
       "      <th></th>\n",
       "      <th>old_orders</th>\n",
       "    </tr>\n",
       "    <tr>\n",
       "      <th>knowledge_dt</th>\n",
       "      <th></th>\n",
       "    </tr>\n",
       "  </thead>\n",
       "  <tbody>\n",
       "    <tr>\n",
       "      <td>2000-06-25</td>\n",
       "      <td>221388.0</td>\n",
       "    </tr>\n",
       "    <tr>\n",
       "      <td>2000-07-25</td>\n",
       "      <td>241748.0</td>\n",
       "    </tr>\n",
       "    <tr>\n",
       "      <td>2000-08-25</td>\n",
       "      <td>209877.0</td>\n",
       "    </tr>\n",
       "    <tr>\n",
       "      <td>2000-09-25</td>\n",
       "      <td>215860.0</td>\n",
       "    </tr>\n",
       "    <tr>\n",
       "      <td>2000-10-25</td>\n",
       "      <td>220651.0</td>\n",
       "    </tr>\n",
       "    <tr>\n",
       "      <td>2000-11-25</td>\n",
       "      <td>206060.0</td>\n",
       "    </tr>\n",
       "    <tr>\n",
       "      <td>2000-12-25</td>\n",
       "      <td>212391.0</td>\n",
       "    </tr>\n",
       "    <tr>\n",
       "      <td>2001-01-25</td>\n",
       "      <td>215289.0</td>\n",
       "    </tr>\n",
       "    <tr>\n",
       "      <td>2001-02-25</td>\n",
       "      <td>199560.0</td>\n",
       "    </tr>\n",
       "    <tr>\n",
       "      <td>2001-03-25</td>\n",
       "      <td>199365.0</td>\n",
       "    </tr>\n",
       "    <tr>\n",
       "      <td>2001-04-25</td>\n",
       "      <td>206290.0</td>\n",
       "    </tr>\n",
       "    <tr>\n",
       "      <td>2001-05-25</td>\n",
       "      <td>NaN</td>\n",
       "    </tr>\n",
       "    <tr>\n",
       "      <td>2001-06-25</td>\n",
       "      <td>NaN</td>\n",
       "    </tr>\n",
       "    <tr>\n",
       "      <td>2001-07-25</td>\n",
       "      <td>NaN</td>\n",
       "    </tr>\n",
       "    <tr>\n",
       "      <td>2001-08-25</td>\n",
       "      <td>NaN</td>\n",
       "    </tr>\n",
       "    <tr>\n",
       "      <td>2001-09-25</td>\n",
       "      <td>NaN</td>\n",
       "    </tr>\n",
       "    <tr>\n",
       "      <td>2001-10-25</td>\n",
       "      <td>NaN</td>\n",
       "    </tr>\n",
       "    <tr>\n",
       "      <td>2001-11-25</td>\n",
       "      <td>NaN</td>\n",
       "    </tr>\n",
       "    <tr>\n",
       "      <td>2001-12-25</td>\n",
       "      <td>NaN</td>\n",
       "    </tr>\n",
       "    <tr>\n",
       "      <td>2002-01-25</td>\n",
       "      <td>NaN</td>\n",
       "    </tr>\n",
       "  </tbody>\n",
       "</table>\n",
       "</div>"
      ],
      "text/plain": [
       "              old_orders\n",
       "knowledge_dt            \n",
       "2000-06-25      221388.0\n",
       "2000-07-25      241748.0\n",
       "2000-08-25      209877.0\n",
       "2000-09-25      215860.0\n",
       "2000-10-25      220651.0\n",
       "2000-11-25      206060.0\n",
       "2000-12-25      212391.0\n",
       "2001-01-25      215289.0\n",
       "2001-02-25      199560.0\n",
       "2001-03-25      199365.0\n",
       "2001-04-25      206290.0\n",
       "2001-05-25           NaN\n",
       "2001-06-25           NaN\n",
       "2001-07-25           NaN\n",
       "2001-08-25           NaN\n",
       "2001-09-25           NaN\n",
       "2001-10-25           NaN\n",
       "2001-11-25           NaN\n",
       "2001-12-25           NaN\n",
       "2002-01-25           NaN"
      ]
     },
     "execution_count": 109,
     "metadata": {},
     "output_type": "execute_result"
    }
   ],
   "source": [
    "df_old_res_order = df_old_mt_order.set_index('knowledge_dt')[['value']].rename(columns={'value': \n",
    "                                                                             'old_orders'}).sort_index()\n",
    "df_old_res_order.tail(20)"
   ]
  },
  {
   "cell_type": "markdown",
   "metadata": {},
   "source": [
    "### Both Orders"
   ]
  },
  {
   "cell_type": "code",
   "execution_count": 110,
   "metadata": {},
   "outputs": [],
   "source": [
    "df_order_combined = df_order_res.join(df_old_res_order, how='outer')"
   ]
  },
  {
   "cell_type": "code",
   "execution_count": 111,
   "metadata": {},
   "outputs": [
    {
     "data": {
      "image/png": "[encoded data removed]",
      "text/plain": [
       "<Figure size 432x288 with 1 Axes>"
      ]
     },
     "metadata": {
      "needs_background": "light"
     },
     "output_type": "display_data"
    }
   ],
   "source": [
    "df_order_combined.plot(); plt.show()"
   ]
  },
  {
   "cell_type": "code",
   "execution_count": 113,
   "metadata": {},
   "outputs": [],
   "source": [
    "df_order_combined['filled_orders'] = df_order_combined.apply(lambda row: \n",
    "                                                              row['old_orders'] \n",
    "                                                              if pd.isnull(row['orders'])\n",
    "                                                             else row['orders'],\n",
    "                                                             axis=1)"
   ]
  },
  {
   "cell_type": "code",
   "execution_count": 116,
   "metadata": {},
   "outputs": [
    {
     "data": {
      "image/png": "[encoded data removed]",
      "text/plain": [
       "<Figure size 432x288 with 1 Axes>"
      ]
     },
     "metadata": {
      "needs_background": "light"
     },
     "output_type": "display_data"
    }
   ],
   "source": [
    "df_order_combined[['filled_orders']].plot();plt.show()"
   ]
  },
  {
   "cell_type": "markdown",
   "metadata": {},
   "source": [
    "### final DF"
   ]
  },
  {
   "cell_type": "code",
   "execution_count": 124,
   "metadata": {},
   "outputs": [],
   "source": [
    "df_comb_final = df_order_combined[['filled_orders']].join(df_ship_combined[['filled_shipments']]).dropna()"
   ]
  },
  {
   "cell_type": "code",
   "execution_count": 126,
   "metadata": {},
   "outputs": [],
   "source": [
    "df_comb_final['nos'] = np.log(df_comb_final['filled_orders'] / df_comb_final['filled_shipments'])"
   ]
  },
  {
   "cell_type": "code",
   "execution_count": 127,
   "metadata": {},
   "outputs": [
    {
     "data": {
      "text/plain": [
       "<matplotlib.axes._subplots.AxesSubplot at 0x126536978>"
      ]
     },
     "execution_count": 127,
     "metadata": {},
     "output_type": "execute_result"
    },
    {
     "data": {
      "image/png": "[encoded data removed]",
      "text/plain": [
       "<Figure size 432x288 with 1 Axes>"
      ]
     },
     "metadata": {
      "needs_background": "light"
     },
     "output_type": "display_data"
    }
   ],
   "source": [
    "df_comb_final[['nos']].plot()"
   ]
  },
  {
   "cell_type": "code",
   "execution_count": 128,
   "metadata": {},
   "outputs": [],
   "source": [
    "df_comb_final[['nos']].to_pickle('out_data/NOS.pkl')"
   ]
  },
  {
   "cell_type": "markdown",
   "metadata": {},
   "source": [
    "### CPI"
   ]
  },
  {
   "cell_type": "code",
   "execution_count": 28,
   "metadata": {},
   "outputs": [
    {
     "data": {
      "text/html": [
       "<div>\n",
       "<style scoped>\n",
       "    .dataframe tbody tr th:only-of-type {\n",
       "        vertical-align: middle;\n",
       "    }\n",
       "\n",
       "    .dataframe tbody tr th {\n",
       "        vertical-align: top;\n",
       "    }\n",
       "\n",
       "    .dataframe thead th {\n",
       "        text-align: right;\n",
       "    }\n",
       "</style>\n",
       "<table border=\"1\" class=\"dataframe\">\n",
       "  <thead>\n",
       "    <tr style=\"text-align: right;\">\n",
       "      <th></th>\n",
       "      <th>CPIAUCSL</th>\n",
       "    </tr>\n",
       "    <tr>\n",
       "      <th>DATE</th>\n",
       "      <th></th>\n",
       "    </tr>\n",
       "  </thead>\n",
       "  <tbody>\n",
       "    <tr>\n",
       "      <td>2019-05-01</td>\n",
       "      <td>255.155</td>\n",
       "    </tr>\n",
       "    <tr>\n",
       "      <td>2019-06-01</td>\n",
       "      <td>255.305</td>\n",
       "    </tr>\n",
       "    <tr>\n",
       "      <td>2019-07-01</td>\n",
       "      <td>256.161</td>\n",
       "    </tr>\n",
       "    <tr>\n",
       "      <td>2019-08-01</td>\n",
       "      <td>256.300</td>\n",
       "    </tr>\n",
       "    <tr>\n",
       "      <td>2019-09-01</td>\n",
       "      <td>256.358</td>\n",
       "    </tr>\n",
       "  </tbody>\n",
       "</table>\n",
       "</div>"
      ],
      "text/plain": [
       "            CPIAUCSL\n",
       "DATE                \n",
       "2019-05-01   255.155\n",
       "2019-06-01   255.305\n",
       "2019-07-01   256.161\n",
       "2019-08-01   256.300\n",
       "2019-09-01   256.358"
      ]
     },
     "execution_count": 28,
     "metadata": {},
     "output_type": "execute_result"
    }
   ],
   "source": [
    "df_cpi = pd.read_csv('raw_data/cpi/CPIAUCSL.csv', parse_dates=['DATE'], index_col='DATE')\n",
    "df_cpi.tail()"
   ]
  },
  {
   "cell_type": "code",
   "execution_count": 131,
   "metadata": {},
   "outputs": [],
   "source": [
    "df_cpi_out = dt_index.join(df_cpi.resample('D').ffill(), how='left').dropna()"
   ]
  },
  {
   "cell_type": "code",
   "execution_count": 137,
   "metadata": {},
   "outputs": [],
   "source": [
    "df_cpi_out['year'] = df_cpi_out.reset_index()['date'].apply(lambda x: x.year).values"
   ]
  },
  {
   "cell_type": "code",
   "execution_count": 139,
   "metadata": {},
   "outputs": [
    {
     "data": {
      "text/plain": [
       "year\n",
       "1990    143\n",
       "1991    253\n",
       "1992    254\n",
       "1993    253\n",
       "1994    252\n",
       "1995    252\n",
       "1996    254\n",
       "1997    253\n",
       "1998    252\n",
       "1999    252\n",
       "2000    252\n",
       "2001    248\n",
       "2002    252\n",
       "2003    252\n",
       "2004    252\n",
       "2005    252\n",
       "2006    251\n",
       "2007    251\n",
       "2008    253\n",
       "2009    252\n",
       "2010    252\n",
       "2011    252\n",
       "2012    250\n",
       "2013    252\n",
       "2014    252\n",
       "2015    252\n",
       "2016    252\n",
       "2017    251\n",
       "2018    251\n",
       "2019    168\n",
       "dtype: int64"
      ]
     },
     "execution_count": 139,
     "metadata": {},
     "output_type": "execute_result"
    }
   ],
   "source": [
    "df_cpi_out.groupby('year').size()"
   ]
  },
  {
   "cell_type": "code",
   "execution_count": 132,
   "metadata": {},
   "outputs": [
    {
     "data": {
      "text/html": [
       "<div>\n",
       "<style scoped>\n",
       "    .dataframe tbody tr th:only-of-type {\n",
       "        vertical-align: middle;\n",
       "    }\n",
       "\n",
       "    .dataframe tbody tr th {\n",
       "        vertical-align: top;\n",
       "    }\n",
       "\n",
       "    .dataframe thead th {\n",
       "        text-align: right;\n",
       "    }\n",
       "</style>\n",
       "<table border=\"1\" class=\"dataframe\">\n",
       "  <thead>\n",
       "    <tr style=\"text-align: right;\">\n",
       "      <th></th>\n",
       "      <th>CPIAUCSL</th>\n",
       "    </tr>\n",
       "    <tr>\n",
       "      <th>date</th>\n",
       "      <th></th>\n",
       "    </tr>\n",
       "  </thead>\n",
       "  <tbody>\n",
       "    <tr>\n",
       "      <td>1990-06-08</td>\n",
       "      <td>129.9</td>\n",
       "    </tr>\n",
       "    <tr>\n",
       "      <td>1990-06-11</td>\n",
       "      <td>129.9</td>\n",
       "    </tr>\n",
       "    <tr>\n",
       "      <td>1990-06-12</td>\n",
       "      <td>129.9</td>\n",
       "    </tr>\n",
       "    <tr>\n",
       "      <td>1990-06-13</td>\n",
       "      <td>129.9</td>\n",
       "    </tr>\n",
       "    <tr>\n",
       "      <td>1990-06-14</td>\n",
       "      <td>129.9</td>\n",
       "    </tr>\n",
       "    <tr>\n",
       "      <td>...</td>\n",
       "      <td>...</td>\n",
       "    </tr>\n",
       "    <tr>\n",
       "      <td>2019-08-26</td>\n",
       "      <td>256.3</td>\n",
       "    </tr>\n",
       "    <tr>\n",
       "      <td>2019-08-27</td>\n",
       "      <td>256.3</td>\n",
       "    </tr>\n",
       "    <tr>\n",
       "      <td>2019-08-28</td>\n",
       "      <td>256.3</td>\n",
       "    </tr>\n",
       "    <tr>\n",
       "      <td>2019-08-29</td>\n",
       "      <td>256.3</td>\n",
       "    </tr>\n",
       "    <tr>\n",
       "      <td>2019-08-30</td>\n",
       "      <td>256.3</td>\n",
       "    </tr>\n",
       "  </tbody>\n",
       "</table>\n",
       "<p>7365 rows × 1 columns</p>\n",
       "</div>"
      ],
      "text/plain": [
       "            CPIAUCSL\n",
       "date                \n",
       "1990-06-08     129.9\n",
       "1990-06-11     129.9\n",
       "1990-06-12     129.9\n",
       "1990-06-13     129.9\n",
       "1990-06-14     129.9\n",
       "...              ...\n",
       "2019-08-26     256.3\n",
       "2019-08-27     256.3\n",
       "2019-08-28     256.3\n",
       "2019-08-29     256.3\n",
       "2019-08-30     256.3\n",
       "\n",
       "[7365 rows x 1 columns]"
      ]
     },
     "execution_count": 132,
     "metadata": {},
     "output_type": "execute_result"
    }
   ],
   "source": [
    "df_cpi_out / df_cpi_out.sh"
   ]
  },
  {
   "cell_type": "code",
   "execution_count": 31,
   "metadata": {},
   "outputs": [],
   "source": [
    "df_cpi_out.to_pickle('out_data/CPI.pkl')"
   ]
  },
  {
   "cell_type": "markdown",
   "metadata": {},
   "source": [
    "### Short Interest"
   ]
  },
  {
   "cell_type": "code",
   "execution_count": 34,
   "metadata": {},
   "outputs": [
    {
     "data": {
      "text/html": [
       "<div>\n",
       "<style scoped>\n",
       "    .dataframe tbody tr th:only-of-type {\n",
       "        vertical-align: middle;\n",
       "    }\n",
       "\n",
       "    .dataframe tbody tr th {\n",
       "        vertical-align: top;\n",
       "    }\n",
       "\n",
       "    .dataframe thead th {\n",
       "        text-align: right;\n",
       "    }\n",
       "</style>\n",
       "<table border=\"1\" class=\"dataframe\">\n",
       "  <thead>\n",
       "    <tr style=\"text-align: right;\">\n",
       "      <th></th>\n",
       "      <th>ShortVolume</th>\n",
       "      <th>ShortExemptVolume</th>\n",
       "      <th>TotalVolume</th>\n",
       "    </tr>\n",
       "    <tr>\n",
       "      <th>Date</th>\n",
       "      <th></th>\n",
       "      <th></th>\n",
       "      <th></th>\n",
       "    </tr>\n",
       "  </thead>\n",
       "  <tbody>\n",
       "    <tr>\n",
       "      <td>2013-04-01</td>\n",
       "      <td>102793.0</td>\n",
       "      <td>0.0</td>\n",
       "      <td>131746.0</td>\n",
       "    </tr>\n",
       "    <tr>\n",
       "      <td>2013-04-02</td>\n",
       "      <td>76593.0</td>\n",
       "      <td>0.0</td>\n",
       "      <td>92582.0</td>\n",
       "    </tr>\n",
       "    <tr>\n",
       "      <td>2013-04-03</td>\n",
       "      <td>121932.0</td>\n",
       "      <td>0.0</td>\n",
       "      <td>157882.0</td>\n",
       "    </tr>\n",
       "    <tr>\n",
       "      <td>2013-04-04</td>\n",
       "      <td>76659.0</td>\n",
       "      <td>0.0</td>\n",
       "      <td>94772.0</td>\n",
       "    </tr>\n",
       "    <tr>\n",
       "      <td>2013-04-05</td>\n",
       "      <td>53614.0</td>\n",
       "      <td>0.0</td>\n",
       "      <td>80414.0</td>\n",
       "    </tr>\n",
       "  </tbody>\n",
       "</table>\n",
       "</div>"
      ],
      "text/plain": [
       "            ShortVolume  ShortExemptVolume  TotalVolume\n",
       "Date                                                   \n",
       "2013-04-01     102793.0                0.0     131746.0\n",
       "2013-04-02      76593.0                0.0      92582.0\n",
       "2013-04-03     121932.0                0.0     157882.0\n",
       "2013-04-04      76659.0                0.0      94772.0\n",
       "2013-04-05      53614.0                0.0      80414.0"
      ]
     },
     "execution_count": 34,
     "metadata": {},
     "output_type": "execute_result"
    }
   ],
   "source": [
    "df_si = pd.read_csv('raw_data/si/FINRA-FNYX_MNKD.csv', parse_dates=['Date'], index_col='Date').sort_index()\n",
    "df_si.head()"
   ]
  },
  {
   "cell_type": "code",
   "execution_count": null,
   "metadata": {},
   "outputs": [],
   "source": []
  }
 ],
 "metadata": {
  "kernelspec": {
   "display_name": "Python 3",
   "language": "python",
   "name": "python3"
  },
  "language_info": {
   "codemirror_mode": {
    "name": "ipython",
    "version": 3
   },
   "file_extension": ".py",
   "mimetype": "text/x-python",
   "name": "python",
   "nbconvert_exporter": "python",
   "pygments_lexer": "ipython3",
   "version": "3.6.9"
  }
 },
 "nbformat": 4,
 "nbformat_minor": 2
}
