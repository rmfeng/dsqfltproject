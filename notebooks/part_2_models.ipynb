{
 "cells": [
  {
   "cell_type": "code",
   "execution_count": 1,
   "metadata": {},
   "outputs": [],
   "source": [
    "import pandas as pd\n",
    "import matplotlib.pyplot as plt\n",
    "from sklearn.linear_model import SGDClassifier\n",
    "from sklearn.base import BaseEstimator, TransformerMixin\n",
    "from sklearn.pipeline import Pipeline, make_pipeline, FeatureUnion\n",
    "from sklearn import metrics\n",
    "from sklearn.model_selection import StratifiedShuffleSplit, GridSearchCV\n",
    "from sklearn.impute import SimpleImputer\n",
    "from sklearn.preprocessing import StandardScaler\n",
    "from sklearn.calibration import CalibratedClassifierCV\n",
    "import datetime\n",
    "import warnings\n",
    "import numpy as np\n",
    "from time import time\n",
    "warnings.filterwarnings('ignore')\n",
    "\n",
    "plt.style.use('ggplot')"
   ]
  },
  {
   "cell_type": "code",
   "execution_count": 2,
   "metadata": {},
   "outputs": [
    {
     "data": {
      "text/html": [
       "<div>\n",
       "<style scoped>\n",
       "    .dataframe tbody tr th:only-of-type {\n",
       "        vertical-align: middle;\n",
       "    }\n",
       "\n",
       "    .dataframe tbody tr th {\n",
       "        vertical-align: top;\n",
       "    }\n",
       "\n",
       "    .dataframe thead th {\n",
       "        text-align: right;\n",
       "    }\n",
       "</style>\n",
       "<table border=\"1\" class=\"dataframe\">\n",
       "  <thead>\n",
       "    <tr style=\"text-align: right;\">\n",
       "      <th></th>\n",
       "      <th></th>\n",
       "      <th></th>\n",
       "      <th>-30</th>\n",
       "      <th>-29</th>\n",
       "      <th>-28</th>\n",
       "      <th>-27</th>\n",
       "      <th>-26</th>\n",
       "      <th>-25</th>\n",
       "      <th>-24</th>\n",
       "      <th>-23</th>\n",
       "      <th>-22</th>\n",
       "      <th>-21</th>\n",
       "      <th>...</th>\n",
       "      <th>ern_date</th>\n",
       "      <th>actual_ern_value</th>\n",
       "      <th>median_surprise</th>\n",
       "      <th>mean_surprise</th>\n",
       "      <th>forecast_skew</th>\n",
       "      <th>forecast_kurt</th>\n",
       "      <th>std</th>\n",
       "      <th>filled_std</th>\n",
       "      <th>forecast_count</th>\n",
       "      <th>forecast_range</th>\n",
       "    </tr>\n",
       "    <tr>\n",
       "      <th>ticker</th>\n",
       "      <th>ann_date</th>\n",
       "      <th>quarternum</th>\n",
       "      <th></th>\n",
       "      <th></th>\n",
       "      <th></th>\n",
       "      <th></th>\n",
       "      <th></th>\n",
       "      <th></th>\n",
       "      <th></th>\n",
       "      <th></th>\n",
       "      <th></th>\n",
       "      <th></th>\n",
       "      <th></th>\n",
       "      <th></th>\n",
       "      <th></th>\n",
       "      <th></th>\n",
       "      <th></th>\n",
       "      <th></th>\n",
       "      <th></th>\n",
       "      <th></th>\n",
       "      <th></th>\n",
       "      <th></th>\n",
       "      <th></th>\n",
       "    </tr>\n",
       "  </thead>\n",
       "  <tbody>\n",
       "    <tr>\n",
       "      <td rowspan=\"2\" valign=\"top\">KEY</td>\n",
       "      <td>1993-10-15</td>\n",
       "      <td>3</td>\n",
       "      <td>0.875159</td>\n",
       "      <td>0.880255</td>\n",
       "      <td>0.876433</td>\n",
       "      <td>0.876433</td>\n",
       "      <td>0.896815</td>\n",
       "      <td>0.910828</td>\n",
       "      <td>0.929936</td>\n",
       "      <td>0.908280</td>\n",
       "      <td>0.942675</td>\n",
       "      <td>0.960510</td>\n",
       "      <td>...</td>\n",
       "      <td>19930930</td>\n",
       "      <td>0.97</td>\n",
       "      <td>NaN</td>\n",
       "      <td>NaN</td>\n",
       "      <td>NaN</td>\n",
       "      <td>NaN</td>\n",
       "      <td>NaN</td>\n",
       "      <td>NaN</td>\n",
       "      <td>1.0</td>\n",
       "      <td>0.00</td>\n",
       "    </tr>\n",
       "    <tr>\n",
       "      <td>1994-01-21</td>\n",
       "      <td>1</td>\n",
       "      <td>1.138627</td>\n",
       "      <td>1.114401</td>\n",
       "      <td>1.153432</td>\n",
       "      <td>1.150740</td>\n",
       "      <td>1.141319</td>\n",
       "      <td>1.119785</td>\n",
       "      <td>1.126514</td>\n",
       "      <td>1.149394</td>\n",
       "      <td>1.177658</td>\n",
       "      <td>1.183042</td>\n",
       "      <td>...</td>\n",
       "      <td>19931231</td>\n",
       "      <td>1.01</td>\n",
       "      <td>NaN</td>\n",
       "      <td>NaN</td>\n",
       "      <td>NaN</td>\n",
       "      <td>NaN</td>\n",
       "      <td>NaN</td>\n",
       "      <td>NaN</td>\n",
       "      <td>1.0</td>\n",
       "      <td>0.00</td>\n",
       "    </tr>\n",
       "    <tr>\n",
       "      <td>CCK</td>\n",
       "      <td>1995-10-18</td>\n",
       "      <td>3</td>\n",
       "      <td>0.771429</td>\n",
       "      <td>0.757147</td>\n",
       "      <td>0.771429</td>\n",
       "      <td>0.771429</td>\n",
       "      <td>0.771429</td>\n",
       "      <td>0.771429</td>\n",
       "      <td>0.771429</td>\n",
       "      <td>0.771429</td>\n",
       "      <td>0.785719</td>\n",
       "      <td>0.828571</td>\n",
       "      <td>...</td>\n",
       "      <td>19950930</td>\n",
       "      <td>0.38</td>\n",
       "      <td>6.717514</td>\n",
       "      <td>6.717514</td>\n",
       "      <td>0.0</td>\n",
       "      <td>0.707107</td>\n",
       "      <td>0.056569</td>\n",
       "      <td>0.056569</td>\n",
       "      <td>2.0</td>\n",
       "      <td>0.08</td>\n",
       "    </tr>\n",
       "    <tr>\n",
       "      <td>F</td>\n",
       "      <td>1996-01-31</td>\n",
       "      <td>1</td>\n",
       "      <td>0.937453</td>\n",
       "      <td>0.930725</td>\n",
       "      <td>0.943932</td>\n",
       "      <td>0.946923</td>\n",
       "      <td>0.960877</td>\n",
       "      <td>0.964366</td>\n",
       "      <td>0.963369</td>\n",
       "      <td>0.966110</td>\n",
       "      <td>0.948168</td>\n",
       "      <td>0.959382</td>\n",
       "      <td>...</td>\n",
       "      <td>19951231</td>\n",
       "      <td>0.29</td>\n",
       "      <td>19.014636</td>\n",
       "      <td>19.014636</td>\n",
       "      <td>0.0</td>\n",
       "      <td>0.000000</td>\n",
       "      <td>NaN</td>\n",
       "      <td>0.008415</td>\n",
       "      <td>1.0</td>\n",
       "      <td>0.00</td>\n",
       "    </tr>\n",
       "    <tr>\n",
       "      <td>NOVL</td>\n",
       "      <td>1996-02-21</td>\n",
       "      <td>1</td>\n",
       "      <td>0.965263</td>\n",
       "      <td>0.966316</td>\n",
       "      <td>0.949474</td>\n",
       "      <td>0.995789</td>\n",
       "      <td>0.965263</td>\n",
       "      <td>0.972632</td>\n",
       "      <td>0.980000</td>\n",
       "      <td>0.991579</td>\n",
       "      <td>0.970526</td>\n",
       "      <td>0.983158</td>\n",
       "      <td>...</td>\n",
       "      <td>19960131</td>\n",
       "      <td>0.17</td>\n",
       "      <td>NaN</td>\n",
       "      <td>NaN</td>\n",
       "      <td>NaN</td>\n",
       "      <td>NaN</td>\n",
       "      <td>NaN</td>\n",
       "      <td>NaN</td>\n",
       "      <td>1.0</td>\n",
       "      <td>0.00</td>\n",
       "    </tr>\n",
       "  </tbody>\n",
       "</table>\n",
       "<p>5 rows × 72 columns</p>\n",
       "</div>"
      ],
      "text/plain": [
       "                                   -30       -29       -28       -27  \\\n",
       "ticker ann_date   quarternum                                           \n",
       "KEY    1993-10-15 3           0.875159  0.880255  0.876433  0.876433   \n",
       "       1994-01-21 1           1.138627  1.114401  1.153432  1.150740   \n",
       "CCK    1995-10-18 3           0.771429  0.757147  0.771429  0.771429   \n",
       "F      1996-01-31 1           0.937453  0.930725  0.943932  0.946923   \n",
       "NOVL   1996-02-21 1           0.965263  0.966316  0.949474  0.995789   \n",
       "\n",
       "                                   -26       -25       -24       -23  \\\n",
       "ticker ann_date   quarternum                                           \n",
       "KEY    1993-10-15 3           0.896815  0.910828  0.929936  0.908280   \n",
       "       1994-01-21 1           1.141319  1.119785  1.126514  1.149394   \n",
       "CCK    1995-10-18 3           0.771429  0.771429  0.771429  0.771429   \n",
       "F      1996-01-31 1           0.960877  0.964366  0.963369  0.966110   \n",
       "NOVL   1996-02-21 1           0.965263  0.972632  0.980000  0.991579   \n",
       "\n",
       "                                   -22       -21  ...  ern_date  \\\n",
       "ticker ann_date   quarternum                      ...             \n",
       "KEY    1993-10-15 3           0.942675  0.960510  ...  19930930   \n",
       "       1994-01-21 1           1.177658  1.183042  ...  19931231   \n",
       "CCK    1995-10-18 3           0.785719  0.828571  ...  19950930   \n",
       "F      1996-01-31 1           0.948168  0.959382  ...  19951231   \n",
       "NOVL   1996-02-21 1           0.970526  0.983158  ...  19960131   \n",
       "\n",
       "                              actual_ern_value  median_surprise  \\\n",
       "ticker ann_date   quarternum                                      \n",
       "KEY    1993-10-15 3                       0.97              NaN   \n",
       "       1994-01-21 1                       1.01              NaN   \n",
       "CCK    1995-10-18 3                       0.38         6.717514   \n",
       "F      1996-01-31 1                       0.29        19.014636   \n",
       "NOVL   1996-02-21 1                       0.17              NaN   \n",
       "\n",
       "                              mean_surprise  forecast_skew  forecast_kurt  \\\n",
       "ticker ann_date   quarternum                                                \n",
       "KEY    1993-10-15 3                     NaN            NaN            NaN   \n",
       "       1994-01-21 1                     NaN            NaN            NaN   \n",
       "CCK    1995-10-18 3                6.717514            0.0       0.707107   \n",
       "F      1996-01-31 1               19.014636            0.0       0.000000   \n",
       "NOVL   1996-02-21 1                     NaN            NaN            NaN   \n",
       "\n",
       "                                   std  filled_std  forecast_count  \\\n",
       "ticker ann_date   quarternum                                         \n",
       "KEY    1993-10-15 3                NaN         NaN             1.0   \n",
       "       1994-01-21 1                NaN         NaN             1.0   \n",
       "CCK    1995-10-18 3           0.056569    0.056569             2.0   \n",
       "F      1996-01-31 1                NaN    0.008415             1.0   \n",
       "NOVL   1996-02-21 1                NaN         NaN             1.0   \n",
       "\n",
       "                              forecast_range  \n",
       "ticker ann_date   quarternum                  \n",
       "KEY    1993-10-15 3                     0.00  \n",
       "       1994-01-21 1                     0.00  \n",
       "CCK    1995-10-18 3                     0.08  \n",
       "F      1996-01-31 1                     0.00  \n",
       "NOVL   1996-02-21 1                     0.00  \n",
       "\n",
       "[5 rows x 72 columns]"
      ]
     },
     "execution_count": 2,
     "metadata": {},
     "output_type": "execute_result"
    }
   ],
   "source": [
    "# read data\n",
    "\n",
    "df = pd.read_pickle('../pkl_data_2/merged_data.pkl')\n",
    "df.index = df.index.set_levels([df.index.levels[0], pd.to_datetime(df.index.levels[1],format='%Y%m%d'), df.index.levels[2]])\n",
    "df.sort_index(level=['ann_date'],inplace=True)\n",
    "df.head()"
   ]
  },
  {
   "cell_type": "code",
   "execution_count": 3,
   "metadata": {},
   "outputs": [
    {
     "name": "stdout",
     "output_type": "stream",
     "text": [
      "target variable y has 665 occurences of 0, 168 occurences of 1 \n"
     ]
    }
   ],
   "source": [
    "# build target variable\n",
    "\n",
    "q_10 = df[10].quantile(0.1)\n",
    "q_90 = df[10].quantile(0.9)\n",
    "\n",
    "#t_bottom = lambda x: 0 if (x>q_10) else -1\n",
    "#t_top = lambda x: 0 if (x<q_90) else 1\n",
    "\n",
    "t = lambda x: 1 if (x>q_90) else (1 if (x<q_10) else 0)\n",
    "\n",
    "#df['y_top'] = [t_top(df[10][i]) for i in range(len(df[10]))]\n",
    "#df['y_bottom'] = [t_bottom(df[10][i]) for i in range(len(df[10]))]\n",
    "\n",
    "df['y'] = [t(df[10][i]) for i in range(len(df[10]))]\n",
    "\n",
    "print('target variable y has',df['y'].value_counts()[0],'occurences of 0,',df['y'].value_counts()[1],'occurences of 1 ')\n",
    "#print('target variable y_top has',df['y_top'].value_counts()[0],'occurences of 0 and',df['y_top'].value_counts()[1],'occurences of 1')\n",
    "#print('target variable y_bottom has',df['y_bottom'].value_counts()[0],'occurences of 0 and',df['y_bottom'].value_counts()[-1],'occurences of -1')"
   ]
  },
  {
   "cell_type": "code",
   "execution_count": 4,
   "metadata": {},
   "outputs": [],
   "source": [
    "# types of training datasets \n",
    "\n",
    "type_1 = ['median_surprise', 'mean_surprise', 'forecast_skew', 'forecast_kurt','y']\n",
    "type_2 = ['forecast_count','std','forecast_range','actual_ern_value','y']"
   ]
  },
  {
   "cell_type": "code",
   "execution_count": 5,
   "metadata": {},
   "outputs": [],
   "source": [
    "# some useful functions\n",
    "\n",
    "def tq(year):\n",
    "    \n",
    "    # obtains available quarter for that year\n",
    "    \n",
    "    t = df.iloc[df.index.get_level_values('ann_date') <= str(year)+'-12-31']\n",
    "    t = t.iloc[t.index.get_level_values('ann_date') >= str(year)+'-01-01']\n",
    "    return t.index.get_level_values('quarternum').tolist()\n",
    "\n",
    "def _idx(year,tested_quarter):\n",
    "    \n",
    "    # idx is the test set size <=> number of earnings in this year for this tested_quarter\n",
    "    \n",
    "    t = df.iloc[df.index.get_level_values('ann_date') <= str(year)+'-12-31']\n",
    "    t = t.iloc[t.index.get_level_values('ann_date') >= str(year)+'-01-01']\n",
    "    return t.iloc[t.index.get_level_values('quarternum') == tested_quarter].shape[0]"
   ]
  },
  {
   "cell_type": "code",
   "execution_count": 6,
   "metadata": {},
   "outputs": [],
   "source": [
    "# pipeline\n",
    "\n",
    "class DataFrameSelector(BaseEstimator, TransformerMixin):\n",
    "    #\n",
    "    # selects features from df\n",
    "    #\n",
    "    def __init__(self, attribute_names):\n",
    "        self.attribute_names = attribute_names\n",
    "    def fit(self, X, y=None):\n",
    "        return self\n",
    "    def transform(self, X, y=None):\n",
    "        return X[self.attribute_names]\n",
    "        \n",
    "    \n",
    "class QuarterSelector(BaseEstimator, TransformerMixin):\n",
    "    #\n",
    "    # selects all data available on or before year, tested quarter from df\n",
    "    #\n",
    "    def __init__(self, year, tested_quarter):\n",
    "        self.year = year\n",
    "        self.tested_quarter = tested_quarter\n",
    "        \n",
    "    def fit(self, X, y=None):\n",
    "        return self\n",
    "    \n",
    "    def transform(self, X, y=None):\n",
    "        t = X.iloc[df.index.get_level_values('ann_date') <= str(self.year)+'-12-31']\n",
    "        fdate = t.iloc[t.index.get_level_values('ann_date') >= str(self.year)+'-01-01']\n",
    "        fdate = fdate.iloc[fdate.index.get_level_values('quarternum') == self.tested_quarter]\n",
    "        fdate = fdate.index.get_level_values('ann_date')[-1]\n",
    "        \n",
    "        return t.iloc[t.index.get_level_values('ann_date') <= fdate]\n",
    "        \n",
    "    \n",
    "class TrainSelector(BaseEstimator, TransformerMixin):\n",
    "    #\n",
    "    # selects training data\n",
    "    #\n",
    "    def __init__(self, year, tested_quarter):\n",
    "        self.year = year\n",
    "        self.tested_quarter = tested_quarter\n",
    "        \n",
    "    def fit(self, X, y=None):\n",
    "        return self\n",
    "        \n",
    "    def transform(self, X, y=None):\n",
    "        idx = _idx(self.year,self.tested_quarter)\n",
    "        return X.iloc[:-idx,:]\n",
    "    \n",
    "class TestSelector(BaseEstimator, TransformerMixin):\n",
    "    #\n",
    "    # selects training data\n",
    "    #\n",
    "    def __init__(self, year, tested_quarter):\n",
    "        self.year = year\n",
    "        self.tested_quarter = tested_quarter\n",
    "        \n",
    "    def fit(self, X, y=None):\n",
    "        return self\n",
    "        \n",
    "    def transform(self, X, y=None):\n",
    "        idx = _idx(self.year,self.tested_quarter)\n",
    "        return X.iloc[-idx:,:]\n",
    "    "
   ]
  },
  {
   "cell_type": "code",
   "execution_count": 7,
   "metadata": {},
   "outputs": [],
   "source": [
    "def run(df,_type,year,tested_quarter):    \n",
    "#def run(df,_type,year,tested_quarter,SGDargs):\n",
    "    \n",
    "    \n",
    "    if _type == '1':\n",
    "        \n",
    "        train_pipeline = Pipeline([\n",
    "                ('qt_selector',QuarterSelector(year,tested_quarter)),\n",
    "                ('train_selector',TrainSelector(year,tested_quarter)),\n",
    "                ('ft_selector',DataFrameSelector(type_1)),\n",
    "                ('imputer',SimpleImputer(strategy=\"median\"))])\n",
    "        \n",
    "        test_pipeline = Pipeline([\n",
    "                ('qt_selector',QuarterSelector(year,tested_quarter)),\n",
    "                ('test_selector',TrainSelector(year,tested_quarter)),\n",
    "                ('ft_selector',DataFrameSelector(type_1)),\n",
    "                ('imputer',SimpleImputer(strategy=\"median\"))])\n",
    "    else:\n",
    "        train_pipeline = Pipeline([\n",
    "                ('qt_selector',QuarterSelector(year,tested_quarter)),\n",
    "                ('train_selector',TrainSelector(year,tested_quarter)),\n",
    "                ('ft_selector',DataFrameSelector(type_2)),\n",
    "                ('imputer',SimpleImputer(strategy=\"median\"))])\n",
    "\n",
    "        test_pipeline = Pipeline([\n",
    "                ('qt_selector',QuarterSelector(year,tested_quarter)),\n",
    "                ('test_selector',TrainSelector(year,tested_quarter)),\n",
    "                ('ft_selector',DataFrameSelector(type_2)),\n",
    "                ('imputer',SimpleImputer(strategy=\"median\"))])\n",
    "        \n",
    "                \n",
    "    train = train_pipeline.fit_transform(df)\n",
    "    test = test_pipeline.fit_transform(df)\n",
    "\n",
    "    # separate features and target variable\n",
    "    X_train = train[:,:-1]\n",
    "    X_test = test[:,:-1]\n",
    "    y_train = train[:,-1]\n",
    "    y_test = test[:,-1]\n",
    "        \n",
    "    return [X_train,y_train,X_test,y_test]\n",
    "        \n",
    "    "
   ]
  },
  {
   "cell_type": "code",
   "execution_count": 8,
   "metadata": {},
   "outputs": [],
   "source": [
    "def GridSearch(dataset_type,_param_grid):\n",
    "    \n",
    "    # store result\n",
    "    best_f1 = []\n",
    "    \n",
    "    # keep track of time\n",
    "    start = time()\n",
    "    \n",
    "    for year in [1995+i for i in range(34)]:\n",
    "        v = True\n",
    "        for tested_quarter in tq(year):\n",
    "\n",
    "\n",
    "            # feature engineering for the desired settings\n",
    "            X_train,y_train,X_test,y_test = run(df,dataset_type,year,tested_quarter)\n",
    "\n",
    "            # define gridsearch\n",
    "            gsc = GridSearchCV(\n",
    "                    estimator=SGDClassifier(),\n",
    "                    param_grid=_param_grid,\n",
    "                    scoring=metrics.make_scorer(metrics.f1_score),\n",
    "                    cv = 2,\n",
    "                    verbose=0, \n",
    "                    n_jobs=-1)\n",
    "\n",
    "            try:\n",
    "                # proceed to search\n",
    "                grid_result = gsc.fit(X_train, y_train)\n",
    "\n",
    "                # store best parameters\n",
    "                best_params = grid_result.best_params_\n",
    "                \n",
    "\n",
    "                # build model with best params\n",
    "                logit_clf = SGDClassifier(random_state = best_params['random_state'],\n",
    "                                  loss = best_params['loss'],\n",
    "                                  class_weight = best_params['class_weight'],\n",
    "                                  max_iter = best_params['max_iter'], \n",
    "                                  tol = best_params['tol'],\n",
    "                                  alpha = best_params['alpha'])\n",
    "\n",
    "                logit_clf.fit(X_train, y_train)\n",
    "                p = logit_clf.predict(X_train)\n",
    "                best_f1.append(metrics.f1_score(y_train.tolist(),p))\n",
    "                \n",
    "                if v:\n",
    "                    print('proceeded to search for year',year)\n",
    "                    v=False\n",
    "\n",
    "            except:\n",
    "                print('[Exception]  couldn\\'t predict for year',year,' quarter',tested_quarter)\n",
    "\n",
    "    print('total time elapsed:',int(time()-start),'s')\n",
    "    return best_f1\n",
    "    "
   ]
  },
  {
   "cell_type": "markdown",
   "metadata": {},
   "source": [
    "# Dataset type 1"
   ]
  },
  {
   "cell_type": "markdown",
   "metadata": {},
   "source": [
    "## log loss"
   ]
  },
  {
   "cell_type": "code",
   "execution_count": 9,
   "metadata": {},
   "outputs": [],
   "source": [
    "# define grid search parameters\n",
    "\n",
    "_param_grid_log_type1={\n",
    "'random_state':[42],\n",
    "'loss':['log'],\n",
    "'class_weight':[{0:0.1,1:1}],\n",
    "'max_iter': [10,50,100],\n",
    "'tol': np.linspace(1e-12,1e-7,5),\n",
    "'alpha': np.linspace(1e-3,1e-2,5)}"
   ]
  },
  {
   "cell_type": "code",
   "execution_count": 10,
   "metadata": {},
   "outputs": [
    {
     "name": "stdout",
     "output_type": "stream",
     "text": [
      "[Exception]  couldn't predict for year 1995  quarter 3\n",
      "[Exception]  couldn't predict for year 1996  quarter 1\n",
      "[Exception]  couldn't predict for year 1996  quarter 1\n",
      "proceeded to search for year 1996\n",
      "proceeded to search for year 1997\n",
      "proceeded to search for year 1998\n",
      "proceeded to search for year 1999\n",
      "proceeded to search for year 2000\n",
      "proceeded to search for year 2001\n",
      "proceeded to search for year 2002\n",
      "proceeded to search for year 2003\n",
      "proceeded to search for year 2004\n",
      "proceeded to search for year 2005\n",
      "proceeded to search for year 2006\n",
      "proceeded to search for year 2007\n",
      "proceeded to search for year 2008\n",
      "proceeded to search for year 2009\n",
      "proceeded to search for year 2010\n",
      "proceeded to search for year 2011\n",
      "proceeded to search for year 2012\n",
      "proceeded to search for year 2013\n",
      "proceeded to search for year 2014\n",
      "proceeded to search for year 2015\n",
      "proceeded to search for year 2016\n",
      "total time elapsed: 311 s\n"
     ]
    }
   ],
   "source": [
    "# proceed to search and store best F1 scores achieved on training set\n",
    "\n",
    "best_f1_log = GridSearch(dataset_type='1',_param_grid = _param_grid_log_type1)"
   ]
  },
  {
   "cell_type": "code",
   "execution_count": 11,
   "metadata": {},
   "outputs": [
    {
     "data": {
      "text/plain": [
       "Text(0.5, 1.0, 'f1 scores obtained with log loss (stylized metrics dataset)')"
      ]
     },
     "execution_count": 11,
     "metadata": {},
     "output_type": "execute_result"
    },
    {
     "data": {
      "image/png": "[encoded data removed]",
      "text/plain": [
       "<Figure size 720x360 with 1 Axes>"
      ]
     },
     "metadata": {},
     "output_type": "display_data"
    }
   ],
   "source": [
    "# plot scores distribution\n",
    "\n",
    "plt.figure(figsize=(10,5))\n",
    "plt.hist(best_f1_log,bins=50)\n",
    "plt.title('f1 scores obtained with log loss (stylized metrics dataset)')\n",
    "plt.show()"
   ]
  },
  {
   "cell_type": "markdown",
   "metadata": {},
   "source": [
    "## hinge loss"
   ]
  },
  {
   "cell_type": "code",
   "execution_count": 12,
   "metadata": {},
   "outputs": [],
   "source": [
    "# define grid search parameters\n",
    "\n",
    "_param_grid_hinge_type1={\n",
    "'random_state':[42],\n",
    "'loss':['log'],\n",
    "'class_weight':[{0:0.1,1:1}],\n",
    "'max_iter': [10,50,100],\n",
    "'tol': np.linspace(1e-12,1e-7,5),\n",
    "'alpha': np.linspace(1e-3,1e-2,5)}"
   ]
  },
  {
   "cell_type": "code",
   "execution_count": 13,
   "metadata": {},
   "outputs": [
    {
     "name": "stdout",
     "output_type": "stream",
     "text": [
      "[Exception]  couldn't predict for year 1995  quarter 3\n",
      "[Exception]  couldn't predict for year 1996  quarter 1\n",
      "[Exception]  couldn't predict for year 1996  quarter 1\n",
      "proceeded to search for year 1996\n",
      "proceeded to search for year 1997\n",
      "proceeded to search for year 1998\n",
      "proceeded to search for year 1999\n",
      "proceeded to search for year 2000\n",
      "proceeded to search for year 2001\n",
      "proceeded to search for year 2002\n",
      "proceeded to search for year 2003\n",
      "proceeded to search for year 2004\n",
      "proceeded to search for year 2005\n",
      "proceeded to search for year 2006\n",
      "proceeded to search for year 2007\n",
      "proceeded to search for year 2008\n",
      "proceeded to search for year 2009\n",
      "proceeded to search for year 2010\n",
      "proceeded to search for year 2011\n",
      "proceeded to search for year 2012\n",
      "proceeded to search for year 2013\n",
      "proceeded to search for year 2014\n",
      "proceeded to search for year 2015\n",
      "proceeded to search for year 2016\n",
      "total time elapsed: 329 s\n"
     ]
    }
   ],
   "source": [
    "# proceed to search and store best F1 scores achieved on training set\n",
    "\n",
    "best_f1_hinge = GridSearch(dataset_type='1',_param_grid = _param_grid_hinge_type1)"
   ]
  },
  {
   "cell_type": "code",
   "execution_count": 14,
   "metadata": {},
   "outputs": [
    {
     "data": {
      "text/plain": [
       "Text(0.5, 1.0, 'f1 scores obtained with hinge loss (stylized metrics dataset)')"
      ]
     },
     "execution_count": 14,
     "metadata": {},
     "output_type": "execute_result"
    },
    {
     "data": {
      "image/png": "[encoded data removed]",
      "text/plain": [
       "<Figure size 720x360 with 1 Axes>"
      ]
     },
     "metadata": {},
     "output_type": "display_data"
    }
   ],
   "source": [
    "plt.figure(figsize=(10,5))\n",
    "plt.hist(best_f1_hinge,bins=50)\n",
    "plt.title('f1 scores obtained with hinge loss (stylized metrics dataset)')\n",
    "plt.show()"
   ]
  },
  {
   "cell_type": "markdown",
   "metadata": {},
   "source": [
    "# Dataset type 2"
   ]
  },
  {
   "cell_type": "markdown",
   "metadata": {},
   "source": [
    "## log loss"
   ]
  },
  {
   "cell_type": "code",
   "execution_count": 15,
   "metadata": {},
   "outputs": [],
   "source": [
    "# define grid search parameters\n",
    "\n",
    "_param_grid_log_type2={\n",
    "'random_state':[42],\n",
    "'loss':['log'],\n",
    "'class_weight':[{0:0.1,1:1}],\n",
    "'max_iter': [10,50,100],\n",
    "'tol': np.linspace(1e-12,1e-7,5),\n",
    "'alpha': np.linspace(1e-3,1e-2,5)}"
   ]
  },
  {
   "cell_type": "code",
   "execution_count": 16,
   "metadata": {
    "scrolled": false
   },
   "outputs": [
    {
     "name": "stdout",
     "output_type": "stream",
     "text": [
      "[Exception]  couldn't predict for year 1995  quarter 3\n",
      "[Exception]  couldn't predict for year 1996  quarter 1\n",
      "[Exception]  couldn't predict for year 1996  quarter 1\n",
      "proceeded to search for year 1996\n",
      "proceeded to search for year 1997\n",
      "proceeded to search for year 1998\n",
      "proceeded to search for year 1999\n",
      "proceeded to search for year 2000\n",
      "proceeded to search for year 2001\n",
      "proceeded to search for year 2002\n",
      "proceeded to search for year 2003\n",
      "proceeded to search for year 2004\n",
      "proceeded to search for year 2005\n",
      "proceeded to search for year 2006\n",
      "proceeded to search for year 2007\n",
      "proceeded to search for year 2008\n",
      "proceeded to search for year 2009\n",
      "proceeded to search for year 2010\n",
      "proceeded to search for year 2011\n",
      "proceeded to search for year 2012\n",
      "proceeded to search for year 2013\n",
      "proceeded to search for year 2014\n",
      "proceeded to search for year 2015\n",
      "proceeded to search for year 2016\n",
      "total time elapsed: 363 s\n"
     ]
    }
   ],
   "source": [
    "# proceed to search and store best F1 scores achieved on training set\n",
    "\n",
    "best_f1_log = GridSearch(dataset_type='2',_param_grid = _param_grid_log_type2)"
   ]
  },
  {
   "cell_type": "code",
   "execution_count": 17,
   "metadata": {},
   "outputs": [
    {
     "data": {
      "text/plain": [
       "Text(0.5, 1.0, 'f1 scores obtained with log loss (full distribution)')"
      ]
     },
     "execution_count": 17,
     "metadata": {},
     "output_type": "execute_result"
    },
    {
     "data": {
      "image/png": "[encoded data removed]",
      "text/plain": [
       "<Figure size 720x360 with 1 Axes>"
      ]
     },
     "metadata": {},
     "output_type": "display_data"
    }
   ],
   "source": [
    "# plot scores distribution\n",
    "\n",
    "plt.figure(figsize=(10,5))\n",
    "plt.hist(best_f1_log,bins=50)\n",
    "plt.title('f1 scores obtained with log loss (full distribution)')\n",
    "plt.show()"
   ]
  },
  {
   "cell_type": "markdown",
   "metadata": {},
   "source": [
    "## hinge loss"
   ]
  },
  {
   "cell_type": "code",
   "execution_count": 18,
   "metadata": {},
   "outputs": [],
   "source": [
    "# define grid search parameters\n",
    "\n",
    "_param_grid_hinge_type2={\n",
    "'random_state':[42],\n",
    "'loss':['hinge'],\n",
    "'class_weight':[{0:0.1,1:1}],\n",
    "'max_iter': [500,750],\n",
    "'tol': np.linspace(1e-7,1e-5,5),\n",
    "'alpha': np.linspace(1e-3,1e-2,5)}"
   ]
  },
  {
   "cell_type": "code",
   "execution_count": 19,
   "metadata": {},
   "outputs": [
    {
     "name": "stdout",
     "output_type": "stream",
     "text": [
      "[Exception]  couldn't predict for year 1995  quarter 3\n",
      "[Exception]  couldn't predict for year 1996  quarter 1\n",
      "[Exception]  couldn't predict for year 1996  quarter 1\n",
      "proceeded to search for year 1996\n",
      "proceeded to search for year 1997\n",
      "proceeded to search for year 1998\n",
      "proceeded to search for year 1999\n",
      "proceeded to search for year 2000\n",
      "proceeded to search for year 2001\n",
      "proceeded to search for year 2002\n",
      "proceeded to search for year 2003\n",
      "proceeded to search for year 2004\n",
      "proceeded to search for year 2005\n",
      "proceeded to search for year 2006\n",
      "proceeded to search for year 2007\n",
      "proceeded to search for year 2008\n",
      "proceeded to search for year 2009\n",
      "proceeded to search for year 2010\n",
      "proceeded to search for year 2011\n",
      "proceeded to search for year 2012\n",
      "proceeded to search for year 2013\n",
      "proceeded to search for year 2014\n",
      "proceeded to search for year 2015\n",
      "proceeded to search for year 2016\n",
      "total time elapsed: 210 s\n"
     ]
    }
   ],
   "source": [
    "# proceed to search and store best F1 scores achieved on training set\n",
    "\n",
    "best_f1_hinge = GridSearch(dataset_type='2',_param_grid = _param_grid_hinge_type2)"
   ]
  },
  {
   "cell_type": "code",
   "execution_count": 20,
   "metadata": {},
   "outputs": [
    {
     "data": {
      "text/plain": [
       "Text(0.5, 1.0, 'f1 scores obtained with hinge loss (full distribution)')"
      ]
     },
     "execution_count": 20,
     "metadata": {},
     "output_type": "execute_result"
    },
    {
     "data": {
      "image/png": "[encoded data removed]",
      "text/plain": [
       "<Figure size 720x360 with 1 Axes>"
      ]
     },
     "metadata": {},
     "output_type": "display_data"
    }
   ],
   "source": [
    "plt.figure(figsize=(10,5))\n",
    "plt.hist(best_f1_hinge,bins=50)\n",
    "plt.title('f1 scores obtained with hinge loss (full distribution)')\n",
    "plt.show()"
   ]
  },
  {
   "cell_type": "markdown",
   "metadata": {},
   "source": [
    "# Precision-Recall curves"
   ]
  },
  {
   "cell_type": "markdown",
   "metadata": {},
   "source": [
    "- stylized metrics dataset with log loss:"
   ]
  },
  {
   "cell_type": "code",
   "execution_count": 30,
   "metadata": {},
   "outputs": [
    {
     "name": "stdout",
     "output_type": "stream",
     "text": [
      "No Skill: f1=0.000 auc=0.603\n",
      "Logistic: f1=0.291 auc=0.392\n"
     ]
    },
    {
     "data": {
      "image/png": "[encoded data removed]",
      "text/plain": [
       "<Figure size 720x360 with 1 Axes>"
      ]
     },
     "metadata": {},
     "output_type": "display_data"
    }
   ],
   "source": [
    "# feature engineering for the desired settings\n",
    "X_train,Y_train,X_test,Y_test = run(df,'1',2014,1)\n",
    "\n",
    "# define gridsearch\n",
    "gsc = GridSearchCV(\n",
    "        estimator=SGDClassifier(),\n",
    "        param_grid=_param_grid_log_type1,\n",
    "        scoring=metrics.make_scorer(metrics.f1_score),\n",
    "        cv = 2,\n",
    "        verbose=0, \n",
    "        n_jobs=-1)\n",
    "\n",
    "# proceed to search\n",
    "grid_result = gsc.fit(X_train, Y_train)\n",
    "\n",
    "# store best parameters\n",
    "best_params = grid_result.best_params_\n",
    "\n",
    "\n",
    "# build model with best params\n",
    "logit_clf = SGDClassifier(random_state = best_params['random_state'],\n",
    "                  loss = best_params['loss'],\n",
    "                  class_weight = best_params['class_weight'],\n",
    "                  max_iter = best_params['max_iter'], \n",
    "                  tol = best_params['tol'],\n",
    "                  alpha = best_params['alpha'])\n",
    "\n",
    "logit_clf.fit(X_train, Y_train)\n",
    "                  \n",
    "\n",
    "# predict class values\n",
    "yhat = logit_clf.predict(X_train)\n",
    "\n",
    "# calculate precision and recall for each threshold\n",
    "ns_probs = [0 for i in range(len(yhat))]\n",
    "lr_probs = logit_clf.predict_proba(X_train)\n",
    "# keep probabilities for the positive outcome only\n",
    "lr_probs = lr_probs[:, 1]\n",
    "ns_precision, ns_recall, _ = metrics.precision_recall_curve(Y_train, ns_probs)\n",
    "lr_precision, lr_recall, _ = metrics.precision_recall_curve(Y_train, lr_probs)\n",
    "\n",
    "# calculate scores\n",
    "ns_f1, ns_auc = metrics.f1_score(Y_train, ns_probs), metrics.auc(ns_recall, ns_precision)\n",
    "lr_f1, lr_auc = metrics.f1_score(Y_train, yhat), metrics.auc(lr_recall, lr_precision)\n",
    "\n",
    "# summarize scores\n",
    "print('No Skill: f1=%.3f auc=%.3f' % (ns_f1, ns_auc))\n",
    "print('Logistic: f1=%.3f auc=%.3f' % (lr_f1, lr_auc))\n",
    "\n",
    "# plot the precision-recall curves\n",
    "fig = plt.figure(figsize=(10,5))\n",
    "plt.plot(ns_recall, ns_precision, linestyle='--', label='No Skill')\n",
    "plt.plot(lr_recall, lr_precision, marker='.', label='Logistic')\n",
    "plt.xlabel('Recall')\n",
    "plt.ylabel('Precision')\n",
    "plt.title('PR curve, stylized metrics dataset, log loss')\n",
    "plt.legend()\n",
    "plt.show()\n",
    "fig.savefig('../images/PR_log_1.png', dpi=fig.dpi)"
   ]
  },
  {
   "cell_type": "markdown",
   "metadata": {},
   "source": [
    "- stylized metrics dataset with hinge loss:"
   ]
  },
  {
   "cell_type": "code",
   "execution_count": 31,
   "metadata": {},
   "outputs": [
    {
     "name": "stdout",
     "output_type": "stream",
     "text": [
      "No Skill: f1=0.000 auc=0.603\n",
      "Logistic: f1=0.291 auc=0.603\n"
     ]
    },
    {
     "data": {
      "image/png": "[encoded data removed]",
      "text/plain": [
       "<Figure size 720x360 with 1 Axes>"
      ]
     },
     "metadata": {},
     "output_type": "display_data"
    }
   ],
   "source": [
    "# feature engineering for the desired settings\n",
    "X_train,Y_train,X_test,Y_test = run(df,'1',2014,1)\n",
    "\n",
    "# define gridsearch\n",
    "gsc = GridSearchCV(\n",
    "        estimator=SGDClassifier(),\n",
    "        param_grid=_param_grid_hinge_type1,\n",
    "        scoring=metrics.make_scorer(metrics.f1_score),\n",
    "        cv = 2,\n",
    "        verbose=0, \n",
    "        n_jobs=-1)\n",
    "\n",
    "# proceed to search\n",
    "grid_result = gsc.fit(X_train, Y_train)\n",
    "\n",
    "# store best parameters\n",
    "best_params = grid_result.best_params_\n",
    "\n",
    "# build model with best params\n",
    "logit_clf = SGDClassifier(random_state = best_params['random_state'],\n",
    "                  loss = best_params['loss'],\n",
    "                  class_weight = best_params['class_weight'],\n",
    "                  max_iter = best_params['max_iter'], \n",
    "                  tol = best_params['tol'],\n",
    "                  alpha = best_params['alpha'])\n",
    "\n",
    "logit_clf.fit(X_train, Y_train)\n",
    "                  \n",
    "\n",
    "# predict class values\n",
    "yhat = logit_clf.predict(X_train)\n",
    "\n",
    "# calculate precision and recall for each threshold\n",
    "ns_probs = [0 for i in range(len(yhat))]\n",
    "calibrator = CalibratedClassifierCV(logit_clf, cv='prefit')\n",
    "model=calibrator.fit(X_train, Y_train)\n",
    "lr_probs = model.predict_proba(X_train)\n",
    "# keep probabilities for the positive outcome only\n",
    "lr_probs = lr_probs[:, 1]\n",
    "ns_precision, ns_recall, _ = metrics.precision_recall_curve(Y_train, ns_probs)\n",
    "lr_precision, lr_recall, _ = metrics.precision_recall_curve(Y_train, lr_probs)\n",
    "\n",
    "# calculate scores\n",
    "ns_f1, ns_auc = metrics.f1_score(Y_train, ns_probs), metrics.auc(ns_recall, ns_precision)\n",
    "lr_f1, lr_auc = metrics.f1_score(Y_train, yhat), metrics.auc(lr_recall, lr_precision)\n",
    "\n",
    "# summarize scores\n",
    "print('No Skill: f1=%.3f auc=%.3f' % (ns_f1, ns_auc))\n",
    "print('Logistic: f1=%.3f auc=%.3f' % (lr_f1, lr_auc))\n",
    "\n",
    "# plot the precision-recall curves\n",
    "fig = plt.figure(figsize=(10,5))\n",
    "plt.plot(ns_recall, ns_precision, linestyle='--', label='No Skill')\n",
    "plt.plot(lr_recall, lr_precision, marker='.', label='Logistic')\n",
    "plt.xlabel('Recall')\n",
    "plt.ylabel('Precision')\n",
    "plt.title('PR curve, stylized metrics dataset, hinge loss')\n",
    "plt.legend()\n",
    "plt.show()\n",
    "fig.savefig('../images/PR_hinge_1.png', dpi=fig.dpi)"
   ]
  },
  {
   "cell_type": "markdown",
   "metadata": {},
   "source": [
    "- full distribution dataset with log loss:"
   ]
  },
  {
   "cell_type": "code",
   "execution_count": 32,
   "metadata": {},
   "outputs": [
    {
     "name": "stdout",
     "output_type": "stream",
     "text": [
      "No Skill: f1=0.000 auc=0.603\n",
      "Logistic: f1=0.343 auc=0.248\n"
     ]
    },
    {
     "data": {
      "image/png": "[encoded data removed]",
      "text/plain": [
       "<Figure size 720x360 with 1 Axes>"
      ]
     },
     "metadata": {},
     "output_type": "display_data"
    }
   ],
   "source": [
    "# feature engineering for the desired settings\n",
    "X_train,Y_train,X_test,Y_test = run(df,'2',2014,1)\n",
    "\n",
    "# define gridsearch\n",
    "gsc = GridSearchCV(\n",
    "        estimator=SGDClassifier(),\n",
    "        param_grid=_param_grid_log_type2,\n",
    "        scoring=metrics.make_scorer(metrics.f1_score),\n",
    "        cv = 2,\n",
    "        verbose=0, \n",
    "        n_jobs=-1)\n",
    "\n",
    "# proceed to search\n",
    "grid_result = gsc.fit(X_train, Y_train)\n",
    "\n",
    "# store best parameters\n",
    "best_params = grid_result.best_params_\n",
    "\n",
    "# build model with best params\n",
    "logit_clf = SGDClassifier(random_state = best_params['random_state'],\n",
    "                  loss = best_params['loss'],\n",
    "                  class_weight = best_params['class_weight'],\n",
    "                  max_iter = best_params['max_iter'], \n",
    "                  tol = best_params['tol'],\n",
    "                  alpha = best_params['alpha'])\n",
    "\n",
    "logit_clf.fit(X_train, Y_train)\n",
    "                  \n",
    "\n",
    "# predict class values\n",
    "yhat = logit_clf.predict(X_train)\n",
    "\n",
    "# calculate precision and recall for each threshold\n",
    "ns_probs = [0 for i in range(len(yhat))]\n",
    "lr_probs = logit_clf.predict_proba(X_train)\n",
    "# keep probabilities for the positive outcome only\n",
    "lr_probs = lr_probs[:, 1]\n",
    "ns_precision, ns_recall, _ = metrics.precision_recall_curve(Y_train, ns_probs)\n",
    "lr_precision, lr_recall, _ = metrics.precision_recall_curve(Y_train, lr_probs)\n",
    "\n",
    "# calculate scores\n",
    "ns_f1, ns_auc = metrics.f1_score(Y_train, ns_probs), metrics.auc(ns_recall, ns_precision)\n",
    "lr_f1, lr_auc = metrics.f1_score(Y_train, yhat), metrics.auc(lr_recall, lr_precision)\n",
    "\n",
    "# summarize scores\n",
    "print('No Skill: f1=%.3f auc=%.3f' % (ns_f1, ns_auc))\n",
    "print('Logistic: f1=%.3f auc=%.3f' % (lr_f1, lr_auc))\n",
    "\n",
    "# plot the precision-recall curves\n",
    "fig = plt.figure(figsize=(10,5))\n",
    "plt.plot(ns_recall, ns_precision, linestyle='--', label='No Skill')\n",
    "plt.plot(lr_recall, lr_precision, marker='.', label='Logistic')\n",
    "plt.xlabel('Recall')\n",
    "plt.ylabel('Precision')\n",
    "plt.title('PR curve, full distribution dataset, log loss')\n",
    "plt.legend()\n",
    "plt.show()\n",
    "fig.savefig('../images/PR_log_2.png', dpi=fig.dpi)"
   ]
  },
  {
   "cell_type": "markdown",
   "metadata": {},
   "source": [
    "- full distribution dataset with hinge loss:"
   ]
  },
  {
   "cell_type": "code",
   "execution_count": 33,
   "metadata": {},
   "outputs": [
    {
     "name": "stdout",
     "output_type": "stream",
     "text": [
      "No Skill: f1=0.000 auc=0.603\n",
      "Logistic: f1=0.343 auc=0.277\n"
     ]
    },
    {
     "data": {
      "image/png": "[encoded data removed]",
      "text/plain": [
       "<Figure size 720x360 with 1 Axes>"
      ]
     },
     "metadata": {},
     "output_type": "display_data"
    }
   ],
   "source": [
    "# feature engineering for the desired settings\n",
    "X_train,Y_train,X_test,Y_test = run(df,'2',2014,1)\n",
    "\n",
    "# define gridsearch\n",
    "gsc = GridSearchCV(\n",
    "        estimator=SGDClassifier(),\n",
    "        param_grid=_param_grid_hinge_type2,\n",
    "        scoring=metrics.make_scorer(metrics.f1_score),\n",
    "        cv = 2,\n",
    "        verbose=0, \n",
    "        n_jobs=-1)\n",
    "\n",
    "# proceed to search\n",
    "grid_result = gsc.fit(X_train, Y_train)\n",
    "\n",
    "# store best parameters\n",
    "best_params = grid_result.best_params_\n",
    "\n",
    "# build model with best params\n",
    "logit_clf = SGDClassifier(random_state = best_params['random_state'],\n",
    "                  loss = best_params['loss'],\n",
    "                  class_weight = best_params['class_weight'],\n",
    "                  max_iter = best_params['max_iter'], \n",
    "                  tol = best_params['tol'],\n",
    "                  alpha = best_params['alpha'])\n",
    "\n",
    "logit_clf.fit(X_train, Y_train)\n",
    "                  \n",
    "\n",
    "# predict class values\n",
    "yhat = logit_clf.predict(X_train)\n",
    "\n",
    "# calculate precision and recall for each threshold\n",
    "ns_probs = [0 for i in range(len(yhat))]\n",
    "calibrator = CalibratedClassifierCV(logit_clf, cv='prefit')\n",
    "model=calibrator.fit(X_train, Y_train)\n",
    "lr_probs = model.predict_proba(X_train)\n",
    "# keep probabilities for the positive outcome only\n",
    "lr_probs = lr_probs[:, 1]\n",
    "ns_precision, ns_recall, _ = metrics.precision_recall_curve(Y_train, ns_probs)\n",
    "lr_precision, lr_recall, _ = metrics.precision_recall_curve(Y_train, lr_probs)\n",
    "\n",
    "# calculate scores\n",
    "ns_f1, ns_auc = metrics.f1_score(Y_train, ns_probs), metrics.auc(ns_recall, ns_precision)\n",
    "lr_f1, lr_auc = metrics.f1_score(Y_train, yhat), metrics.auc(lr_recall, lr_precision)\n",
    "\n",
    "# summarize scores\n",
    "print('No Skill: f1=%.3f auc=%.3f' % (ns_f1, ns_auc))\n",
    "print('Logistic: f1=%.3f auc=%.3f' % (lr_f1, lr_auc))\n",
    "\n",
    "# plot the precision-recall curves\n",
    "plt.figure(figsize=(10,5))\n",
    "plt.plot(ns_recall, ns_precision, linestyle='--', label='No Skill')\n",
    "plt.plot(lr_recall, lr_precision, marker='.', label='Logistic')\n",
    "plt.xlabel('Recall')\n",
    "plt.ylabel('Precision')\n",
    "plt.title('PR curve, full distribution dataset, hinge loss')\n",
    "plt.legend()\n",
    "plt.show()\n",
    "fig.savefig('../images/PR_hinge_2.png', dpi=fig.dpi)"
   ]
  },
  {
   "cell_type": "code",
   "execution_count": null,
   "metadata": {},
   "outputs": [],
   "source": []
  },
  {
   "cell_type": "code",
   "execution_count": null,
   "metadata": {},
   "outputs": [],
   "source": []
  }
 ],
 "metadata": {
  "kernelspec": {
   "display_name": "py36",
   "language": "python",
   "name": "py36"
  },
  "language_info": {
   "codemirror_mode": {
    "name": "ipython",
    "version": 3
   },
   "file_extension": ".py",
   "mimetype": "text/x-python",
   "name": "python",
   "nbconvert_exporter": "python",
   "pygments_lexer": "ipython3",
   "version": "3.6.2"
  }
 },
 "nbformat": 4,
 "nbformat_minor": 2
}
