{
 "cells": [
  {
   "cell_type": "markdown",
   "metadata": {},
   "source": [
    "Jialu Part 1"
   ]
  },
  {
   "cell_type": "markdown",
   "metadata": {},
   "source": [
    "## 7. term spread\n",
    "\n",
    "Yield difference between 10-year and 3-month Treasury\n",
    "https://www.quandl.com/data/USTREASURY/YIELD-Treasury-Yield-Curve-Rates"
   ]
  },
  {
   "cell_type": "code",
   "execution_count": 2,
   "metadata": {},
   "outputs": [],
   "source": [
    "import pandas as pd\n",
    "import numpy as np\n",
    "treasury=pd.read_csv('raw_data/USTREASURY-YIELD.csv')"
   ]
  },
  {
   "cell_type": "code",
   "execution_count": 5,
   "metadata": {
    "scrolled": true
   },
   "outputs": [],
   "source": [
    "treasury=treasury[treasury['Date']>='1990-06-08']"
   ]
  },
  {
   "cell_type": "code",
   "execution_count": 29,
   "metadata": {},
   "outputs": [],
   "source": [
    "treasury=treasury.sort_values(by='Date',ascending=True)"
   ]
  },
  {
   "cell_type": "code",
   "execution_count": 399,
   "metadata": {
    "scrolled": true
   },
   "outputs": [],
   "source": [
    "treasury['TERM']=treasury['10 YR']-treasury['3 MO']\n",
    "treasury.set_index('Date')['TERM'].to_pickle('TERM.pkl')"
   ]
  },
  {
   "cell_type": "markdown",
   "metadata": {},
   "source": [
    "## 8. cointegration residual\n",
    "\n",
    "https://www.quandl.com/data/UNAC/ECE_USA-Individual-Consumption-Expenditure-of-Households-NPISHs-and-General-Government-at-Current-Prices-United-States-of-America\n",
    "\n",
    "https://www.quandl.com/data/FED/FU156010001_Q-Households-and-nonprofit-organizations-personal-income-Quarterly-Transactions-NSA\n",
    "\n",
    "https://www.quandl.com/data/FRED/HNOTLNQ027S-Households-and-nonprofit-organizations-total-liabilities-and-net-worth-IMA-Level\n",
    "\n",
    "The consumption data are for nondurables and services excluding shoes\n",
    "and clothing, in 1992 chain weighted dollars. The asset holdings data is the\n",
    "household net worth series provided by the Board of Governors of the Federal\n",
    "Reserve. Labor income is defined as wages and salaries plus transfer\n",
    "payments plus other labor income minus personal contributions for social\n",
    "insurance minus taxes. Taxes are defined as (wages and salaries/(wages and\n",
    "salaries + proprietors income with IVA and Ccadj + rental income + personal\n",
    "dividends + personal interest income)) * (personal tax and non-tax\n",
    "payments), where IVA is inventory evaluation and Ccadj is capital consumption\n",
    "adjustments. Both the net worth variable and the labor income variable\n",
    "are deflated by the PCE chain-type price deflator, 1992 = 100. Our source\n",
    "for all of the consumption and income components, as well as the PCE deflator,\n",
    "is the U.S. Department of Commerce, Bureau of Economic Analysis.\n",
    "Note that, although there is some back-casting of the consumption and income\n",
    "data due to revisions and interpolated estimation by the Bureau of\n",
    "Economic Analysis of some service expenditure components, no information\n",
    "about future stock returns is being used to alter any of the data used to\n",
    "construct cry."
   ]
  },
  {
   "cell_type": "code",
   "execution_count": 325,
   "metadata": {},
   "outputs": [],
   "source": [
    "consumption=pd.read_csv('raw_data/UNAC-ECE_USA.csv')\n",
    "asset=pd.read_csv('raw_data/FRED-HNOTLNQ027S.csv')\n",
    "wealth=pd.read_csv('raw_data/FED-FU156010001_Q.csv')"
   ]
  },
  {
   "cell_type": "code",
   "execution_count": 327,
   "metadata": {},
   "outputs": [],
   "source": [
    "consumption['consumption']=consumption['Equals: Total actual individual consumption (US dollar; series 1000)']-consumption['Clothing and footwear (US dollar; series 1000)']\n",
    "consumption=consumption[['Date','consumption']]"
   ]
  },
  {
   "cell_type": "code",
   "execution_count": 328,
   "metadata": {},
   "outputs": [],
   "source": [
    "asset=asset.rename(columns={'Value':'asset'})\n",
    "wealth=wealth.rename(columns={'Value':'wealth'})\n",
    "data=pd.merge(consumption,asset,on='Date',how='outer')\n",
    "data=pd.merge(data,wealth,on='Date',how='outer')"
   ]
  },
  {
   "cell_type": "code",
   "execution_count": 329,
   "metadata": {},
   "outputs": [],
   "source": [
    "#CPI adjustion to 1992 price:141.900\n",
    "CPI=pd.read_csv('raw_data/RATEINF-CPI_USA.csv')\n",
    "CPI=CPI.rename(columns={'Value':'CPI'})"
   ]
  },
  {
   "cell_type": "code",
   "execution_count": 330,
   "metadata": {},
   "outputs": [],
   "source": [
    "data=data[data.Date>='1989-12-01']\n",
    "CPI=CPI[CPI.Date>='1989-12-01']\n",
    "data=pd.merge(data,CPI,on='Date',how='outer')"
   ]
  },
  {
   "cell_type": "code",
   "execution_count": 331,
   "metadata": {},
   "outputs": [],
   "source": [
    "data['consumption']=data['consumption']/data['CPI']*141.900\n",
    "data['asset']=data['asset']/data['CPI']*141.900\n",
    "data['wealth']=data['wealth']/data['CPI']*141.900"
   ]
  },
  {
   "cell_type": "code",
   "execution_count": 332,
   "metadata": {
    "scrolled": true
   },
   "outputs": [
    {
     "data": {
      "text/html": [
       "<div>\n",
       "<style scoped>\n",
       "    .dataframe tbody tr th:only-of-type {\n",
       "        vertical-align: middle;\n",
       "    }\n",
       "\n",
       "    .dataframe tbody tr th {\n",
       "        vertical-align: top;\n",
       "    }\n",
       "\n",
       "    .dataframe thead th {\n",
       "        text-align: right;\n",
       "    }\n",
       "</style>\n",
       "<table border=\"1\" class=\"dataframe\">\n",
       "  <thead>\n",
       "    <tr style=\"text-align: right;\">\n",
       "      <th></th>\n",
       "      <th>Date</th>\n",
       "      <th>consumption</th>\n",
       "      <th>asset</th>\n",
       "      <th>wealth</th>\n",
       "      <th>CPI</th>\n",
       "    </tr>\n",
       "  </thead>\n",
       "  <tbody>\n",
       "    <tr>\n",
       "      <th>28</th>\n",
       "      <td>1989-12-31</td>\n",
       "      <td>4.175202e+12</td>\n",
       "      <td>2.857515e+07</td>\n",
       "      <td>1.326765e+06</td>\n",
       "      <td>126.100</td>\n",
       "    </tr>\n",
       "    <tr>\n",
       "      <th>118</th>\n",
       "      <td>1990-03-31</td>\n",
       "      <td>NaN</td>\n",
       "      <td>2.821462e+07</td>\n",
       "      <td>1.326724e+06</td>\n",
       "      <td>128.700</td>\n",
       "    </tr>\n",
       "    <tr>\n",
       "      <th>117</th>\n",
       "      <td>1990-06-30</td>\n",
       "      <td>NaN</td>\n",
       "      <td>2.829350e+07</td>\n",
       "      <td>1.335140e+06</td>\n",
       "      <td>129.900</td>\n",
       "    </tr>\n",
       "    <tr>\n",
       "      <th>116</th>\n",
       "      <td>1990-09-30</td>\n",
       "      <td>NaN</td>\n",
       "      <td>2.758460e+07</td>\n",
       "      <td>1.323467e+06</td>\n",
       "      <td>132.700</td>\n",
       "    </tr>\n",
       "    <tr>\n",
       "      <th>27</th>\n",
       "      <td>1990-12-31</td>\n",
       "      <td>4.207845e+12</td>\n",
       "      <td>2.789541e+07</td>\n",
       "      <td>1.318484e+06</td>\n",
       "      <td>133.800</td>\n",
       "    </tr>\n",
       "    <tr>\n",
       "      <th>115</th>\n",
       "      <td>1991-03-31</td>\n",
       "      <td>NaN</td>\n",
       "      <td>2.829596e+07</td>\n",
       "      <td>1.309632e+06</td>\n",
       "      <td>135.000</td>\n",
       "    </tr>\n",
       "    <tr>\n",
       "      <th>114</th>\n",
       "      <td>1991-06-30</td>\n",
       "      <td>NaN</td>\n",
       "      <td>2.820423e+07</td>\n",
       "      <td>1.315439e+06</td>\n",
       "      <td>136.000</td>\n",
       "    </tr>\n",
       "    <tr>\n",
       "      <th>113</th>\n",
       "      <td>1991-09-30</td>\n",
       "      <td>NaN</td>\n",
       "      <td>2.828584e+07</td>\n",
       "      <td>1.317042e+06</td>\n",
       "      <td>137.200</td>\n",
       "    </tr>\n",
       "    <tr>\n",
       "      <th>26</th>\n",
       "      <td>1991-12-31</td>\n",
       "      <td>4.242540e+12</td>\n",
       "      <td>2.883105e+07</td>\n",
       "      <td>1.330785e+06</td>\n",
       "      <td>137.900</td>\n",
       "    </tr>\n",
       "    <tr>\n",
       "      <th>112</th>\n",
       "      <td>1992-03-31</td>\n",
       "      <td>NaN</td>\n",
       "      <td>2.865285e+07</td>\n",
       "      <td>1.347226e+06</td>\n",
       "      <td>139.300</td>\n",
       "    </tr>\n",
       "    <tr>\n",
       "      <th>111</th>\n",
       "      <td>1992-06-30</td>\n",
       "      <td>NaN</td>\n",
       "      <td>2.860047e+07</td>\n",
       "      <td>1.363614e+06</td>\n",
       "      <td>140.200</td>\n",
       "    </tr>\n",
       "    <tr>\n",
       "      <th>110</th>\n",
       "      <td>1992-09-30</td>\n",
       "      <td>NaN</td>\n",
       "      <td>2.879930e+07</td>\n",
       "      <td>1.368184e+06</td>\n",
       "      <td>141.300</td>\n",
       "    </tr>\n",
       "    <tr>\n",
       "      <th>25</th>\n",
       "      <td>1992-12-31</td>\n",
       "      <td>4.386859e+12</td>\n",
       "      <td>2.934817e+07</td>\n",
       "      <td>1.380836e+06</td>\n",
       "      <td>141.900</td>\n",
       "    </tr>\n",
       "    <tr>\n",
       "      <th>109</th>\n",
       "      <td>1993-03-31</td>\n",
       "      <td>NaN</td>\n",
       "      <td>2.933369e+07</td>\n",
       "      <td>1.372963e+06</td>\n",
       "      <td>143.600</td>\n",
       "    </tr>\n",
       "    <tr>\n",
       "      <th>108</th>\n",
       "      <td>1993-06-30</td>\n",
       "      <td>NaN</td>\n",
       "      <td>2.949725e+07</td>\n",
       "      <td>1.382269e+06</td>\n",
       "      <td>144.400</td>\n",
       "    </tr>\n",
       "    <tr>\n",
       "      <th>107</th>\n",
       "      <td>1993-09-30</td>\n",
       "      <td>NaN</td>\n",
       "      <td>2.982662e+07</td>\n",
       "      <td>1.385471e+06</td>\n",
       "      <td>145.100</td>\n",
       "    </tr>\n",
       "    <tr>\n",
       "      <th>24</th>\n",
       "      <td>1993-12-31</td>\n",
       "      <td>4.530435e+12</td>\n",
       "      <td>3.019515e+07</td>\n",
       "      <td>1.397820e+06</td>\n",
       "      <td>145.800</td>\n",
       "    </tr>\n",
       "    <tr>\n",
       "      <th>106</th>\n",
       "      <td>1994-03-31</td>\n",
       "      <td>NaN</td>\n",
       "      <td>3.008942e+07</td>\n",
       "      <td>1.397006e+06</td>\n",
       "      <td>147.200</td>\n",
       "    </tr>\n",
       "    <tr>\n",
       "      <th>105</th>\n",
       "      <td>1994-06-30</td>\n",
       "      <td>NaN</td>\n",
       "      <td>3.018376e+07</td>\n",
       "      <td>1.415177e+06</td>\n",
       "      <td>148.000</td>\n",
       "    </tr>\n",
       "    <tr>\n",
       "      <th>104</th>\n",
       "      <td>1994-09-30</td>\n",
       "      <td>NaN</td>\n",
       "      <td>3.032460e+07</td>\n",
       "      <td>1.417553e+06</td>\n",
       "      <td>149.400</td>\n",
       "    </tr>\n",
       "    <tr>\n",
       "      <th>23</th>\n",
       "      <td>1994-12-31</td>\n",
       "      <td>4.684405e+12</td>\n",
       "      <td>3.057975e+07</td>\n",
       "      <td>1.440433e+06</td>\n",
       "      <td>149.700</td>\n",
       "    </tr>\n",
       "    <tr>\n",
       "      <th>103</th>\n",
       "      <td>1995-03-31</td>\n",
       "      <td>NaN</td>\n",
       "      <td>3.079562e+07</td>\n",
       "      <td>1.446833e+06</td>\n",
       "      <td>151.400</td>\n",
       "    </tr>\n",
       "    <tr>\n",
       "      <th>102</th>\n",
       "      <td>1995-06-30</td>\n",
       "      <td>NaN</td>\n",
       "      <td>3.117791e+07</td>\n",
       "      <td>1.451624e+06</td>\n",
       "      <td>152.500</td>\n",
       "    </tr>\n",
       "    <tr>\n",
       "      <th>101</th>\n",
       "      <td>1995-09-30</td>\n",
       "      <td>NaN</td>\n",
       "      <td>3.173528e+07</td>\n",
       "      <td>1.462775e+06</td>\n",
       "      <td>153.200</td>\n",
       "    </tr>\n",
       "    <tr>\n",
       "      <th>22</th>\n",
       "      <td>1995-12-31</td>\n",
       "      <td>4.786929e+12</td>\n",
       "      <td>3.242388e+07</td>\n",
       "      <td>1.477198e+06</td>\n",
       "      <td>153.500</td>\n",
       "    </tr>\n",
       "    <tr>\n",
       "      <th>100</th>\n",
       "      <td>1996-03-31</td>\n",
       "      <td>NaN</td>\n",
       "      <td>3.258389e+07</td>\n",
       "      <td>1.483005e+06</td>\n",
       "      <td>155.700</td>\n",
       "    </tr>\n",
       "    <tr>\n",
       "      <th>99</th>\n",
       "      <td>1996-06-30</td>\n",
       "      <td>NaN</td>\n",
       "      <td>3.285810e+07</td>\n",
       "      <td>1.503071e+06</td>\n",
       "      <td>156.700</td>\n",
       "    </tr>\n",
       "    <tr>\n",
       "      <th>98</th>\n",
       "      <td>1996-09-30</td>\n",
       "      <td>NaN</td>\n",
       "      <td>3.298790e+07</td>\n",
       "      <td>1.509517e+06</td>\n",
       "      <td>157.800</td>\n",
       "    </tr>\n",
       "    <tr>\n",
       "      <th>21</th>\n",
       "      <td>1996-12-31</td>\n",
       "      <td>4.893515e+12</td>\n",
       "      <td>3.362788e+07</td>\n",
       "      <td>1.522157e+06</td>\n",
       "      <td>158.600</td>\n",
       "    </tr>\n",
       "    <tr>\n",
       "      <th>97</th>\n",
       "      <td>1997-03-31</td>\n",
       "      <td>NaN</td>\n",
       "      <td>3.366424e+07</td>\n",
       "      <td>1.536476e+06</td>\n",
       "      <td>160.000</td>\n",
       "    </tr>\n",
       "    <tr>\n",
       "      <th>...</th>\n",
       "      <td>...</td>\n",
       "      <td>...</td>\n",
       "      <td>...</td>\n",
       "      <td>...</td>\n",
       "      <td>...</td>\n",
       "    </tr>\n",
       "    <tr>\n",
       "      <th>51</th>\n",
       "      <td>2012-06-30</td>\n",
       "      <td>NaN</td>\n",
       "      <td>5.208129e+07</td>\n",
       "      <td>2.135518e+06</td>\n",
       "      <td>229.478</td>\n",
       "    </tr>\n",
       "    <tr>\n",
       "      <th>50</th>\n",
       "      <td>2012-09-30</td>\n",
       "      <td>NaN</td>\n",
       "      <td>5.289707e+07</td>\n",
       "      <td>2.125849e+06</td>\n",
       "      <td>231.407</td>\n",
       "    </tr>\n",
       "    <tr>\n",
       "      <th>5</th>\n",
       "      <td>2012-12-31</td>\n",
       "      <td>7.202739e+12</td>\n",
       "      <td>5.397290e+07</td>\n",
       "      <td>2.212059e+06</td>\n",
       "      <td>229.601</td>\n",
       "    </tr>\n",
       "    <tr>\n",
       "      <th>49</th>\n",
       "      <td>2013-03-31</td>\n",
       "      <td>NaN</td>\n",
       "      <td>5.495001e+07</td>\n",
       "      <td>2.119023e+06</td>\n",
       "      <td>232.773</td>\n",
       "    </tr>\n",
       "    <tr>\n",
       "      <th>48</th>\n",
       "      <td>2013-06-30</td>\n",
       "      <td>NaN</td>\n",
       "      <td>5.551786e+07</td>\n",
       "      <td>2.129553e+06</td>\n",
       "      <td>233.504</td>\n",
       "    </tr>\n",
       "    <tr>\n",
       "      <th>47</th>\n",
       "      <td>2013-09-30</td>\n",
       "      <td>NaN</td>\n",
       "      <td>5.699568e+07</td>\n",
       "      <td>2.141589e+06</td>\n",
       "      <td>234.149</td>\n",
       "    </tr>\n",
       "    <tr>\n",
       "      <th>4</th>\n",
       "      <td>2013-12-31</td>\n",
       "      <td>7.309213e+12</td>\n",
       "      <td>5.880025e+07</td>\n",
       "      <td>2.167325e+06</td>\n",
       "      <td>233.049</td>\n",
       "    </tr>\n",
       "    <tr>\n",
       "      <th>46</th>\n",
       "      <td>2014-03-31</td>\n",
       "      <td>NaN</td>\n",
       "      <td>5.887746e+07</td>\n",
       "      <td>2.174988e+06</td>\n",
       "      <td>236.293</td>\n",
       "    </tr>\n",
       "    <tr>\n",
       "      <th>45</th>\n",
       "      <td>2014-06-30</td>\n",
       "      <td>NaN</td>\n",
       "      <td>5.952523e+07</td>\n",
       "      <td>2.190639e+06</td>\n",
       "      <td>238.343</td>\n",
       "    </tr>\n",
       "    <tr>\n",
       "      <th>44</th>\n",
       "      <td>2014-09-30</td>\n",
       "      <td>NaN</td>\n",
       "      <td>5.994433e+07</td>\n",
       "      <td>2.224718e+06</td>\n",
       "      <td>238.031</td>\n",
       "    </tr>\n",
       "    <tr>\n",
       "      <th>3</th>\n",
       "      <td>2014-12-31</td>\n",
       "      <td>7.574821e+12</td>\n",
       "      <td>6.194798e+07</td>\n",
       "      <td>2.282217e+06</td>\n",
       "      <td>234.812</td>\n",
       "    </tr>\n",
       "    <tr>\n",
       "      <th>43</th>\n",
       "      <td>2015-03-31</td>\n",
       "      <td>NaN</td>\n",
       "      <td>6.276132e+07</td>\n",
       "      <td>2.298858e+06</td>\n",
       "      <td>236.119</td>\n",
       "    </tr>\n",
       "    <tr>\n",
       "      <th>42</th>\n",
       "      <td>2015-06-30</td>\n",
       "      <td>NaN</td>\n",
       "      <td>6.244332e+07</td>\n",
       "      <td>2.306566e+06</td>\n",
       "      <td>238.638</td>\n",
       "    </tr>\n",
       "    <tr>\n",
       "      <th>41</th>\n",
       "      <td>2015-09-30</td>\n",
       "      <td>NaN</td>\n",
       "      <td>6.204694e+07</td>\n",
       "      <td>2.329597e+06</td>\n",
       "      <td>237.945</td>\n",
       "    </tr>\n",
       "    <tr>\n",
       "      <th>2</th>\n",
       "      <td>2015-12-31</td>\n",
       "      <td>7.817218e+12</td>\n",
       "      <td>6.338589e+07</td>\n",
       "      <td>2.365128e+06</td>\n",
       "      <td>236.525</td>\n",
       "    </tr>\n",
       "    <tr>\n",
       "      <th>40</th>\n",
       "      <td>2016-03-31</td>\n",
       "      <td>NaN</td>\n",
       "      <td>6.352336e+07</td>\n",
       "      <td>2.375589e+06</td>\n",
       "      <td>238.132</td>\n",
       "    </tr>\n",
       "    <tr>\n",
       "      <th>39</th>\n",
       "      <td>2016-06-30</td>\n",
       "      <td>NaN</td>\n",
       "      <td>6.369817e+07</td>\n",
       "      <td>2.359469e+06</td>\n",
       "      <td>241.038</td>\n",
       "    </tr>\n",
       "    <tr>\n",
       "      <th>38</th>\n",
       "      <td>2016-09-30</td>\n",
       "      <td>NaN</td>\n",
       "      <td>6.500097e+07</td>\n",
       "      <td>2.376084e+06</td>\n",
       "      <td>241.428</td>\n",
       "    </tr>\n",
       "    <tr>\n",
       "      <th>1</th>\n",
       "      <td>2016-12-31</td>\n",
       "      <td>7.950750e+12</td>\n",
       "      <td>6.576467e+07</td>\n",
       "      <td>2.402659e+06</td>\n",
       "      <td>241.432</td>\n",
       "    </tr>\n",
       "    <tr>\n",
       "      <th>37</th>\n",
       "      <td>2017-03-31</td>\n",
       "      <td>NaN</td>\n",
       "      <td>6.642218e+07</td>\n",
       "      <td>2.416027e+06</td>\n",
       "      <td>243.801</td>\n",
       "    </tr>\n",
       "    <tr>\n",
       "      <th>36</th>\n",
       "      <td>2017-06-30</td>\n",
       "      <td>NaN</td>\n",
       "      <td>6.722365e+07</td>\n",
       "      <td>2.425713e+06</td>\n",
       "      <td>244.955</td>\n",
       "    </tr>\n",
       "    <tr>\n",
       "      <th>35</th>\n",
       "      <td>2017-09-30</td>\n",
       "      <td>NaN</td>\n",
       "      <td>6.801935e+07</td>\n",
       "      <td>2.433383e+06</td>\n",
       "      <td>246.819</td>\n",
       "    </tr>\n",
       "    <tr>\n",
       "      <th>0</th>\n",
       "      <td>2017-12-31</td>\n",
       "      <td>8.120504e+12</td>\n",
       "      <td>6.973163e+07</td>\n",
       "      <td>2.479579e+06</td>\n",
       "      <td>246.524</td>\n",
       "    </tr>\n",
       "    <tr>\n",
       "      <th>34</th>\n",
       "      <td>2018-03-31</td>\n",
       "      <td>NaN</td>\n",
       "      <td>6.928476e+07</td>\n",
       "      <td>2.493422e+06</td>\n",
       "      <td>249.554</td>\n",
       "    </tr>\n",
       "    <tr>\n",
       "      <th>33</th>\n",
       "      <td>2018-06-30</td>\n",
       "      <td>NaN</td>\n",
       "      <td>6.973716e+07</td>\n",
       "      <td>2.495320e+06</td>\n",
       "      <td>251.989</td>\n",
       "    </tr>\n",
       "    <tr>\n",
       "      <th>32</th>\n",
       "      <td>2018-09-30</td>\n",
       "      <td>NaN</td>\n",
       "      <td>7.087815e+07</td>\n",
       "      <td>2.519476e+06</td>\n",
       "      <td>252.439</td>\n",
       "    </tr>\n",
       "    <tr>\n",
       "      <th>31</th>\n",
       "      <td>2018-12-31</td>\n",
       "      <td>NaN</td>\n",
       "      <td>6.908389e+07</td>\n",
       "      <td>2.553361e+06</td>\n",
       "      <td>251.233</td>\n",
       "    </tr>\n",
       "    <tr>\n",
       "      <th>30</th>\n",
       "      <td>2019-03-31</td>\n",
       "      <td>NaN</td>\n",
       "      <td>7.125441e+07</td>\n",
       "      <td>2.561583e+06</td>\n",
       "      <td>254.202</td>\n",
       "    </tr>\n",
       "    <tr>\n",
       "      <th>29</th>\n",
       "      <td>2019-06-30</td>\n",
       "      <td>NaN</td>\n",
       "      <td>7.183588e+07</td>\n",
       "      <td>2.576157e+06</td>\n",
       "      <td>256.143</td>\n",
       "    </tr>\n",
       "    <tr>\n",
       "      <th>119</th>\n",
       "      <td>2019-09-30</td>\n",
       "      <td>NaN</td>\n",
       "      <td>NaN</td>\n",
       "      <td>NaN</td>\n",
       "      <td>256.759</td>\n",
       "    </tr>\n",
       "  </tbody>\n",
       "</table>\n",
       "<p>120 rows × 5 columns</p>\n",
       "</div>"
      ],
      "text/plain": [
       "           Date   consumption         asset        wealth      CPI\n",
       "28   1989-12-31  4.175202e+12  2.857515e+07  1.326765e+06  126.100\n",
       "118  1990-03-31           NaN  2.821462e+07  1.326724e+06  128.700\n",
       "117  1990-06-30           NaN  2.829350e+07  1.335140e+06  129.900\n",
       "116  1990-09-30           NaN  2.758460e+07  1.323467e+06  132.700\n",
       "27   1990-12-31  4.207845e+12  2.789541e+07  1.318484e+06  133.800\n",
       "115  1991-03-31           NaN  2.829596e+07  1.309632e+06  135.000\n",
       "114  1991-06-30           NaN  2.820423e+07  1.315439e+06  136.000\n",
       "113  1991-09-30           NaN  2.828584e+07  1.317042e+06  137.200\n",
       "26   1991-12-31  4.242540e+12  2.883105e+07  1.330785e+06  137.900\n",
       "112  1992-03-31           NaN  2.865285e+07  1.347226e+06  139.300\n",
       "111  1992-06-30           NaN  2.860047e+07  1.363614e+06  140.200\n",
       "110  1992-09-30           NaN  2.879930e+07  1.368184e+06  141.300\n",
       "25   1992-12-31  4.386859e+12  2.934817e+07  1.380836e+06  141.900\n",
       "109  1993-03-31           NaN  2.933369e+07  1.372963e+06  143.600\n",
       "108  1993-06-30           NaN  2.949725e+07  1.382269e+06  144.400\n",
       "107  1993-09-30           NaN  2.982662e+07  1.385471e+06  145.100\n",
       "24   1993-12-31  4.530435e+12  3.019515e+07  1.397820e+06  145.800\n",
       "106  1994-03-31           NaN  3.008942e+07  1.397006e+06  147.200\n",
       "105  1994-06-30           NaN  3.018376e+07  1.415177e+06  148.000\n",
       "104  1994-09-30           NaN  3.032460e+07  1.417553e+06  149.400\n",
       "23   1994-12-31  4.684405e+12  3.057975e+07  1.440433e+06  149.700\n",
       "103  1995-03-31           NaN  3.079562e+07  1.446833e+06  151.400\n",
       "102  1995-06-30           NaN  3.117791e+07  1.451624e+06  152.500\n",
       "101  1995-09-30           NaN  3.173528e+07  1.462775e+06  153.200\n",
       "22   1995-12-31  4.786929e+12  3.242388e+07  1.477198e+06  153.500\n",
       "100  1996-03-31           NaN  3.258389e+07  1.483005e+06  155.700\n",
       "99   1996-06-30           NaN  3.285810e+07  1.503071e+06  156.700\n",
       "98   1996-09-30           NaN  3.298790e+07  1.509517e+06  157.800\n",
       "21   1996-12-31  4.893515e+12  3.362788e+07  1.522157e+06  158.600\n",
       "97   1997-03-31           NaN  3.366424e+07  1.536476e+06  160.000\n",
       "..          ...           ...           ...           ...      ...\n",
       "51   2012-06-30           NaN  5.208129e+07  2.135518e+06  229.478\n",
       "50   2012-09-30           NaN  5.289707e+07  2.125849e+06  231.407\n",
       "5    2012-12-31  7.202739e+12  5.397290e+07  2.212059e+06  229.601\n",
       "49   2013-03-31           NaN  5.495001e+07  2.119023e+06  232.773\n",
       "48   2013-06-30           NaN  5.551786e+07  2.129553e+06  233.504\n",
       "47   2013-09-30           NaN  5.699568e+07  2.141589e+06  234.149\n",
       "4    2013-12-31  7.309213e+12  5.880025e+07  2.167325e+06  233.049\n",
       "46   2014-03-31           NaN  5.887746e+07  2.174988e+06  236.293\n",
       "45   2014-06-30           NaN  5.952523e+07  2.190639e+06  238.343\n",
       "44   2014-09-30           NaN  5.994433e+07  2.224718e+06  238.031\n",
       "3    2014-12-31  7.574821e+12  6.194798e+07  2.282217e+06  234.812\n",
       "43   2015-03-31           NaN  6.276132e+07  2.298858e+06  236.119\n",
       "42   2015-06-30           NaN  6.244332e+07  2.306566e+06  238.638\n",
       "41   2015-09-30           NaN  6.204694e+07  2.329597e+06  237.945\n",
       "2    2015-12-31  7.817218e+12  6.338589e+07  2.365128e+06  236.525\n",
       "40   2016-03-31           NaN  6.352336e+07  2.375589e+06  238.132\n",
       "39   2016-06-30           NaN  6.369817e+07  2.359469e+06  241.038\n",
       "38   2016-09-30           NaN  6.500097e+07  2.376084e+06  241.428\n",
       "1    2016-12-31  7.950750e+12  6.576467e+07  2.402659e+06  241.432\n",
       "37   2017-03-31           NaN  6.642218e+07  2.416027e+06  243.801\n",
       "36   2017-06-30           NaN  6.722365e+07  2.425713e+06  244.955\n",
       "35   2017-09-30           NaN  6.801935e+07  2.433383e+06  246.819\n",
       "0    2017-12-31  8.120504e+12  6.973163e+07  2.479579e+06  246.524\n",
       "34   2018-03-31           NaN  6.928476e+07  2.493422e+06  249.554\n",
       "33   2018-06-30           NaN  6.973716e+07  2.495320e+06  251.989\n",
       "32   2018-09-30           NaN  7.087815e+07  2.519476e+06  252.439\n",
       "31   2018-12-31           NaN  6.908389e+07  2.553361e+06  251.233\n",
       "30   2019-03-31           NaN  7.125441e+07  2.561583e+06  254.202\n",
       "29   2019-06-30           NaN  7.183588e+07  2.576157e+06  256.143\n",
       "119  2019-09-30           NaN           NaN           NaN  256.759\n",
       "\n",
       "[120 rows x 5 columns]"
      ]
     },
     "execution_count": 332,
     "metadata": {},
     "output_type": "execute_result"
    }
   ],
   "source": [
    "#interpolate yearly consumption to quarterly data\n",
    "data=data.sort_values(by='Date')\n",
    "data"
   ]
  },
  {
   "cell_type": "code",
   "execution_count": 350,
   "metadata": {},
   "outputs": [],
   "source": [
    "data['consumption']=data['consumption'].ffill()\n",
    "data['asset']=data['asset'].ffill()\n",
    "data['wealth']=data['wealth'].ffill()"
   ]
  },
  {
   "cell_type": "code",
   "execution_count": 342,
   "metadata": {
    "scrolled": true
   },
   "outputs": [],
   "source": [
    "#log,detrend and cointegration\n",
    "data['consumption']=np.log(data['consumption'])\n",
    "data['asset']=np.log(data['asset'])\n",
    "data['wealth']=np.log(data['wealth'])\n",
    "data=data.set_index('Date')"
   ]
  },
  {
   "cell_type": "code",
   "execution_count": 344,
   "metadata": {},
   "outputs": [
    {
     "data": {
      "text/plain": [
       "<matplotlib.axes._subplots.AxesSubplot at 0x11b128a5ac8>"
      ]
     },
     "execution_count": 344,
     "metadata": {},
     "output_type": "execute_result"
    },
    {
     "data": {
      "image/png": "[encoded data removed]",
      "text/plain": [
       "<Figure size 432x288 with 1 Axes>"
      ]
     },
     "metadata": {
      "needs_background": "light"
     },
     "output_type": "display_data"
    }
   ],
   "source": [
    "#linear trend\n",
    "data[['consumption','asset','wealth']].plot()"
   ]
  },
  {
   "cell_type": "code",
   "execution_count": 367,
   "metadata": {
    "scrolled": true
   },
   "outputs": [
    {
     "data": {
      "text/plain": [
       "[<matplotlib.lines.Line2D at 0x11b15c34ef0>]"
      ]
     },
     "execution_count": 367,
     "metadata": {},
     "output_type": "execute_result"
    },
    {
     "data": {
      "image/png": "[encoded data removed]",
      "text/plain": [
       "<Figure size 432x288 with 1 Axes>"
      ]
     },
     "metadata": {
      "needs_background": "light"
     },
     "output_type": "display_data"
    }
   ],
   "source": [
    "#detrend\n",
    "from scipy import signal\n",
    "data['consumption_norm']=signal.detrend(data['consumption'],type='linear')\n",
    "data['asset_norm']=signal.detrend(data['asset'],type='linear')\n",
    "data['wealth_norm']=signal.detrend(data['wealth'],type='linear')\n",
    "plt.plot(data['consumption_norm'])\n",
    "plt.plot(data['asset_norm'])\n",
    "plt.plot(data['wealth_norm'])"
   ]
  },
  {
   "cell_type": "code",
   "execution_count": 358,
   "metadata": {},
   "outputs": [
    {
     "data": {
      "text/plain": [
       "(-1.786144228189179,\n",
       " 0.930043550501913,\n",
       " array([-4.82422535, -4.22013247, -3.91192733]))"
      ]
     },
     "execution_count": 358,
     "metadata": {},
     "output_type": "execute_result"
    }
   ],
   "source": [
    "from statsmodels.tsa.stattools import coint\n",
    "coint(data['consumption'], data[['asset','wealth']], trend='ct')"
   ]
  },
  {
   "cell_type": "code",
   "execution_count": 371,
   "metadata": {},
   "outputs": [
    {
     "name": "stderr",
     "output_type": "stream",
     "text": [
      "C:\\Users\\xjl05\\AppData\\Local\\conda\\conda\\envs\\python36\\lib\\site-packages\\numpy\\core\\fromnumeric.py:2389: FutureWarning: Method .ptp is deprecated and will be removed in a future version. Use numpy.ptp instead.\n",
      "  return ptp(axis=axis, out=out, **kwargs)\n"
     ]
    }
   ],
   "source": [
    "import statsmodels.api as sm\n",
    "model = sm.OLS(data['consumption'], sm.add_constant(data[['asset','wealth']]))\n",
    "results = model.fit()"
   ]
  },
  {
   "cell_type": "code",
   "execution_count": 375,
   "metadata": {},
   "outputs": [],
   "source": [
    "data['resid']=results.resid"
   ]
  },
  {
   "cell_type": "code",
   "execution_count": 378,
   "metadata": {},
   "outputs": [],
   "source": [
    "data['resid'].to_pickle('CAY.pkl')"
   ]
  },
  {
   "cell_type": "markdown",
   "metadata": {},
   "source": [
    "## 9. VIX-vol forecast\n",
    "\n",
    "https://finance.yahoo.com/quote/%5EGSPC/history/\n",
    "\n",
    "https://finance.yahoo.com/quote/%5EVIX/history?period1=644817600&period2=1573102800&interval=1d&filter=history&frequency=1d"
   ]
  },
  {
   "cell_type": "code",
   "execution_count": 383,
   "metadata": {},
   "outputs": [],
   "source": [
    "sp500=pd.read_csv('raw_data/^GSPC.csv')\n",
    "vix=pd.read_csv('raw_data/^VIX.csv')"
   ]
  },
  {
   "cell_type": "code",
   "execution_count": 384,
   "metadata": {},
   "outputs": [],
   "source": [
    "#implement Yang and Zhang's estimator\n",
    "import numpy as np\n",
    "sp500['o']=np.log(sp500['Open'])-np.log(sp500['Close'].shift(1))\n",
    "sp500['u']=np.log(sp500['High'])-np.log(sp500['Open'])\n",
    "sp500['d']=np.log(sp500['Low'])-np.log(sp500['Open'])\n",
    "sp500['c']=np.log(sp500['Close'])-np.log(sp500['Open'])"
   ]
  },
  {
   "cell_type": "code",
   "execution_count": 385,
   "metadata": {},
   "outputs": [],
   "source": [
    "#suppose n=20\n",
    "n=20\n",
    "sp500['rs']=sp500['u']*(sp500['u']-sp500['c'])+sp500['d']*(sp500['d']-sp500['c'])\n",
    "sp500['V_rs']=sp500['rs'].rolling(window=n).sum()/n\n",
    "series_vo=(sp500['o']-sp500['o'].rolling(window=n).mean())**2\n",
    "sp500['V_o']=series_vo.rolling(window=n).sum()/(n-1)\n",
    "series_vc=(sp500['c']-sp500['c'].rolling(window=20).mean())**2\n",
    "sp500['V_c']=series_vc.rolling(window=n).sum()/(n-1)\n",
    "\n",
    "k=0.34/(1.34+(n+1)/(n-1))\n",
    "sp500['V']=sp500['V_o']+k*sp500['V_c']+(1-k)*sp500['V_rs']"
   ]
  },
  {
   "cell_type": "code",
   "execution_count": 386,
   "metadata": {
    "scrolled": true
   },
   "outputs": [
    {
     "data": {
      "image/png": "[encoded data removed]",
      "text/plain": [
       "<Figure size 720x360 with 1 Axes>"
      ]
     },
     "metadata": {
      "needs_background": "light"
     },
     "output_type": "display_data"
    }
   ],
   "source": [
    "plt.figure(figsize=(10,5))\n",
    "(252*sp500['V']).plot(alpha=0.8)\n",
    "((vix.Close/100)**2).plot(alpha=0.8)\n",
    "plt.legend(['var prediction','vix'])\n",
    "plt.title('yang and zhang\\'s prediction')\n",
    "plt.show()"
   ]
  },
  {
   "cell_type": "code",
   "execution_count": 387,
   "metadata": {},
   "outputs": [],
   "source": [
    "#GARCH style, actually is ARMA to variance\n",
    "from statsmodels.tsa.arima_model import ARMA\n",
    "model=ARMA(sp500['V'][39:],order=(1,1)).fit()"
   ]
  },
  {
   "cell_type": "code",
   "execution_count": 388,
   "metadata": {
    "scrolled": true
   },
   "outputs": [
    {
     "data": {
      "text/plain": [
       "78      0.000037\n",
       "79      0.000036\n",
       "80      0.000036\n",
       "81      0.000037\n",
       "82      0.000039\n",
       "83      0.000039\n",
       "84      0.000035\n",
       "85      0.000035\n",
       "86      0.000035\n",
       "87      0.000034\n",
       "88      0.000034\n",
       "89      0.000034\n",
       "90      0.000034\n",
       "91      0.000035\n",
       "92      0.000040\n",
       "93      0.000045\n",
       "94      0.000042\n",
       "95      0.000041\n",
       "96      0.000043\n",
       "97      0.000039\n",
       "98      0.000041\n",
       "99      0.000041\n",
       "100     0.000041\n",
       "101     0.000040\n",
       "102     0.000039\n",
       "103     0.000038\n",
       "104     0.000039\n",
       "105     0.000039\n",
       "106     0.000037\n",
       "107     0.000039\n",
       "          ...   \n",
       "7492    0.000044\n",
       "7493    0.000043\n",
       "7494    0.000043\n",
       "7495    0.000041\n",
       "7496    0.000041\n",
       "7497    0.000046\n",
       "7498    0.000053\n",
       "7499    0.000053\n",
       "7500    0.000054\n",
       "7501    0.000054\n",
       "7502    0.000057\n",
       "7503    0.000058\n",
       "7504    0.000065\n",
       "7505    0.000061\n",
       "7506    0.000064\n",
       "7507    0.000059\n",
       "7508    0.000061\n",
       "7509    0.000060\n",
       "7510    0.000059\n",
       "7511    0.000054\n",
       "7512    0.000052\n",
       "7513    0.000052\n",
       "7514    0.000048\n",
       "7515    0.000049\n",
       "7516    0.000045\n",
       "7517    0.000040\n",
       "7518    0.000032\n",
       "7519    0.000033\n",
       "7520    0.000031\n",
       "7521    0.000028\n",
       "Length: 7444, dtype: float64"
      ]
     },
     "execution_count": 388,
     "metadata": {},
     "output_type": "execute_result"
    }
   ],
   "source": [
    "model.predict()"
   ]
  },
  {
   "cell_type": "code",
   "execution_count": 389,
   "metadata": {
    "scrolled": true
   },
   "outputs": [],
   "source": [
    "vix=vix.iloc[78:]\n",
    "vix['forecast']=np.sqrt(model.predict()*252)*100"
   ]
  },
  {
   "cell_type": "code",
   "execution_count": 390,
   "metadata": {},
   "outputs": [
    {
     "data": {
      "image/png": "[encoded data removed]",
      "text/plain": [
       "<Figure size 720x360 with 1 Axes>"
      ]
     },
     "metadata": {
      "needs_background": "light"
     },
     "output_type": "display_data"
    }
   ],
   "source": [
    "plt.figure(figsize=(10,5))\n",
    "vix['Close'].plot(alpha=0.8)\n",
    "vix['forecast'].plot(alpha=0.8)\n",
    "plt.legend(['var prediction','vix'])\n",
    "plt.title('GARCH prediction')\n",
    "plt.show()"
   ]
  },
  {
   "cell_type": "code",
   "execution_count": 391,
   "metadata": {
    "scrolled": true
   },
   "outputs": [],
   "source": [
    "vix['VRP']=vix['Close']-vix['forecast']\n",
    "vix=vix[(vix['Date']>='1990-06-08')&(vix['Date']<='2019-11-05')]\n",
    "vix=vix.set_index('Date')\n",
    "vix['VRP'].to_pickle('VRP.pkl')"
   ]
  },
  {
   "cell_type": "markdown",
   "metadata": {},
   "source": [
    "## 10. Implied correlation\n",
    "\n",
    "http://www.cboe.com/publish/scheduledtask/mktdata/datahouse/implied_correlation_hist.csv\n",
    "\n",
    "Choose the first available IC for each date.\n",
    "\n",
    "from 20070103-20191105"
   ]
  },
  {
   "cell_type": "code",
   "execution_count": 138,
   "metadata": {},
   "outputs": [],
   "source": [
    "IC1=pd.read_csv('raw_data/implied_correlation_hist.csv',skiprows=1)"
   ]
  },
  {
   "cell_type": "code",
   "execution_count": 139,
   "metadata": {},
   "outputs": [],
   "source": [
    "del IC1['SPX']\n",
    "del IC1['VIX']\n",
    "IC1['DATE']=pd.to_datetime(IC1['DATE']).astype(str)\n",
    "IC1=IC1[IC1.DATE<='2019-11-05']\n",
    "IC1=IC1.set_index('DATE')"
   ]
  },
  {
   "cell_type": "code",
   "execution_count": 140,
   "metadata": {},
   "outputs": [],
   "source": [
    "def firstIC(row):\n",
    "    for i in row:\n",
    "        try:\n",
    "            if(np.isnan(i)):\n",
    "                continue\n",
    "            else:\n",
    "                return i\n",
    "        except:\n",
    "            return\n",
    "IC1['IC']=IC1.apply(firstIC,axis=1)"
   ]
  },
  {
   "cell_type": "code",
   "execution_count": 142,
   "metadata": {},
   "outputs": [],
   "source": [
    "IC1['IC'].to_pickle('IC.pkl')"
   ]
  },
  {
   "cell_type": "markdown",
   "metadata": {},
   "source": [
    "## 11. Baltic dry index\n",
    "\n",
    "https://www.investing.com/indices/baltic-dry-historical-data"
   ]
  },
  {
   "cell_type": "code",
   "execution_count": 9,
   "metadata": {
    "scrolled": true
   },
   "outputs": [],
   "source": [
    "BDI1=pd.read_csv('raw_data/Baltic Dry Index Historical Data.csv')#20120704-20191001"
   ]
  },
  {
   "cell_type": "code",
   "execution_count": 6,
   "metadata": {
    "scrolled": true
   },
   "outputs": [],
   "source": [
    "BDI2=pd.read_csv('raw_data/equity_mkt_timing_2018/BDI_GSCI.csv')"
   ]
  },
  {
   "cell_type": "code",
   "execution_count": 22,
   "metadata": {},
   "outputs": [],
   "source": [
    "BDI2['Date']=pd.to_datetime(BDI2['Name']).astype(str)\n",
    "BDI2=BDI2[(BDI2['Date']>='1990-06-08')&(BDI2['Date']<'2012-07-04')]\n",
    "BDI2=BDI2.rename(columns={'Baltic Exchange Dry Index (BDI) - PRICE INDEX':'BDI'})\n",
    "BDI1=BDI1.rename(columns={'Price':'BDI'})"
   ]
  },
  {
   "cell_type": "code",
   "execution_count": 25,
   "metadata": {},
   "outputs": [],
   "source": [
    "BDI2=BDI2.sort_values(by='Date',ascending=True).set_index('Date')['BDI']\n",
    "BDI1=BDI1.sort_values(by='Date',ascending=True).set_index('Date')['BDI']"
   ]
  },
  {
   "cell_type": "code",
   "execution_count": 48,
   "metadata": {},
   "outputs": [],
   "source": [
    "BDI1=BDI1.apply(lambda x: float(x.replace(',','')))\n",
    "BDI=pd.concat([BDI1,BDI2])"
   ]
  },
  {
   "cell_type": "code",
   "execution_count": 50,
   "metadata": {},
   "outputs": [],
   "source": [
    "BDI.to_pickle('BDI.pkl')"
   ]
  },
  {
   "cell_type": "code",
   "execution_count": null,
   "metadata": {},
   "outputs": [],
   "source": []
  }
 ],
 "metadata": {
  "kernelspec": {
   "display_name": "Python 3",
   "language": "python",
   "name": "python3"
  },
  "language_info": {
   "codemirror_mode": {
    "name": "ipython",
    "version": 3
   },
   "file_extension": ".py",
   "mimetype": "text/x-python",
   "name": "python",
   "nbconvert_exporter": "python",
   "pygments_lexer": "ipython3",
   "version": "3.6.8"
  }
 },
 "nbformat": 4,
 "nbformat_minor": 2
}
