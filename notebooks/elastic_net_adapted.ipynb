{
 "cells": [
  {
   "cell_type": "code",
   "execution_count": 1,
   "metadata": {},
   "outputs": [],
   "source": [
    "import sys\n",
    "sys.path.insert(1, '../')\n",
    "sys.path.insert(1, '../regressions/')\n",
    "sys.path.insert(1, '../tools/')\n",
    "\n",
    "import pandas as pd\n",
    "import numpy as np\n",
    "import datetime as dt\n",
    "from importlib import reload\n",
    "from tqdm import tqdm_notebook as tqdm\n",
    "\n",
    "import matplotlib.pyplot as plt\n",
    "import seaborn as sns\n",
    "\n",
    "from sklearn.linear_model import ElasticNet\n",
    "from sklearn.impute import SimpleImputer\n",
    "from sklearn.preprocessing import StandardScaler\n",
    "from sklearn.pipeline import make_pipeline\n",
    "\n",
    "from pandas.plotting import register_matplotlib_converters\n",
    "register_matplotlib_converters()\n",
    "\n",
    "plt.style.use('ggplot')\n",
    "%matplotlib inline\n",
    "\n",
    "import TSManager as ts"
   ]
  },
  {
   "cell_type": "code",
   "execution_count": 2,
   "metadata": {},
   "outputs": [
    {
     "data": {
      "text/html": [
       "<div>\n",
       "<style scoped>\n",
       "    .dataframe tbody tr th:only-of-type {\n",
       "        vertical-align: middle;\n",
       "    }\n",
       "\n",
       "    .dataframe tbody tr th {\n",
       "        vertical-align: top;\n",
       "    }\n",
       "\n",
       "    .dataframe thead th {\n",
       "        text-align: right;\n",
       "    }\n",
       "</style>\n",
       "<table border=\"1\" class=\"dataframe\">\n",
       "  <thead>\n",
       "    <tr style=\"text-align: right;\">\n",
       "      <th></th>\n",
       "      <th>IC</th>\n",
       "      <th>VRP</th>\n",
       "      <th>BDI</th>\n",
       "      <th>SI</th>\n",
       "      <th>DP</th>\n",
       "      <th>PE</th>\n",
       "      <th>BM</th>\n",
       "      <th>CAPE</th>\n",
       "      <th>PCAPrice</th>\n",
       "      <th>BY</th>\n",
       "      <th>...</th>\n",
       "      <th>TERM</th>\n",
       "      <th>CAY</th>\n",
       "      <th>SIM</th>\n",
       "      <th>NOS</th>\n",
       "      <th>CPI</th>\n",
       "      <th>PCR</th>\n",
       "      <th>MA</th>\n",
       "      <th>OIL</th>\n",
       "      <th>SPX</th>\n",
       "      <th>RF</th>\n",
       "    </tr>\n",
       "    <tr>\n",
       "      <th>AsOfDate</th>\n",
       "      <th></th>\n",
       "      <th></th>\n",
       "      <th></th>\n",
       "      <th></th>\n",
       "      <th></th>\n",
       "      <th></th>\n",
       "      <th></th>\n",
       "      <th></th>\n",
       "      <th></th>\n",
       "      <th></th>\n",
       "      <th></th>\n",
       "      <th></th>\n",
       "      <th></th>\n",
       "      <th></th>\n",
       "      <th></th>\n",
       "      <th></th>\n",
       "      <th></th>\n",
       "      <th></th>\n",
       "      <th></th>\n",
       "      <th></th>\n",
       "      <th></th>\n",
       "    </tr>\n",
       "  </thead>\n",
       "  <tbody>\n",
       "    <tr>\n",
       "      <td>1990-06-08</td>\n",
       "      <td>NaN</td>\n",
       "      <td>0.737088</td>\n",
       "      <td>-0.152808</td>\n",
       "      <td>NaN</td>\n",
       "      <td>0.063979</td>\n",
       "      <td>7.524271</td>\n",
       "      <td>NaN</td>\n",
       "      <td>8.978524</td>\n",
       "      <td>3.616905</td>\n",
       "      <td>1.007418</td>\n",
       "      <td>...</td>\n",
       "      <td>0.50</td>\n",
       "      <td>-0.013576</td>\n",
       "      <td>0.715385</td>\n",
       "      <td>0.016941</td>\n",
       "      <td>0.046737</td>\n",
       "      <td>-1.622923</td>\n",
       "      <td>1.0</td>\n",
       "      <td>NaN</td>\n",
       "      <td>-0.012302</td>\n",
       "      <td>NaN</td>\n",
       "    </tr>\n",
       "    <tr>\n",
       "      <td>1990-06-11</td>\n",
       "      <td>NaN</td>\n",
       "      <td>-0.853208</td>\n",
       "      <td>-0.163823</td>\n",
       "      <td>NaN</td>\n",
       "      <td>0.063463</td>\n",
       "      <td>7.597792</td>\n",
       "      <td>NaN</td>\n",
       "      <td>9.051612</td>\n",
       "      <td>3.583706</td>\n",
       "      <td>1.009642</td>\n",
       "      <td>...</td>\n",
       "      <td>0.49</td>\n",
       "      <td>-0.013576</td>\n",
       "      <td>0.707692</td>\n",
       "      <td>0.016941</td>\n",
       "      <td>0.046737</td>\n",
       "      <td>-1.615366</td>\n",
       "      <td>1.0</td>\n",
       "      <td>NaN</td>\n",
       "      <td>0.008107</td>\n",
       "      <td>NaN</td>\n",
       "    </tr>\n",
       "    <tr>\n",
       "      <td>1990-06-12</td>\n",
       "      <td>NaN</td>\n",
       "      <td>-0.057387</td>\n",
       "      <td>-0.171766</td>\n",
       "      <td>NaN</td>\n",
       "      <td>0.062662</td>\n",
       "      <td>7.699009</td>\n",
       "      <td>NaN</td>\n",
       "      <td>9.167251</td>\n",
       "      <td>3.532720</td>\n",
       "      <td>1.009580</td>\n",
       "      <td>...</td>\n",
       "      <td>0.49</td>\n",
       "      <td>-0.013576</td>\n",
       "      <td>0.700000</td>\n",
       "      <td>0.016941</td>\n",
       "      <td>0.046737</td>\n",
       "      <td>-1.618868</td>\n",
       "      <td>1.0</td>\n",
       "      <td>NaN</td>\n",
       "      <td>0.012695</td>\n",
       "      <td>NaN</td>\n",
       "    </tr>\n",
       "    <tr>\n",
       "      <td>1990-06-13</td>\n",
       "      <td>NaN</td>\n",
       "      <td>1.332508</td>\n",
       "      <td>-0.180577</td>\n",
       "      <td>NaN</td>\n",
       "      <td>0.062894</td>\n",
       "      <td>7.674771</td>\n",
       "      <td>NaN</td>\n",
       "      <td>9.133460</td>\n",
       "      <td>3.547245</td>\n",
       "      <td>1.000056</td>\n",
       "      <td>...</td>\n",
       "      <td>0.47</td>\n",
       "      <td>-0.013576</td>\n",
       "      <td>0.692308</td>\n",
       "      <td>0.016941</td>\n",
       "      <td>0.046737</td>\n",
       "      <td>-1.625316</td>\n",
       "      <td>1.0</td>\n",
       "      <td>NaN</td>\n",
       "      <td>-0.003693</td>\n",
       "      <td>NaN</td>\n",
       "    </tr>\n",
       "    <tr>\n",
       "      <td>1990-06-14</td>\n",
       "      <td>NaN</td>\n",
       "      <td>1.204540</td>\n",
       "      <td>-0.189466</td>\n",
       "      <td>NaN</td>\n",
       "      <td>0.063241</td>\n",
       "      <td>7.636994</td>\n",
       "      <td>NaN</td>\n",
       "      <td>9.083400</td>\n",
       "      <td>3.569002</td>\n",
       "      <td>0.997689</td>\n",
       "      <td>...</td>\n",
       "      <td>0.46</td>\n",
       "      <td>-0.013576</td>\n",
       "      <td>0.684615</td>\n",
       "      <td>0.016941</td>\n",
       "      <td>0.046737</td>\n",
       "      <td>-1.620454</td>\n",
       "      <td>1.0</td>\n",
       "      <td>NaN</td>\n",
       "      <td>-0.005496</td>\n",
       "      <td>NaN</td>\n",
       "    </tr>\n",
       "  </tbody>\n",
       "</table>\n",
       "<p>5 rows × 21 columns</p>\n",
       "</div>"
      ],
      "text/plain": [
       "            IC       VRP       BDI  SI        DP        PE  BM      CAPE  \\\n",
       "AsOfDate                                                                   \n",
       "1990-06-08 NaN  0.737088 -0.152808 NaN  0.063979  7.524271 NaN  8.978524   \n",
       "1990-06-11 NaN -0.853208 -0.163823 NaN  0.063463  7.597792 NaN  9.051612   \n",
       "1990-06-12 NaN -0.057387 -0.171766 NaN  0.062662  7.699009 NaN  9.167251   \n",
       "1990-06-13 NaN  1.332508 -0.180577 NaN  0.062894  7.674771 NaN  9.133460   \n",
       "1990-06-14 NaN  1.204540 -0.189466 NaN  0.063241  7.636994 NaN  9.083400   \n",
       "\n",
       "            PCAPrice        BY  ...  TERM       CAY       SIM       NOS  \\\n",
       "AsOfDate                        ...                                       \n",
       "1990-06-08  3.616905  1.007418  ...  0.50 -0.013576  0.715385  0.016941   \n",
       "1990-06-11  3.583706  1.009642  ...  0.49 -0.013576  0.707692  0.016941   \n",
       "1990-06-12  3.532720  1.009580  ...  0.49 -0.013576  0.700000  0.016941   \n",
       "1990-06-13  3.547245  1.000056  ...  0.47 -0.013576  0.692308  0.016941   \n",
       "1990-06-14  3.569002  0.997689  ...  0.46 -0.013576  0.684615  0.016941   \n",
       "\n",
       "                 CPI       PCR   MA  OIL       SPX  RF  \n",
       "AsOfDate                                                \n",
       "1990-06-08  0.046737 -1.622923  1.0  NaN -0.012302 NaN  \n",
       "1990-06-11  0.046737 -1.615366  1.0  NaN  0.008107 NaN  \n",
       "1990-06-12  0.046737 -1.618868  1.0  NaN  0.012695 NaN  \n",
       "1990-06-13  0.046737 -1.625316  1.0  NaN -0.003693 NaN  \n",
       "1990-06-14  0.046737 -1.620454  1.0  NaN -0.005496 NaN  \n",
       "\n",
       "[5 rows x 21 columns]"
      ]
     },
     "execution_count": 2,
     "metadata": {},
     "output_type": "execute_result"
    }
   ],
   "source": [
    "df = pd.read_pickle('../pkl_data/train_prepared.pkl')\n",
    "df.head()"
   ]
  },
  {
   "cell_type": "code",
   "execution_count": 3,
   "metadata": {},
   "outputs": [],
   "source": [
    "x_cols = [x for x in df.columns if x not in ['SPX','RF']]"
   ]
  },
  {
   "cell_type": "code",
   "execution_count": 4,
   "metadata": {},
   "outputs": [],
   "source": [
    "# constructing the target label\n",
    "df['spx_tp130'] = df['SPX'].rolling(130).sum().shift(-129)\n",
    "df = df.dropna(subset=['spx_tp130'])"
   ]
  },
  {
   "cell_type": "markdown",
   "metadata": {},
   "source": [
    "## Program Parameters"
   ]
  },
  {
   "cell_type": "code",
   "execution_count": 5,
   "metadata": {},
   "outputs": [],
   "source": [
    "LOOKBACK_YEARS = 10  # when regressing, how far back to look in years\n",
    "VALIDATE_DAYS = 20  # when regressing, the number of days to hold parameters constant\n",
    "MIN_X_THRESH = 0.5  # when training, drop x that is too sparse, otherwise median-fill after normalization"
   ]
  },
  {
   "cell_type": "code",
   "execution_count": 6,
   "metadata": {},
   "outputs": [],
   "source": [
    "# normalization pipeline\n",
    "scaler = StandardScaler()\n",
    "si = SimpleImputer(strategy='median')\n",
    "pipe = make_pipeline(scaler, si)"
   ]
  },
  {
   "cell_type": "code",
   "execution_count": 7,
   "metadata": {},
   "outputs": [
    {
     "data": {
      "text/plain": [
       "((6146, 19), (6146,))"
      ]
     },
     "execution_count": 7,
     "metadata": {},
     "output_type": "execute_result"
    }
   ],
   "source": [
    "all_x = df[x_cols]\n",
    "all_y = df['spx_tp130']\n",
    "all_x.shape, all_y.shape"
   ]
  },
  {
   "cell_type": "markdown",
   "metadata": {},
   "source": [
    "## Function for scoring elastic net hparams:\n",
    "\n",
    "we will compute the total SSE on the test 20 days for all train-test pairs, and use that as our parameter selection metric"
   ]
  },
  {
   "cell_type": "code",
   "execution_count": 8,
   "metadata": {},
   "outputs": [],
   "source": [
    "def test_en_hparams(h_alpha, h_l1_ratio):\n",
    "    start_i = LOOKBACK_YEARS * 252\n",
    "    end_i = all_x.shape[0] - VALIDATE_DAYS\n",
    "    tot_sse = 0.\n",
    "    \n",
    "    for i in tqdm(range(start_i, end_i + 1)):\n",
    "        # forming the training period of n years of look back\n",
    "        fit_start = i - LOOKBACK_YEARS * 252\n",
    "        fit_end = i\n",
    "        \n",
    "        # forming the test period of just 20 days\n",
    "        test_start = i\n",
    "        test_end = i + 20\n",
    "        \n",
    "        cur_train = all_x[fit_start:fit_end]\n",
    "        cur_test = all_x[test_start:test_end]\n",
    "        cur_y = all_y[fit_start:fit_end]\n",
    "        cur_y_test = all_y[test_start:test_end]\n",
    "        \n",
    "        # drop columns in train that do note have enough obs:\n",
    "        cur_train = cur_train.dropna(axis=1, thresh=int(MIN_X_THRESH * cur_train.shape[0]))\n",
    "        cur_test = cur_test[cur_train.columns]\n",
    "        \n",
    "        # pipe to norm/impute\n",
    "        cur_train_norm = pipe.fit_transform(cur_train)\n",
    "        cur_test_norm = pipe.fit_transform(cur_test)\n",
    "        \n",
    "        en = ElasticNet(alpha=h_alpha, l1_ratio=h_l1_ratio)\n",
    "        en.fit(cur_train_norm, cur_y)\n",
    "        \n",
    "        # ** we will compute the total SSE on the test 20 days and use that as our parameter selection\n",
    "        test_preds = en.predict(cur_test_norm)\n",
    "        cur_sse = ((test_preds - cur_y_test.values) ** 2).sum()\n",
    "        tot_sse += cur_sse\n",
    "        \n",
    "    return tot_sse"
   ]
  },
  {
   "cell_type": "markdown",
   "metadata": {},
   "source": [
    "## Grid Search"
   ]
  },
  {
   "cell_type": "code",
   "execution_count": 9,
   "metadata": {},
   "outputs": [
    {
     "name": "stderr",
     "output_type": "stream",
     "text": [
      "/Users/Karl/anaconda/envs/py36/lib/python3.6/site-packages/ipykernel_launcher.py:6: TqdmDeprecationWarning: This function will be removed in tqdm==5.0.0\n",
      "Please use `tqdm.notebook.tqdm` instead of `tqdm.tqdm_notebook`\n",
      "  \n"
     ]
    },
    {
     "data": {
      "application/vnd.jupyter.widget-view+json": {
       "model_id": "313b0f41bc714ece8792b267f493c21a",
       "version_major": 2,
       "version_minor": 0
      },
      "text/plain": [
       "HBox(children=(FloatProgress(value=0.0, max=3607.0), HTML(value='')))"
      ]
     },
     "metadata": {},
     "output_type": "display_data"
    },
    {
     "name": "stderr",
     "output_type": "stream",
     "text": [
      "/Users/Karl/anaconda/envs/py36/lib/python3.6/site-packages/sklearn/utils/extmath.py:776: RuntimeWarning: invalid value encountered in true_divide\n",
      "  updated_mean = (last_sum + new_sum) / updated_sample_count\n",
      "/Users/Karl/anaconda/envs/py36/lib/python3.6/site-packages/sklearn/utils/extmath.py:781: RuntimeWarning: Degrees of freedom <= 0 for slice.\n",
      "  new_unnormalized_variance = np.nanvar(X, axis=0) * new_sample_count\n"
     ]
    },
    {
     "ename": "ValueError",
     "evalue": "shapes (20,17) and (18,) not aligned: 17 (dim 1) != 18 (dim 0)",
     "output_type": "error",
     "traceback": [
      "\u001b[0;31m---------------------------------------------------------------------------\u001b[0m",
      "\u001b[0;31mValueError\u001b[0m                                Traceback (most recent call last)",
      "\u001b[0;32m<ipython-input-9-7fc53c96bdd6>\u001b[0m in \u001b[0;36m<module>\u001b[0;34m()\u001b[0m\n\u001b[1;32m      5\u001b[0m \u001b[0;32mfor\u001b[0m \u001b[0mh_alpha\u001b[0m \u001b[0;32min\u001b[0m \u001b[0mtry_alphas\u001b[0m\u001b[0;34m:\u001b[0m\u001b[0;34m\u001b[0m\u001b[0m\n\u001b[1;32m      6\u001b[0m     \u001b[0;32mfor\u001b[0m \u001b[0mh_l1_ratio\u001b[0m \u001b[0;32min\u001b[0m \u001b[0mtry_l1_ratios\u001b[0m\u001b[0;34m:\u001b[0m\u001b[0;34m\u001b[0m\u001b[0m\n\u001b[0;32m----> 7\u001b[0;31m         \u001b[0mres_dict\u001b[0m\u001b[0;34m[\u001b[0m\u001b[0;34m(\u001b[0m\u001b[0mh_alpha\u001b[0m\u001b[0;34m,\u001b[0m \u001b[0mh_l1_ratio\u001b[0m\u001b[0;34m)\u001b[0m\u001b[0;34m]\u001b[0m \u001b[0;34m=\u001b[0m \u001b[0mtest_en_hparams\u001b[0m\u001b[0;34m(\u001b[0m\u001b[0mh_alpha\u001b[0m\u001b[0;34m,\u001b[0m \u001b[0mh_l1_ratio\u001b[0m\u001b[0;34m)\u001b[0m\u001b[0;34m\u001b[0m\u001b[0m\n\u001b[0m",
      "\u001b[0;32m<ipython-input-8-0bf7284fd2b8>\u001b[0m in \u001b[0;36mtest_en_hparams\u001b[0;34m(h_alpha, h_l1_ratio)\u001b[0m\n\u001b[1;32m     30\u001b[0m \u001b[0;34m\u001b[0m\u001b[0m\n\u001b[1;32m     31\u001b[0m         \u001b[0;31m# ** we will compute the total SSE on the test 20 days and use that as our parameter selection\u001b[0m\u001b[0;34m\u001b[0m\u001b[0;34m\u001b[0m\u001b[0m\n\u001b[0;32m---> 32\u001b[0;31m         \u001b[0mtest_preds\u001b[0m \u001b[0;34m=\u001b[0m \u001b[0men\u001b[0m\u001b[0;34m.\u001b[0m\u001b[0mpredict\u001b[0m\u001b[0;34m(\u001b[0m\u001b[0mcur_test_norm\u001b[0m\u001b[0;34m)\u001b[0m\u001b[0;34m\u001b[0m\u001b[0m\n\u001b[0m\u001b[1;32m     33\u001b[0m         \u001b[0mcur_sse\u001b[0m \u001b[0;34m=\u001b[0m \u001b[0;34m(\u001b[0m\u001b[0;34m(\u001b[0m\u001b[0mtest_preds\u001b[0m \u001b[0;34m-\u001b[0m \u001b[0mcur_y_test\u001b[0m\u001b[0;34m.\u001b[0m\u001b[0mvalues\u001b[0m\u001b[0;34m)\u001b[0m \u001b[0;34m**\u001b[0m \u001b[0;36m2\u001b[0m\u001b[0;34m)\u001b[0m\u001b[0;34m.\u001b[0m\u001b[0msum\u001b[0m\u001b[0;34m(\u001b[0m\u001b[0;34m)\u001b[0m\u001b[0;34m\u001b[0m\u001b[0m\n\u001b[1;32m     34\u001b[0m         \u001b[0mtot_sse\u001b[0m \u001b[0;34m+=\u001b[0m \u001b[0mcur_sse\u001b[0m\u001b[0;34m\u001b[0m\u001b[0m\n",
      "\u001b[0;32m~/anaconda/envs/py36/lib/python3.6/site-packages/sklearn/linear_model/base.py\u001b[0m in \u001b[0;36mpredict\u001b[0;34m(self, X)\u001b[0m\n\u001b[1;32m    211\u001b[0m             \u001b[0mReturns\u001b[0m \u001b[0mpredicted\u001b[0m \u001b[0mvalues\u001b[0m\u001b[0;34m.\u001b[0m\u001b[0;34m\u001b[0m\u001b[0m\n\u001b[1;32m    212\u001b[0m         \"\"\"\n\u001b[0;32m--> 213\u001b[0;31m         \u001b[0;32mreturn\u001b[0m \u001b[0mself\u001b[0m\u001b[0;34m.\u001b[0m\u001b[0m_decision_function\u001b[0m\u001b[0;34m(\u001b[0m\u001b[0mX\u001b[0m\u001b[0;34m)\u001b[0m\u001b[0;34m\u001b[0m\u001b[0m\n\u001b[0m\u001b[1;32m    214\u001b[0m \u001b[0;34m\u001b[0m\u001b[0m\n\u001b[1;32m    215\u001b[0m     \u001b[0m_preprocess_data\u001b[0m \u001b[0;34m=\u001b[0m \u001b[0mstaticmethod\u001b[0m\u001b[0;34m(\u001b[0m\u001b[0m_preprocess_data\u001b[0m\u001b[0;34m)\u001b[0m\u001b[0;34m\u001b[0m\u001b[0m\n",
      "\u001b[0;32m~/anaconda/envs/py36/lib/python3.6/site-packages/sklearn/linear_model/coordinate_descent.py\u001b[0m in \u001b[0;36m_decision_function\u001b[0;34m(self, X)\u001b[0m\n\u001b[1;32m    803\u001b[0m                                    dense_output=True) + self.intercept_\n\u001b[1;32m    804\u001b[0m         \u001b[0;32melse\u001b[0m\u001b[0;34m:\u001b[0m\u001b[0;34m\u001b[0m\u001b[0m\n\u001b[0;32m--> 805\u001b[0;31m             \u001b[0;32mreturn\u001b[0m \u001b[0msuper\u001b[0m\u001b[0;34m(\u001b[0m\u001b[0mElasticNet\u001b[0m\u001b[0;34m,\u001b[0m \u001b[0mself\u001b[0m\u001b[0;34m)\u001b[0m\u001b[0;34m.\u001b[0m\u001b[0m_decision_function\u001b[0m\u001b[0;34m(\u001b[0m\u001b[0mX\u001b[0m\u001b[0;34m)\u001b[0m\u001b[0;34m\u001b[0m\u001b[0m\n\u001b[0m\u001b[1;32m    806\u001b[0m \u001b[0;34m\u001b[0m\u001b[0m\n\u001b[1;32m    807\u001b[0m \u001b[0;34m\u001b[0m\u001b[0m\n",
      "\u001b[0;32m~/anaconda/envs/py36/lib/python3.6/site-packages/sklearn/linear_model/base.py\u001b[0m in \u001b[0;36m_decision_function\u001b[0;34m(self, X)\u001b[0m\n\u001b[1;32m    196\u001b[0m         \u001b[0mX\u001b[0m \u001b[0;34m=\u001b[0m \u001b[0mcheck_array\u001b[0m\u001b[0;34m(\u001b[0m\u001b[0mX\u001b[0m\u001b[0;34m,\u001b[0m \u001b[0maccept_sparse\u001b[0m\u001b[0;34m=\u001b[0m\u001b[0;34m[\u001b[0m\u001b[0;34m'csr'\u001b[0m\u001b[0;34m,\u001b[0m \u001b[0;34m'csc'\u001b[0m\u001b[0;34m,\u001b[0m \u001b[0;34m'coo'\u001b[0m\u001b[0;34m]\u001b[0m\u001b[0;34m)\u001b[0m\u001b[0;34m\u001b[0m\u001b[0m\n\u001b[1;32m    197\u001b[0m         return safe_sparse_dot(X, self.coef_.T,\n\u001b[0;32m--> 198\u001b[0;31m                                dense_output=True) + self.intercept_\n\u001b[0m\u001b[1;32m    199\u001b[0m \u001b[0;34m\u001b[0m\u001b[0m\n\u001b[1;32m    200\u001b[0m     \u001b[0;32mdef\u001b[0m \u001b[0mpredict\u001b[0m\u001b[0;34m(\u001b[0m\u001b[0mself\u001b[0m\u001b[0;34m,\u001b[0m \u001b[0mX\u001b[0m\u001b[0;34m)\u001b[0m\u001b[0;34m:\u001b[0m\u001b[0;34m\u001b[0m\u001b[0m\n",
      "\u001b[0;32m~/anaconda/envs/py36/lib/python3.6/site-packages/sklearn/utils/extmath.py\u001b[0m in \u001b[0;36msafe_sparse_dot\u001b[0;34m(a, b, dense_output)\u001b[0m\n\u001b[1;32m    171\u001b[0m         \u001b[0;32mreturn\u001b[0m \u001b[0mret\u001b[0m\u001b[0;34m\u001b[0m\u001b[0m\n\u001b[1;32m    172\u001b[0m     \u001b[0;32melse\u001b[0m\u001b[0;34m:\u001b[0m\u001b[0;34m\u001b[0m\u001b[0m\n\u001b[0;32m--> 173\u001b[0;31m         \u001b[0;32mreturn\u001b[0m \u001b[0mnp\u001b[0m\u001b[0;34m.\u001b[0m\u001b[0mdot\u001b[0m\u001b[0;34m(\u001b[0m\u001b[0ma\u001b[0m\u001b[0;34m,\u001b[0m \u001b[0mb\u001b[0m\u001b[0;34m)\u001b[0m\u001b[0;34m\u001b[0m\u001b[0m\n\u001b[0m\u001b[1;32m    174\u001b[0m \u001b[0;34m\u001b[0m\u001b[0m\n\u001b[1;32m    175\u001b[0m \u001b[0;34m\u001b[0m\u001b[0m\n",
      "\u001b[0;32m<__array_function__ internals>\u001b[0m in \u001b[0;36mdot\u001b[0;34m(*args, **kwargs)\u001b[0m\n",
      "\u001b[0;31mValueError\u001b[0m: shapes (20,17) and (18,) not aligned: 17 (dim 1) != 18 (dim 0)"
     ]
    }
   ],
   "source": [
    "try_alphas = [1.0, 0.1, 0.01, 0.001]\n",
    "try_l1_ratios = [0.25, 0.5, 0.75]\n",
    "res_dict = {}\n",
    "\n",
    "for h_alpha in try_alphas:\n",
    "    for h_l1_ratio in try_l1_ratios:\n",
    "        res_dict[(h_alpha, h_l1_ratio)] = test_en_hparams(h_alpha, h_l1_ratio)"
   ]
  },
  {
   "cell_type": "code",
   "execution_count": null,
   "metadata": {},
   "outputs": [],
   "source": [
    "res_dict"
   ]
  },
  {
   "cell_type": "code",
   "execution_count": null,
   "metadata": {},
   "outputs": [],
   "source": [
    "used_alpha, used_l1_ratio = 0.001, 0.25"
   ]
  },
  {
   "cell_type": "markdown",
   "metadata": {},
   "source": [
    "## Loop to predict the forward returns:"
   ]
  },
  {
   "cell_type": "code",
   "execution_count": null,
   "metadata": {},
   "outputs": [],
   "source": [
    "# actual returns (log returns)\n",
    "all_spx = df['SPX']"
   ]
  },
  {
   "cell_type": "code",
   "execution_count": null,
   "metadata": {},
   "outputs": [],
   "source": [
    "start_i = LOOKBACK_YEARS * 252\n",
    "i = start_i\n",
    "\n",
    "all_preds = {}\n",
    "\n",
    "while i < all_x.shape[0]:\n",
    "    fit_start = i - LOOKBACK_YEARS * 252\n",
    "    fit_end = i\n",
    "    cur_train = all_x[fit_start:fit_end]\n",
    "    cur_idx = cur_train.index[-1]\n",
    "    cur_y = all_y[fit_start:fit_end]\n",
    "    \n",
    "    # drop cols that do not have sufficient data\n",
    "    cur_train = cur_train.dropna(axis=1, thresh=int(MIN_X_THRESH * cur_train.shape[0]))\n",
    "    \n",
    "    # normalization\n",
    "    cur_train_norm = pipe.fit_transform(cur_train)\n",
    "    cur_target = cur_train_norm[-1:]\n",
    "    \n",
    "    en = ElasticNet(alpha=used_alpha, l1_ratio=used_l1_ratio, max_iter=10000)\n",
    "    en.fit(cur_train_norm, cur_y)\n",
    "    pred = en.predict(cur_target)\n",
    "    all_preds[cur_idx] = pred\n",
    "    \n",
    "    i += 20"
   ]
  },
  {
   "cell_type": "code",
   "execution_count": null,
   "metadata": {},
   "outputs": [],
   "source": [
    "df_preds = pd.DataFrame(all_preds, index=['predicted_spx130']).T"
   ]
  },
  {
   "cell_type": "code",
   "execution_count": null,
   "metadata": {},
   "outputs": [],
   "source": [
    "pmean, pstd = df_preds['predicted_spx130'].mean(), df_preds['predicted_spx130'].std()\n",
    "pmean, pstd"
   ]
  },
  {
   "cell_type": "code",
   "execution_count": null,
   "metadata": {},
   "outputs": [],
   "source": [
    "df_preds['pred_z'] = (df_preds['predicted_spx130'] - pmean) / pstd\n",
    "df_preds['position_unclipped'] = df_preds['pred_z'] / 2\n",
    "df_preds['position'] = df_preds['position_unclipped'].clip(-0.5, 1.5)\n",
    "df_preds.head()"
   ]
  },
  {
   "cell_type": "code",
   "execution_count": null,
   "metadata": {},
   "outputs": [],
   "source": [
    "df_preds_re = df_preds[['position']].resample('D').ffill()"
   ]
  },
  {
   "cell_type": "code",
   "execution_count": null,
   "metadata": {},
   "outputs": [],
   "source": [
    "plt.figure(figsize=(10, 5))\n",
    "plt.plot(df_preds_re['position'])\n",
    "plt.title('SPX position as suggested by Elastic Net Model')\n",
    "plt.axhline(0, linestyle='--', color='k')\n",
    "plt.show()"
   ]
  },
  {
   "cell_type": "markdown",
   "metadata": {},
   "source": [
    "## Evaluating Portfolio"
   ]
  },
  {
   "cell_type": "code",
   "execution_count": null,
   "metadata": {},
   "outputs": [],
   "source": [
    "df_eval = df_preds_re.join(all_spx).dropna()\n",
    "\n",
    "df_eval['buy_hold'] = np.exp(df_eval['SPX'].cumsum())\n",
    "df_eval['strat_rt_daily'] = 1 + (df_eval['position'] * (np.exp(df_eval['SPX']) - 1))\n",
    "df_eval['strat_rti'] = df_eval['strat_rt_daily'].cumprod()\n",
    "\n",
    "df_eval.head()"
   ]
  },
  {
   "cell_type": "code",
   "execution_count": null,
   "metadata": {},
   "outputs": [],
   "source": [
    "plt.figure(figsize=(10, 5))\n",
    "plt.plot(df_eval['buy_hold'], label='Buy-and-Hold')\n",
    "plt.plot(df_eval['strat_rti'], label='Elastic Net Strategy')\n",
    "plt.title('Value of $1 in Elastic Net Strategy vs Buy-and-Hold')\n",
    "plt.legend()\n",
    "plt.show()"
   ]
  },
  {
   "cell_type": "code",
   "execution_count": null,
   "metadata": {},
   "outputs": [],
   "source": []
  }
 ],
 "metadata": {
  "kernelspec": {
   "display_name": "Python 3",
   "language": "python",
   "name": "python3"
  },
  "language_info": {
   "codemirror_mode": {
    "name": "ipython",
    "version": 3
   },
   "file_extension": ".py",
   "mimetype": "text/x-python",
   "name": "python",
   "nbconvert_exporter": "python",
   "pygments_lexer": "ipython3",
   "version": "3.6.2"
  }
 },
 "nbformat": 4,
 "nbformat_minor": 2
}
