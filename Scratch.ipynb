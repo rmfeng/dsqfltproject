{
 "cells": [
  {
   "cell_type": "code",
   "execution_count": 1,
   "metadata": {},
   "outputs": [],
   "source": [
    "import pandas as pd\n",
    "import numpy as np\n",
    "\n",
    "import matplotlib.pyplot as plt\n",
    "%matplotlib inline"
   ]
  },
  {
   "cell_type": "markdown",
   "metadata": {},
   "source": [
    "### PCR"
   ]
  },
  {
   "cell_type": "code",
   "execution_count": 2,
   "metadata": {},
   "outputs": [],
   "source": [
    "p = 'raw_data/gsci/BDI_GSCI.csv'"
   ]
  },
  {
   "cell_type": "code",
   "execution_count": 3,
   "metadata": {},
   "outputs": [],
   "source": [
    "df = pd.read_csv(p)"
   ]
  },
  {
   "cell_type": "code",
   "execution_count": 5,
   "metadata": {},
   "outputs": [
    {
     "data": {
      "text/plain": [
       "Index(['Name', 'Baltic Exchange Dry Index (BDI) - PRICE INDEX',\n",
       "       'S&P GSCI Commodity Total Return - RETURN IND. (OFCL)'],\n",
       "      dtype='object')"
      ]
     },
     "execution_count": 5,
     "metadata": {},
     "output_type": "execute_result"
    }
   ],
   "source": [
    "df.columns"
   ]
  },
  {
   "cell_type": "code",
   "execution_count": 21,
   "metadata": {},
   "outputs": [
    {
     "data": {
      "text/html": [
       "<div>\n",
       "<style scoped>\n",
       "    .dataframe tbody tr th:only-of-type {\n",
       "        vertical-align: middle;\n",
       "    }\n",
       "\n",
       "    .dataframe tbody tr th {\n",
       "        vertical-align: top;\n",
       "    }\n",
       "\n",
       "    .dataframe thead th {\n",
       "        text-align: right;\n",
       "    }\n",
       "</style>\n",
       "<table border=\"1\" class=\"dataframe\">\n",
       "  <thead>\n",
       "    <tr style=\"text-align: right;\">\n",
       "      <th></th>\n",
       "      <th>Name</th>\n",
       "      <th>Baltic Exchange Dry Index (BDI) - PRICE INDEX</th>\n",
       "      <th>S&amp;P GSCI Commodity Total Return - RETURN IND. (OFCL)</th>\n",
       "    </tr>\n",
       "  </thead>\n",
       "  <tbody>\n",
       "    <tr>\n",
       "      <td>0</td>\n",
       "      <td>11/26/1959</td>\n",
       "      <td>NaN</td>\n",
       "      <td>NaN</td>\n",
       "    </tr>\n",
       "    <tr>\n",
       "      <td>1</td>\n",
       "      <td>11/27/1959</td>\n",
       "      <td>NaN</td>\n",
       "      <td>NaN</td>\n",
       "    </tr>\n",
       "    <tr>\n",
       "      <td>2</td>\n",
       "      <td>11/30/1959</td>\n",
       "      <td>NaN</td>\n",
       "      <td>NaN</td>\n",
       "    </tr>\n",
       "    <tr>\n",
       "      <td>3</td>\n",
       "      <td>12/1/1959</td>\n",
       "      <td>NaN</td>\n",
       "      <td>NaN</td>\n",
       "    </tr>\n",
       "    <tr>\n",
       "      <td>4</td>\n",
       "      <td>12/2/1959</td>\n",
       "      <td>NaN</td>\n",
       "      <td>NaN</td>\n",
       "    </tr>\n",
       "  </tbody>\n",
       "</table>\n",
       "</div>"
      ],
      "text/plain": [
       "         Name  Baltic Exchange Dry Index (BDI) - PRICE INDEX  \\\n",
       "0  11/26/1959                                            NaN   \n",
       "1  11/27/1959                                            NaN   \n",
       "2  11/30/1959                                            NaN   \n",
       "3   12/1/1959                                            NaN   \n",
       "4   12/2/1959                                            NaN   \n",
       "\n",
       "   S&P GSCI Commodity Total Return - RETURN IND. (OFCL)  \n",
       "0                                                NaN     \n",
       "1                                                NaN     \n",
       "2                                                NaN     \n",
       "3                                                NaN     \n",
       "4                                                NaN     "
      ]
     },
     "execution_count": 21,
     "metadata": {},
     "output_type": "execute_result"
    }
   ],
   "source": [
    "df.head()"
   ]
  },
  {
   "cell_type": "code",
   "execution_count": 20,
   "metadata": {},
   "outputs": [
    {
     "data": {
      "text/plain": [
       "(7438, 7)"
      ]
     },
     "execution_count": 20,
     "metadata": {},
     "output_type": "execute_result"
    }
   ],
   "source": [
    "df2 = pd.read_csv('raw_data/spx/SP500_prices.csv')\n",
    "df2.shape"
   ]
  },
  {
   "cell_type": "code",
   "execution_count": 18,
   "metadata": {},
   "outputs": [
    {
     "data": {
      "text/html": [
       "<div>\n",
       "<style scoped>\n",
       "    .dataframe tbody tr th:only-of-type {\n",
       "        vertical-align: middle;\n",
       "    }\n",
       "\n",
       "    .dataframe tbody tr th {\n",
       "        vertical-align: top;\n",
       "    }\n",
       "\n",
       "    .dataframe thead th {\n",
       "        text-align: right;\n",
       "    }\n",
       "</style>\n",
       "<table border=\"1\" class=\"dataframe\">\n",
       "  <thead>\n",
       "    <tr style=\"text-align: right;\">\n",
       "      <th></th>\n",
       "      <th>Date</th>\n",
       "      <th>Open</th>\n",
       "      <th>High</th>\n",
       "      <th>Low</th>\n",
       "      <th>Close</th>\n",
       "      <th>Adj Close</th>\n",
       "      <th>Volume</th>\n",
       "    </tr>\n",
       "  </thead>\n",
       "  <tbody>\n",
       "    <tr>\n",
       "      <td>0</td>\n",
       "      <td>1990-05-01</td>\n",
       "      <td>330.799988</td>\n",
       "      <td>332.829987</td>\n",
       "      <td>330.799988</td>\n",
       "      <td>332.250000</td>\n",
       "      <td>332.250000</td>\n",
       "      <td>149020000</td>\n",
       "    </tr>\n",
       "    <tr>\n",
       "      <td>1</td>\n",
       "      <td>1990-05-02</td>\n",
       "      <td>332.250000</td>\n",
       "      <td>334.480011</td>\n",
       "      <td>332.149994</td>\n",
       "      <td>334.480011</td>\n",
       "      <td>334.480011</td>\n",
       "      <td>141610000</td>\n",
       "    </tr>\n",
       "    <tr>\n",
       "      <td>2</td>\n",
       "      <td>1990-05-03</td>\n",
       "      <td>334.480011</td>\n",
       "      <td>337.019989</td>\n",
       "      <td>334.470001</td>\n",
       "      <td>335.570007</td>\n",
       "      <td>335.570007</td>\n",
       "      <td>145560000</td>\n",
       "    </tr>\n",
       "    <tr>\n",
       "      <td>3</td>\n",
       "      <td>1990-05-04</td>\n",
       "      <td>335.579987</td>\n",
       "      <td>338.459991</td>\n",
       "      <td>335.170013</td>\n",
       "      <td>338.390015</td>\n",
       "      <td>338.390015</td>\n",
       "      <td>140550000</td>\n",
       "    </tr>\n",
       "    <tr>\n",
       "      <td>4</td>\n",
       "      <td>1990-05-07</td>\n",
       "      <td>338.390015</td>\n",
       "      <td>341.070007</td>\n",
       "      <td>338.109985</td>\n",
       "      <td>340.529999</td>\n",
       "      <td>340.529999</td>\n",
       "      <td>132760000</td>\n",
       "    </tr>\n",
       "  </tbody>\n",
       "</table>\n",
       "</div>"
      ],
      "text/plain": [
       "         Date        Open        High         Low       Close   Adj Close  \\\n",
       "0  1990-05-01  330.799988  332.829987  330.799988  332.250000  332.250000   \n",
       "1  1990-05-02  332.250000  334.480011  332.149994  334.480011  334.480011   \n",
       "2  1990-05-03  334.480011  337.019989  334.470001  335.570007  335.570007   \n",
       "3  1990-05-04  335.579987  338.459991  335.170013  338.390015  338.390015   \n",
       "4  1990-05-07  338.390015  341.070007  338.109985  340.529999  340.529999   \n",
       "\n",
       "      Volume  \n",
       "0  149020000  \n",
       "1  141610000  \n",
       "2  145560000  \n",
       "3  140550000  \n",
       "4  132760000  "
      ]
     },
     "execution_count": 18,
     "metadata": {},
     "output_type": "execute_result"
    }
   ],
   "source": [
    "df2.head()"
   ]
  },
  {
   "cell_type": "code",
   "execution_count": 19,
   "metadata": {},
   "outputs": [
    {
     "data": {
      "text/html": [
       "<div>\n",
       "<style scoped>\n",
       "    .dataframe tbody tr th:only-of-type {\n",
       "        vertical-align: middle;\n",
       "    }\n",
       "\n",
       "    .dataframe tbody tr th {\n",
       "        vertical-align: top;\n",
       "    }\n",
       "\n",
       "    .dataframe thead th {\n",
       "        text-align: right;\n",
       "    }\n",
       "</style>\n",
       "<table border=\"1\" class=\"dataframe\">\n",
       "  <thead>\n",
       "    <tr style=\"text-align: right;\">\n",
       "      <th></th>\n",
       "      <th>Date</th>\n",
       "      <th>Open</th>\n",
       "      <th>High</th>\n",
       "      <th>Low</th>\n",
       "      <th>Close</th>\n",
       "      <th>Adj Close</th>\n",
       "      <th>Volume</th>\n",
       "    </tr>\n",
       "  </thead>\n",
       "  <tbody>\n",
       "    <tr>\n",
       "      <td>7433</td>\n",
       "      <td>2019-10-30</td>\n",
       "      <td>3039.739990</td>\n",
       "      <td>3050.100098</td>\n",
       "      <td>3025.959961</td>\n",
       "      <td>3046.770020</td>\n",
       "      <td>3046.770020</td>\n",
       "      <td>3776030000</td>\n",
       "    </tr>\n",
       "    <tr>\n",
       "      <td>7434</td>\n",
       "      <td>2019-10-31</td>\n",
       "      <td>3046.899902</td>\n",
       "      <td>3046.899902</td>\n",
       "      <td>3023.189941</td>\n",
       "      <td>3037.560059</td>\n",
       "      <td>3037.560059</td>\n",
       "      <td>4139280000</td>\n",
       "    </tr>\n",
       "    <tr>\n",
       "      <td>7435</td>\n",
       "      <td>2019-11-01</td>\n",
       "      <td>3050.719971</td>\n",
       "      <td>3066.949951</td>\n",
       "      <td>3050.719971</td>\n",
       "      <td>3066.909912</td>\n",
       "      <td>3066.909912</td>\n",
       "      <td>3930200000</td>\n",
       "    </tr>\n",
       "    <tr>\n",
       "      <td>7436</td>\n",
       "      <td>2019-11-04</td>\n",
       "      <td>3078.959961</td>\n",
       "      <td>3085.199951</td>\n",
       "      <td>3074.870117</td>\n",
       "      <td>3078.270020</td>\n",
       "      <td>3078.270020</td>\n",
       "      <td>4146850000</td>\n",
       "    </tr>\n",
       "    <tr>\n",
       "      <td>7437</td>\n",
       "      <td>2019-11-05</td>\n",
       "      <td>3080.800049</td>\n",
       "      <td>3083.949951</td>\n",
       "      <td>3072.149902</td>\n",
       "      <td>3074.620117</td>\n",
       "      <td>3074.620117</td>\n",
       "      <td>4486130000</td>\n",
       "    </tr>\n",
       "  </tbody>\n",
       "</table>\n",
       "</div>"
      ],
      "text/plain": [
       "            Date         Open         High          Low        Close  \\\n",
       "7433  2019-10-30  3039.739990  3050.100098  3025.959961  3046.770020   \n",
       "7434  2019-10-31  3046.899902  3046.899902  3023.189941  3037.560059   \n",
       "7435  2019-11-01  3050.719971  3066.949951  3050.719971  3066.909912   \n",
       "7436  2019-11-04  3078.959961  3085.199951  3074.870117  3078.270020   \n",
       "7437  2019-11-05  3080.800049  3083.949951  3072.149902  3074.620117   \n",
       "\n",
       "        Adj Close      Volume  \n",
       "7433  3046.770020  3776030000  \n",
       "7434  3037.560059  4139280000  \n",
       "7435  3066.909912  3930200000  \n",
       "7436  3078.270020  4146850000  \n",
       "7437  3074.620117  4486130000  "
      ]
     },
     "execution_count": 19,
     "metadata": {},
     "output_type": "execute_result"
    }
   ],
   "source": [
    "df2.tail()"
   ]
  },
  {
   "cell_type": "code",
   "execution_count": 22,
   "metadata": {},
   "outputs": [],
   "source": [
    "from handlers.h_gsci import GSCIProcessor"
   ]
  },
  {
   "cell_type": "code",
   "execution_count": 23,
   "metadata": {},
   "outputs": [],
   "source": [
    "h = GSCIProcessor()"
   ]
  },
  {
   "cell_type": "code",
   "execution_count": 24,
   "metadata": {},
   "outputs": [
    {
     "name": "stdout",
     "output_type": "stream",
     "text": [
      "Loading data for PCR ... \n"
     ]
    }
   ],
   "source": [
    "h.load_raw()"
   ]
  },
  {
   "cell_type": "code",
   "execution_count": 26,
   "metadata": {},
   "outputs": [
    {
     "data": {
      "text/html": [
       "<div>\n",
       "<style scoped>\n",
       "    .dataframe tbody tr th:only-of-type {\n",
       "        vertical-align: middle;\n",
       "    }\n",
       "\n",
       "    .dataframe tbody tr th {\n",
       "        vertical-align: top;\n",
       "    }\n",
       "\n",
       "    .dataframe thead th {\n",
       "        text-align: right;\n",
       "    }\n",
       "</style>\n",
       "<table border=\"1\" class=\"dataframe\">\n",
       "  <thead>\n",
       "    <tr style=\"text-align: right;\">\n",
       "      <th></th>\n",
       "      <th>S&amp;P GSCI Commodity Total Return - RETURN IND. (OFCL)</th>\n",
       "    </tr>\n",
       "    <tr>\n",
       "      <th>Name</th>\n",
       "      <th></th>\n",
       "    </tr>\n",
       "  </thead>\n",
       "  <tbody>\n",
       "    <tr>\n",
       "      <td>1959-11-26</td>\n",
       "      <td>NaN</td>\n",
       "    </tr>\n",
       "    <tr>\n",
       "      <td>1959-11-27</td>\n",
       "      <td>NaN</td>\n",
       "    </tr>\n",
       "    <tr>\n",
       "      <td>1959-11-30</td>\n",
       "      <td>NaN</td>\n",
       "    </tr>\n",
       "    <tr>\n",
       "      <td>1959-12-01</td>\n",
       "      <td>NaN</td>\n",
       "    </tr>\n",
       "    <tr>\n",
       "      <td>1959-12-02</td>\n",
       "      <td>NaN</td>\n",
       "    </tr>\n",
       "    <tr>\n",
       "      <td>...</td>\n",
       "      <td>...</td>\n",
       "    </tr>\n",
       "    <tr>\n",
       "      <td>2018-11-20</td>\n",
       "      <td>2456.666</td>\n",
       "    </tr>\n",
       "    <tr>\n",
       "      <td>2018-11-21</td>\n",
       "      <td>2478.871</td>\n",
       "    </tr>\n",
       "    <tr>\n",
       "      <td>2018-11-22</td>\n",
       "      <td>2478.871</td>\n",
       "    </tr>\n",
       "    <tr>\n",
       "      <td>2018-11-23</td>\n",
       "      <td>2370.127</td>\n",
       "    </tr>\n",
       "    <tr>\n",
       "      <td>2018-11-26</td>\n",
       "      <td>2370.127</td>\n",
       "    </tr>\n",
       "  </tbody>\n",
       "</table>\n",
       "<p>15393 rows × 1 columns</p>\n",
       "</div>"
      ],
      "text/plain": [
       "            S&P GSCI Commodity Total Return - RETURN IND. (OFCL)\n",
       "Name                                                            \n",
       "1959-11-26                                                NaN   \n",
       "1959-11-27                                                NaN   \n",
       "1959-11-30                                                NaN   \n",
       "1959-12-01                                                NaN   \n",
       "1959-12-02                                                NaN   \n",
       "...                                                       ...   \n",
       "2018-11-20                                           2456.666   \n",
       "2018-11-21                                           2478.871   \n",
       "2018-11-22                                           2478.871   \n",
       "2018-11-23                                           2370.127   \n",
       "2018-11-26                                           2370.127   \n",
       "\n",
       "[15393 rows x 1 columns]"
      ]
     },
     "execution_count": 26,
     "metadata": {},
     "output_type": "execute_result"
    }
   ],
   "source": [
    "h.raw_data['gsci']"
   ]
  },
  {
   "cell_type": "code",
   "execution_count": 27,
   "metadata": {},
   "outputs": [
    {
     "data": {
      "text/html": [
       "<div>\n",
       "<style scoped>\n",
       "    .dataframe tbody tr th:only-of-type {\n",
       "        vertical-align: middle;\n",
       "    }\n",
       "\n",
       "    .dataframe tbody tr th {\n",
       "        vertical-align: top;\n",
       "    }\n",
       "\n",
       "    .dataframe thead th {\n",
       "        text-align: right;\n",
       "    }\n",
       "</style>\n",
       "<table border=\"1\" class=\"dataframe\">\n",
       "  <thead>\n",
       "    <tr style=\"text-align: right;\">\n",
       "      <th></th>\n",
       "      <th>Close</th>\n",
       "    </tr>\n",
       "    <tr>\n",
       "      <th>Date</th>\n",
       "      <th></th>\n",
       "    </tr>\n",
       "  </thead>\n",
       "  <tbody>\n",
       "    <tr>\n",
       "      <td>1990-05-01</td>\n",
       "      <td>332.250000</td>\n",
       "    </tr>\n",
       "    <tr>\n",
       "      <td>1990-05-02</td>\n",
       "      <td>334.480011</td>\n",
       "    </tr>\n",
       "    <tr>\n",
       "      <td>1990-05-03</td>\n",
       "      <td>335.570007</td>\n",
       "    </tr>\n",
       "    <tr>\n",
       "      <td>1990-05-04</td>\n",
       "      <td>338.390015</td>\n",
       "    </tr>\n",
       "    <tr>\n",
       "      <td>1990-05-07</td>\n",
       "      <td>340.529999</td>\n",
       "    </tr>\n",
       "    <tr>\n",
       "      <td>...</td>\n",
       "      <td>...</td>\n",
       "    </tr>\n",
       "    <tr>\n",
       "      <td>2019-10-30</td>\n",
       "      <td>3046.770020</td>\n",
       "    </tr>\n",
       "    <tr>\n",
       "      <td>2019-10-31</td>\n",
       "      <td>3037.560059</td>\n",
       "    </tr>\n",
       "    <tr>\n",
       "      <td>2019-11-01</td>\n",
       "      <td>3066.909912</td>\n",
       "    </tr>\n",
       "    <tr>\n",
       "      <td>2019-11-04</td>\n",
       "      <td>3078.270020</td>\n",
       "    </tr>\n",
       "    <tr>\n",
       "      <td>2019-11-05</td>\n",
       "      <td>3074.620117</td>\n",
       "    </tr>\n",
       "  </tbody>\n",
       "</table>\n",
       "<p>7438 rows × 1 columns</p>\n",
       "</div>"
      ],
      "text/plain": [
       "                  Close\n",
       "Date                   \n",
       "1990-05-01   332.250000\n",
       "1990-05-02   334.480011\n",
       "1990-05-03   335.570007\n",
       "1990-05-04   338.390015\n",
       "1990-05-07   340.529999\n",
       "...                 ...\n",
       "2019-10-30  3046.770020\n",
       "2019-10-31  3037.560059\n",
       "2019-11-01  3066.909912\n",
       "2019-11-04  3078.270020\n",
       "2019-11-05  3074.620117\n",
       "\n",
       "[7438 rows x 1 columns]"
      ]
     },
     "execution_count": 27,
     "metadata": {},
     "output_type": "execute_result"
    }
   ],
   "source": [
    "h.raw_data['spx']"
   ]
  },
  {
   "cell_type": "code",
   "execution_count": 28,
   "metadata": {},
   "outputs": [
    {
     "name": "stdout",
     "output_type": "stream",
     "text": [
      "Wrangling data for PCR ... \n"
     ]
    }
   ],
   "source": [
    "h.wrangle()"
   ]
  },
  {
   "cell_type": "code",
   "execution_count": 30,
   "metadata": {},
   "outputs": [
    {
     "data": {
      "text/plain": [
       "<matplotlib.axes._subplots.AxesSubplot at 0x7f2ecfd64518>"
      ]
     },
     "execution_count": 30,
     "metadata": {},
     "output_type": "execute_result"
    },
    {
     "data": {
      "image/png": "[encoded data removed]",
      "text/plain": [
       "<Figure size 432x288 with 1 Axes>"
      ]
     },
     "metadata": {
      "needs_background": "light"
     },
     "output_type": "display_data"
    }
   ],
   "source": [
    "h.wrangled_data.plot()"
   ]
  },
  {
   "cell_type": "markdown",
   "metadata": {},
   "source": [
    "## Oil Future"
   ]
  },
  {
   "cell_type": "code",
   "execution_count": 50,
   "metadata": {},
   "outputs": [
    {
     "data": {
      "text/plain": [
       "(300831, 3)"
      ]
     },
     "execution_count": 50,
     "metadata": {},
     "output_type": "execute_result"
    }
   ],
   "source": [
    "df = pd.read_pickle('raw_data/futures_data/CL_ohlcv.pkl')\n",
    "df = df[['Settle']].reset_index()\n",
    "df['Expiration'] = df['Expiration'].astype('datetime64[ns]')\n",
    "df['Date'] = df['Date'].astype('datetime64[ns]')\n",
    "df.shape"
   ]
  },
  {
   "cell_type": "code",
   "execution_count": 52,
   "metadata": {},
   "outputs": [],
   "source": [
    "df['days_exp'] = (df['Expiration'] - df['Date']).apply(lambda x: x.days)"
   ]
  },
  {
   "cell_type": "code",
   "execution_count": 53,
   "metadata": {},
   "outputs": [
    {
     "data": {
      "text/html": [
       "<div>\n",
       "<style scoped>\n",
       "    .dataframe tbody tr th:only-of-type {\n",
       "        vertical-align: middle;\n",
       "    }\n",
       "\n",
       "    .dataframe tbody tr th {\n",
       "        vertical-align: top;\n",
       "    }\n",
       "\n",
       "    .dataframe thead th {\n",
       "        text-align: right;\n",
       "    }\n",
       "</style>\n",
       "<table border=\"1\" class=\"dataframe\">\n",
       "  <thead>\n",
       "    <tr style=\"text-align: right;\">\n",
       "      <th></th>\n",
       "      <th>Expiration</th>\n",
       "      <th>Date</th>\n",
       "      <th>Settle</th>\n",
       "      <th>days_exp</th>\n",
       "    </tr>\n",
       "  </thead>\n",
       "  <tbody>\n",
       "    <tr>\n",
       "      <td>0</td>\n",
       "      <td>1988-01-15</td>\n",
       "      <td>1987-01-16</td>\n",
       "      <td>17.15</td>\n",
       "      <td>364</td>\n",
       "    </tr>\n",
       "    <tr>\n",
       "      <td>1</td>\n",
       "      <td>1988-01-15</td>\n",
       "      <td>1987-01-19</td>\n",
       "      <td>17.50</td>\n",
       "      <td>361</td>\n",
       "    </tr>\n",
       "    <tr>\n",
       "      <td>2</td>\n",
       "      <td>1988-01-15</td>\n",
       "      <td>1987-01-20</td>\n",
       "      <td>17.76</td>\n",
       "      <td>360</td>\n",
       "    </tr>\n",
       "    <tr>\n",
       "      <td>3</td>\n",
       "      <td>1988-01-15</td>\n",
       "      <td>1987-01-21</td>\n",
       "      <td>17.98</td>\n",
       "      <td>359</td>\n",
       "    </tr>\n",
       "    <tr>\n",
       "      <td>4</td>\n",
       "      <td>1988-01-15</td>\n",
       "      <td>1987-01-22</td>\n",
       "      <td>18.05</td>\n",
       "      <td>358</td>\n",
       "    </tr>\n",
       "  </tbody>\n",
       "</table>\n",
       "</div>"
      ],
      "text/plain": [
       "  Expiration       Date  Settle  days_exp\n",
       "0 1988-01-15 1987-01-16   17.15       364\n",
       "1 1988-01-15 1987-01-19   17.50       361\n",
       "2 1988-01-15 1987-01-20   17.76       360\n",
       "3 1988-01-15 1987-01-21   17.98       359\n",
       "4 1988-01-15 1987-01-22   18.05       358"
      ]
     },
     "execution_count": 53,
     "metadata": {},
     "output_type": "execute_result"
    }
   ],
   "source": [
    "df.head()"
   ]
  },
  {
   "cell_type": "code",
   "execution_count": 56,
   "metadata": {},
   "outputs": [
    {
     "data": {
      "text/plain": [
       "count    300831.000000\n",
       "mean        818.146554\n",
       "std         628.179443\n",
       "min          23.000000\n",
       "25%         322.000000\n",
       "50%         654.000000\n",
       "75%        1199.000000\n",
       "max        3315.000000\n",
       "Name: days_exp, dtype: float64"
      ]
     },
     "execution_count": 56,
     "metadata": {},
     "output_type": "execute_result"
    }
   ],
   "source": [
    "df['days_exp'].describe()"
   ]
  },
  {
   "cell_type": "code",
   "execution_count": 58,
   "metadata": {},
   "outputs": [
    {
     "data": {
      "image/png": "[encoded data removed]",
      "text/plain": [
       "<Figure size 432x288 with 1 Axes>"
      ]
     },
     "metadata": {
      "needs_background": "light"
     },
     "output_type": "display_data"
    }
   ],
   "source": [
    "df['days_exp'].plot.hist()\n",
    "plt.show()"
   ]
  },
  {
   "cell_type": "code",
   "execution_count": 63,
   "metadata": {},
   "outputs": [],
   "source": [
    "df['months'] = np.ceil(df['days_exp'] / 365 * 12)"
   ]
  },
  {
   "cell_type": "code",
   "execution_count": 66,
   "metadata": {},
   "outputs": [
    {
     "data": {
      "text/html": [
       "<div>\n",
       "<style scoped>\n",
       "    .dataframe tbody tr th:only-of-type {\n",
       "        vertical-align: middle;\n",
       "    }\n",
       "\n",
       "    .dataframe tbody tr th {\n",
       "        vertical-align: top;\n",
       "    }\n",
       "\n",
       "    .dataframe thead th {\n",
       "        text-align: right;\n",
       "    }\n",
       "</style>\n",
       "<table border=\"1\" class=\"dataframe\">\n",
       "  <thead>\n",
       "    <tr style=\"text-align: right;\">\n",
       "      <th></th>\n",
       "      <th>Expiration</th>\n",
       "      <th>Date</th>\n",
       "      <th>Settle</th>\n",
       "      <th>days_exp</th>\n",
       "      <th>months</th>\n",
       "    </tr>\n",
       "  </thead>\n",
       "  <tbody>\n",
       "    <tr>\n",
       "      <td>0</td>\n",
       "      <td>1988-01-15</td>\n",
       "      <td>1987-01-16</td>\n",
       "      <td>17.15</td>\n",
       "      <td>364</td>\n",
       "      <td>12.0</td>\n",
       "    </tr>\n",
       "    <tr>\n",
       "      <td>1</td>\n",
       "      <td>1988-01-15</td>\n",
       "      <td>1987-01-19</td>\n",
       "      <td>17.50</td>\n",
       "      <td>361</td>\n",
       "      <td>12.0</td>\n",
       "    </tr>\n",
       "    <tr>\n",
       "      <td>2</td>\n",
       "      <td>1988-01-15</td>\n",
       "      <td>1987-01-20</td>\n",
       "      <td>17.76</td>\n",
       "      <td>360</td>\n",
       "      <td>12.0</td>\n",
       "    </tr>\n",
       "    <tr>\n",
       "      <td>3</td>\n",
       "      <td>1988-01-15</td>\n",
       "      <td>1987-01-21</td>\n",
       "      <td>17.98</td>\n",
       "      <td>359</td>\n",
       "      <td>12.0</td>\n",
       "    </tr>\n",
       "    <tr>\n",
       "      <td>4</td>\n",
       "      <td>1988-01-15</td>\n",
       "      <td>1987-01-22</td>\n",
       "      <td>18.05</td>\n",
       "      <td>358</td>\n",
       "      <td>12.0</td>\n",
       "    </tr>\n",
       "  </tbody>\n",
       "</table>\n",
       "</div>"
      ],
      "text/plain": [
       "  Expiration       Date  Settle  days_exp  months\n",
       "0 1988-01-15 1987-01-16   17.15       364    12.0\n",
       "1 1988-01-15 1987-01-19   17.50       361    12.0\n",
       "2 1988-01-15 1987-01-20   17.76       360    12.0\n",
       "3 1988-01-15 1987-01-21   17.98       359    12.0\n",
       "4 1988-01-15 1987-01-22   18.05       358    12.0"
      ]
     },
     "execution_count": 66,
     "metadata": {},
     "output_type": "execute_result"
    }
   ],
   "source": [
    "df.head()"
   ]
  },
  {
   "cell_type": "code",
   "execution_count": 72,
   "metadata": {},
   "outputs": [],
   "source": [
    "df_unique = df.groupby(['Date', 'months'])[['Settle']].first()"
   ]
  },
  {
   "cell_type": "code",
   "execution_count": 77,
   "metadata": {},
   "outputs": [],
   "source": [
    "df_by_month = df_unique.reset_index().pivot(columns='months', index='Date', values='Settle')"
   ]
  },
  {
   "cell_type": "code",
   "execution_count": 83,
   "metadata": {},
   "outputs": [],
   "source": [
    "df_14 = df_by_month[[1, 4]].dropna()"
   ]
  },
  {
   "cell_type": "code",
   "execution_count": 91,
   "metadata": {},
   "outputs": [],
   "source": [
    "df_res = pd.DataFrame(np.log(df_14[1] / df_14[4].shift(90)).dropna(), columns=['PCR'])"
   ]
  },
  {
   "cell_type": "code",
   "execution_count": 92,
   "metadata": {},
   "outputs": [
    {
     "data": {
      "text/plain": [
       "<matplotlib.axes._subplots.AxesSubplot at 0x7f2eccfb5588>"
      ]
     },
     "execution_count": 92,
     "metadata": {},
     "output_type": "execute_result"
    },
    {
     "data": {
      "image/png": "[encoded data removed]",
      "text/plain": [
       "<Figure size 432x288 with 1 Axes>"
      ]
     },
     "metadata": {
      "needs_background": "light"
     },
     "output_type": "display_data"
    }
   ],
   "source": [
    "df_res.plot()"
   ]
  },
  {
   "cell_type": "markdown",
   "metadata": {},
   "source": [
    "### Short Interest"
   ]
  },
  {
   "cell_type": "code",
   "execution_count": 105,
   "metadata": {},
   "outputs": [
    {
     "data": {
      "text/html": [
       "<div>\n",
       "<style scoped>\n",
       "    .dataframe tbody tr th:only-of-type {\n",
       "        vertical-align: middle;\n",
       "    }\n",
       "\n",
       "    .dataframe tbody tr th {\n",
       "        vertical-align: top;\n",
       "    }\n",
       "\n",
       "    .dataframe thead th {\n",
       "        text-align: right;\n",
       "    }\n",
       "</style>\n",
       "<table border=\"1\" class=\"dataframe\">\n",
       "  <thead>\n",
       "    <tr style=\"text-align: right;\">\n",
       "      <th></th>\n",
       "      <th>ShortVolume</th>\n",
       "      <th>ShortExemptVolume</th>\n",
       "      <th>TotalVolume</th>\n",
       "    </tr>\n",
       "    <tr>\n",
       "      <th>Date</th>\n",
       "      <th></th>\n",
       "      <th></th>\n",
       "      <th></th>\n",
       "    </tr>\n",
       "  </thead>\n",
       "  <tbody>\n",
       "    <tr>\n",
       "      <td>2013-04-01</td>\n",
       "      <td>8999083.0</td>\n",
       "      <td>3500.0</td>\n",
       "      <td>19236479.0</td>\n",
       "    </tr>\n",
       "    <tr>\n",
       "      <td>2013-04-02</td>\n",
       "      <td>11594335.0</td>\n",
       "      <td>6600.0</td>\n",
       "      <td>20941375.0</td>\n",
       "    </tr>\n",
       "    <tr>\n",
       "      <td>2013-04-03</td>\n",
       "      <td>18963769.0</td>\n",
       "      <td>13418.0</td>\n",
       "      <td>28373894.0</td>\n",
       "    </tr>\n",
       "    <tr>\n",
       "      <td>2013-04-04</td>\n",
       "      <td>12955093.0</td>\n",
       "      <td>7586.0</td>\n",
       "      <td>19966113.0</td>\n",
       "    </tr>\n",
       "    <tr>\n",
       "      <td>2013-04-05</td>\n",
       "      <td>14361164.0</td>\n",
       "      <td>0.0</td>\n",
       "      <td>28150360.0</td>\n",
       "    </tr>\n",
       "  </tbody>\n",
       "</table>\n",
       "</div>"
      ],
      "text/plain": [
       "            ShortVolume  ShortExemptVolume  TotalVolume\n",
       "Date                                                   \n",
       "2013-04-01    8999083.0             3500.0   19236479.0\n",
       "2013-04-02   11594335.0             6600.0   20941375.0\n",
       "2013-04-03   18963769.0            13418.0   28373894.0\n",
       "2013-04-04   12955093.0             7586.0   19966113.0\n",
       "2013-04-05   14361164.0                0.0   28150360.0"
      ]
     },
     "execution_count": 105,
     "metadata": {},
     "output_type": "execute_result"
    }
   ],
   "source": [
    "df = pd.read_csv('raw_data/si/Short_Interest.csv', parse_dates=['Date'], index_col='Date').sort_index()\n",
    "df.head()"
   ]
  },
  {
   "cell_type": "code",
   "execution_count": 110,
   "metadata": {},
   "outputs": [
    {
     "data": {
      "text/html": [
       "<div>\n",
       "<style scoped>\n",
       "    .dataframe tbody tr th:only-of-type {\n",
       "        vertical-align: middle;\n",
       "    }\n",
       "\n",
       "    .dataframe tbody tr th {\n",
       "        vertical-align: top;\n",
       "    }\n",
       "\n",
       "    .dataframe thead th {\n",
       "        text-align: right;\n",
       "    }\n",
       "</style>\n",
       "<table border=\"1\" class=\"dataframe\">\n",
       "  <thead>\n",
       "    <tr style=\"text-align: right;\">\n",
       "      <th></th>\n",
       "      <th>SI</th>\n",
       "    </tr>\n",
       "    <tr>\n",
       "      <th>Date</th>\n",
       "      <th></th>\n",
       "    </tr>\n",
       "  </thead>\n",
       "  <tbody>\n",
       "    <tr>\n",
       "      <td>2013-05-10</td>\n",
       "      <td>0.569264</td>\n",
       "    </tr>\n",
       "    <tr>\n",
       "      <td>2013-05-13</td>\n",
       "      <td>0.388347</td>\n",
       "    </tr>\n",
       "    <tr>\n",
       "      <td>2013-05-14</td>\n",
       "      <td>0.474221</td>\n",
       "    </tr>\n",
       "    <tr>\n",
       "      <td>2013-05-15</td>\n",
       "      <td>0.629103</td>\n",
       "    </tr>\n",
       "    <tr>\n",
       "      <td>2013-05-16</td>\n",
       "      <td>0.503742</td>\n",
       "    </tr>\n",
       "    <tr>\n",
       "      <td>...</td>\n",
       "      <td>...</td>\n",
       "    </tr>\n",
       "    <tr>\n",
       "      <td>2018-11-19</td>\n",
       "      <td>0.420897</td>\n",
       "    </tr>\n",
       "    <tr>\n",
       "      <td>2018-11-20</td>\n",
       "      <td>0.839199</td>\n",
       "    </tr>\n",
       "    <tr>\n",
       "      <td>2018-11-21</td>\n",
       "      <td>0.335224</td>\n",
       "    </tr>\n",
       "    <tr>\n",
       "      <td>2018-11-23</td>\n",
       "      <td>0.202623</td>\n",
       "    </tr>\n",
       "    <tr>\n",
       "      <td>2018-11-26</td>\n",
       "      <td>0.467785</td>\n",
       "    </tr>\n",
       "  </tbody>\n",
       "</table>\n",
       "<p>1394 rows × 1 columns</p>\n",
       "</div>"
      ],
      "text/plain": [
       "                  SI\n",
       "Date                \n",
       "2013-05-10  0.569264\n",
       "2013-05-13  0.388347\n",
       "2013-05-14  0.474221\n",
       "2013-05-15  0.629103\n",
       "2013-05-16  0.503742\n",
       "...              ...\n",
       "2018-11-19  0.420897\n",
       "2018-11-20  0.839199\n",
       "2018-11-21  0.335224\n",
       "2018-11-23  0.202623\n",
       "2018-11-26  0.467785\n",
       "\n",
       "[1394 rows x 1 columns]"
      ]
     },
     "execution_count": 110,
     "metadata": {},
     "output_type": "execute_result"
    }
   ],
   "source": [
    "pd.DataFrame((df['ShortVolume'] / df.rolling(30)['TotalVolume'].mean()).dropna(), columns=['SI'])"
   ]
  },
  {
   "cell_type": "code",
   "execution_count": null,
   "metadata": {},
   "outputs": [],
   "source": []
  },
  {
   "cell_type": "code",
   "execution_count": null,
   "metadata": {},
   "outputs": [],
   "source": []
  }
 ],
 "metadata": {
  "kernelspec": {
   "display_name": "Python 3",
   "language": "python",
   "name": "python3"
  },
  "language_info": {
   "codemirror_mode": {
    "name": "ipython",
    "version": 3
   },
   "file_extension": ".py",
   "mimetype": "text/x-python",
   "name": "python",
   "nbconvert_exporter": "python",
   "pygments_lexer": "ipython3",
   "version": "3.6.9"
  }
 },
 "nbformat": 4,
 "nbformat_minor": 2
}
