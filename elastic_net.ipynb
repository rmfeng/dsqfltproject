{
 "cells": [
  {
   "cell_type": "code",
   "execution_count": 58,
   "metadata": {},
   "outputs": [],
   "source": [
    "import pandas as pd\n",
    "import numpy as np\n",
    "import datetime as dt\n",
    "from importlib import reload\n",
    "from tqdm import tqdm_notebook as tqdm\n",
    "\n",
    "import matplotlib.pyplot as plt\n",
    "import seaborn as sns\n",
    "\n",
    "from sklearn.linear_model import ElasticNet\n",
    "from sklearn.impute import SimpleImputer\n",
    "from sklearn.preprocessing import StandardScaler\n",
    "from sklearn.pipeline import make_pipeline\n",
    "\n",
    "from pandas.plotting import register_matplotlib_converters\n",
    "register_matplotlib_converters()\n",
    "\n",
    "plt.style.use('ggplot')\n",
    "%matplotlib inline\n",
    "\n",
    "import TSManager as ts"
   ]
  },
  {
   "cell_type": "code",
   "execution_count": 59,
   "metadata": {},
   "outputs": [
    {
     "name": "stdout",
     "output_type": "stream",
     "text": [
      "Loading DP\n",
      "Loading PE\n",
      "Loading BM\n",
      "Loading CAPE\n",
      "Loading BY\n",
      "Loading DEF\n",
      "Loading PCAPrice\n",
      "Loading CPI\n",
      "Loading NOS\n",
      "Loading PCR\n",
      "Loading OIL\n",
      "Loading SI\n",
      "Loading BDI\n",
      "Loading CAY\n",
      "Loading IC\n",
      "Loading TERM\n",
      "Loading VRP\n",
      "Loading SPX\n",
      "Loading MA\n"
     ]
    }
   ],
   "source": [
    "reload(ts)\n",
    "mgr = ts.TSManager()\n",
    "mgr.load()"
   ]
  },
  {
   "cell_type": "code",
   "execution_count": 60,
   "metadata": {},
   "outputs": [
    {
     "data": {
      "text/html": [
       "<div>\n",
       "<style scoped>\n",
       "    .dataframe tbody tr th:only-of-type {\n",
       "        vertical-align: middle;\n",
       "    }\n",
       "\n",
       "    .dataframe tbody tr th {\n",
       "        vertical-align: top;\n",
       "    }\n",
       "\n",
       "    .dataframe thead th {\n",
       "        text-align: right;\n",
       "    }\n",
       "</style>\n",
       "<table border=\"1\" class=\"dataframe\">\n",
       "  <thead>\n",
       "    <tr style=\"text-align: right;\">\n",
       "      <th></th>\n",
       "      <th>DP</th>\n",
       "      <th>PE</th>\n",
       "      <th>BM</th>\n",
       "      <th>CAPE</th>\n",
       "      <th>BY</th>\n",
       "      <th>DEF</th>\n",
       "      <th>PCAPrice</th>\n",
       "      <th>CPI</th>\n",
       "      <th>NOS</th>\n",
       "      <th>PCR</th>\n",
       "      <th>OIL</th>\n",
       "      <th>SI</th>\n",
       "      <th>BDI</th>\n",
       "      <th>CAY</th>\n",
       "      <th>IC</th>\n",
       "      <th>TERM</th>\n",
       "      <th>VRP</th>\n",
       "      <th>SPX</th>\n",
       "      <th>MA</th>\n",
       "    </tr>\n",
       "    <tr>\n",
       "      <th>AsOfDate</th>\n",
       "      <th></th>\n",
       "      <th></th>\n",
       "      <th></th>\n",
       "      <th></th>\n",
       "      <th></th>\n",
       "      <th></th>\n",
       "      <th></th>\n",
       "      <th></th>\n",
       "      <th></th>\n",
       "      <th></th>\n",
       "      <th></th>\n",
       "      <th></th>\n",
       "      <th></th>\n",
       "      <th></th>\n",
       "      <th></th>\n",
       "      <th></th>\n",
       "      <th></th>\n",
       "      <th></th>\n",
       "      <th></th>\n",
       "    </tr>\n",
       "  </thead>\n",
       "  <tbody>\n",
       "    <tr>\n",
       "      <td>1990-06-08</td>\n",
       "      <td>0.063979</td>\n",
       "      <td>7.524271</td>\n",
       "      <td>NaN</td>\n",
       "      <td>8.978524</td>\n",
       "      <td>1.007418</td>\n",
       "      <td>0.96</td>\n",
       "      <td>3.616905</td>\n",
       "      <td>0.046737</td>\n",
       "      <td>0.016941</td>\n",
       "      <td>-1.622923</td>\n",
       "      <td>NaN</td>\n",
       "      <td>NaN</td>\n",
       "      <td>1278.0</td>\n",
       "      <td>-0.013576</td>\n",
       "      <td>NaN</td>\n",
       "      <td>0.50</td>\n",
       "      <td>7.197727</td>\n",
       "      <td>-0.012302</td>\n",
       "      <td>1</td>\n",
       "    </tr>\n",
       "    <tr>\n",
       "      <td>1990-06-11</td>\n",
       "      <td>0.063463</td>\n",
       "      <td>7.597792</td>\n",
       "      <td>NaN</td>\n",
       "      <td>9.051612</td>\n",
       "      <td>1.009642</td>\n",
       "      <td>0.96</td>\n",
       "      <td>3.583706</td>\n",
       "      <td>0.046737</td>\n",
       "      <td>0.016941</td>\n",
       "      <td>-1.615366</td>\n",
       "      <td>NaN</td>\n",
       "      <td>NaN</td>\n",
       "      <td>1264.0</td>\n",
       "      <td>-0.013576</td>\n",
       "      <td>NaN</td>\n",
       "      <td>0.49</td>\n",
       "      <td>5.607431</td>\n",
       "      <td>0.008107</td>\n",
       "      <td>1</td>\n",
       "    </tr>\n",
       "    <tr>\n",
       "      <td>1990-06-12</td>\n",
       "      <td>0.062662</td>\n",
       "      <td>7.699009</td>\n",
       "      <td>NaN</td>\n",
       "      <td>9.167251</td>\n",
       "      <td>1.009580</td>\n",
       "      <td>0.96</td>\n",
       "      <td>3.532720</td>\n",
       "      <td>0.046737</td>\n",
       "      <td>0.016941</td>\n",
       "      <td>-1.618868</td>\n",
       "      <td>NaN</td>\n",
       "      <td>NaN</td>\n",
       "      <td>1254.0</td>\n",
       "      <td>-0.013576</td>\n",
       "      <td>NaN</td>\n",
       "      <td>0.49</td>\n",
       "      <td>6.403252</td>\n",
       "      <td>0.012695</td>\n",
       "      <td>1</td>\n",
       "    </tr>\n",
       "    <tr>\n",
       "      <td>1990-06-13</td>\n",
       "      <td>0.062894</td>\n",
       "      <td>7.674771</td>\n",
       "      <td>NaN</td>\n",
       "      <td>9.133460</td>\n",
       "      <td>1.000056</td>\n",
       "      <td>0.96</td>\n",
       "      <td>3.547245</td>\n",
       "      <td>0.046737</td>\n",
       "      <td>0.016941</td>\n",
       "      <td>-1.625316</td>\n",
       "      <td>NaN</td>\n",
       "      <td>NaN</td>\n",
       "      <td>1243.0</td>\n",
       "      <td>-0.013576</td>\n",
       "      <td>NaN</td>\n",
       "      <td>0.47</td>\n",
       "      <td>7.793147</td>\n",
       "      <td>-0.003693</td>\n",
       "      <td>1</td>\n",
       "    </tr>\n",
       "    <tr>\n",
       "      <td>1990-06-14</td>\n",
       "      <td>0.063241</td>\n",
       "      <td>7.636994</td>\n",
       "      <td>NaN</td>\n",
       "      <td>9.083400</td>\n",
       "      <td>0.997689</td>\n",
       "      <td>0.96</td>\n",
       "      <td>3.569002</td>\n",
       "      <td>0.046737</td>\n",
       "      <td>0.016941</td>\n",
       "      <td>-1.620454</td>\n",
       "      <td>NaN</td>\n",
       "      <td>NaN</td>\n",
       "      <td>1232.0</td>\n",
       "      <td>-0.013576</td>\n",
       "      <td>NaN</td>\n",
       "      <td>0.46</td>\n",
       "      <td>7.665179</td>\n",
       "      <td>-0.005496</td>\n",
       "      <td>1</td>\n",
       "    </tr>\n",
       "  </tbody>\n",
       "</table>\n",
       "</div>"
      ],
      "text/plain": [
       "                  DP        PE  BM      CAPE        BY   DEF  PCAPrice  \\\n",
       "AsOfDate                                                                 \n",
       "1990-06-08  0.063979  7.524271 NaN  8.978524  1.007418  0.96  3.616905   \n",
       "1990-06-11  0.063463  7.597792 NaN  9.051612  1.009642  0.96  3.583706   \n",
       "1990-06-12  0.062662  7.699009 NaN  9.167251  1.009580  0.96  3.532720   \n",
       "1990-06-13  0.062894  7.674771 NaN  9.133460  1.000056  0.96  3.547245   \n",
       "1990-06-14  0.063241  7.636994 NaN  9.083400  0.997689  0.96  3.569002   \n",
       "\n",
       "                 CPI       NOS       PCR  OIL  SI     BDI       CAY  IC  TERM  \\\n",
       "AsOfDate                                                                        \n",
       "1990-06-08  0.046737  0.016941 -1.622923  NaN NaN  1278.0 -0.013576 NaN  0.50   \n",
       "1990-06-11  0.046737  0.016941 -1.615366  NaN NaN  1264.0 -0.013576 NaN  0.49   \n",
       "1990-06-12  0.046737  0.016941 -1.618868  NaN NaN  1254.0 -0.013576 NaN  0.49   \n",
       "1990-06-13  0.046737  0.016941 -1.625316  NaN NaN  1243.0 -0.013576 NaN  0.47   \n",
       "1990-06-14  0.046737  0.016941 -1.620454  NaN NaN  1232.0 -0.013576 NaN  0.46   \n",
       "\n",
       "                 VRP       SPX  MA  \n",
       "AsOfDate                            \n",
       "1990-06-08  7.197727 -0.012302   1  \n",
       "1990-06-11  5.607431  0.008107   1  \n",
       "1990-06-12  6.403252  0.012695   1  \n",
       "1990-06-13  7.793147 -0.003693   1  \n",
       "1990-06-14  7.665179 -0.005496   1  "
      ]
     },
     "execution_count": 60,
     "metadata": {},
     "output_type": "execute_result"
    }
   ],
   "source": [
    "df = mgr.data\n",
    "\n",
    "x_cols = [x for x in df.columns if x not in ['SPX','RF']]\n",
    "df.head()"
   ]
  },
  {
   "cell_type": "code",
   "execution_count": 78,
   "metadata": {},
   "outputs": [
    {
     "data": {
      "text/plain": [
       "AsOfDate\n",
       "1990-06-08   -0.012302\n",
       "1990-06-11    0.008107\n",
       "1990-06-12    0.012695\n",
       "1990-06-13   -0.003693\n",
       "1990-06-14   -0.005496\n",
       "                ...   \n",
       "2019-03-21    0.010794\n",
       "2019-03-22   -0.019157\n",
       "2019-03-25   -0.000839\n",
       "2019-03-26    0.007157\n",
       "2019-03-27   -0.004655\n",
       "Name: SPX, Length: 7256, dtype: float64"
      ]
     },
     "execution_count": 78,
     "metadata": {},
     "output_type": "execute_result"
    }
   ],
   "source": [
    "df['SPX']"
   ]
  },
  {
   "cell_type": "code",
   "execution_count": 79,
   "metadata": {},
   "outputs": [],
   "source": [
    "df_raw = pd.read_csv('raw_data/spx/SP500_prices.csv')"
   ]
  },
  {
   "cell_type": "code",
   "execution_count": 61,
   "metadata": {},
   "outputs": [
    {
     "data": {
      "text/plain": [
       "(7411, 19)"
      ]
     },
     "execution_count": 61,
     "metadata": {},
     "output_type": "execute_result"
    }
   ],
   "source": [
    "df.shape"
   ]
  },
  {
   "cell_type": "code",
   "execution_count": 62,
   "metadata": {},
   "outputs": [
    {
     "data": {
      "text/plain": [
       "28.78968253968254"
      ]
     },
     "execution_count": 62,
     "metadata": {},
     "output_type": "execute_result"
    }
   ],
   "source": [
    "# how many years of SPX data do we have?\n",
    "(df['SPX'].dropna().shape[0] - 130) / 252"
   ]
  },
  {
   "cell_type": "code",
   "execution_count": 63,
   "metadata": {},
   "outputs": [],
   "source": [
    "# constructing the target label\n",
    "df['spx_tp130'] = df['SPX'].rolling(130).sum().shift(-129)\n",
    "df = df.dropna(subset=['spx_tp130'])"
   ]
  },
  {
   "cell_type": "markdown",
   "metadata": {},
   "source": [
    "## Program Parameters"
   ]
  },
  {
   "cell_type": "code",
   "execution_count": 64,
   "metadata": {},
   "outputs": [],
   "source": [
    "LOOKBACK_YEARS = 10  # when regressing, how far back to look in years\n",
    "VALIDATE_DAYS = 20  # when regressing, the number of days to hold parameters constant\n",
    "MIN_X_THRESH = 0.5  # when training, drop x that is too sparse, otherwise median-fill after normalization"
   ]
  },
  {
   "cell_type": "code",
   "execution_count": 65,
   "metadata": {},
   "outputs": [],
   "source": [
    "# normalization pipeline\n",
    "scaler = StandardScaler()\n",
    "si = SimpleImputer(strategy='median')\n",
    "pipe = make_pipeline(scaler, si)"
   ]
  },
  {
   "cell_type": "code",
   "execution_count": 66,
   "metadata": {},
   "outputs": [
    {
     "data": {
      "text/plain": [
       "((7256, 18), (7256,))"
      ]
     },
     "execution_count": 66,
     "metadata": {},
     "output_type": "execute_result"
    }
   ],
   "source": [
    "all_x = df[x_cols]\n",
    "all_y = df['spx_tp130']\n",
    "all_x.shape, all_y.shape"
   ]
  },
  {
   "cell_type": "markdown",
   "metadata": {},
   "source": [
    "## Function for scoring elastic net hparams:\n",
    "\n",
    "we will compute the total SSE on the test 20 days for all train-test pairs, and use that as our parameter selection metric"
   ]
  },
  {
   "cell_type": "code",
   "execution_count": 67,
   "metadata": {},
   "outputs": [],
   "source": [
    "def test_en_hparams(h_alpha, h_l1_ratio):\n",
    "    start_i = LOOKBACK_YEARS * 252\n",
    "    end_i = all_x.shape[0] - VALIDATE_DAYS\n",
    "    tot_sse = 0.\n",
    "    \n",
    "    for i in tqdm(range(start_i, end_i + 1)):\n",
    "        # forming the training period of n years of look back\n",
    "        fit_start = i - LOOKBACK_YEARS * 252\n",
    "        fit_end = i\n",
    "        \n",
    "        # forming the test period of just 20 days\n",
    "        test_start = i\n",
    "        test_end = i + 20\n",
    "        \n",
    "        cur_train = all_x[fit_start:fit_end]\n",
    "        cur_test = all_x[test_start:test_end]\n",
    "        cur_y = all_y[fit_start:fit_end]\n",
    "        cur_y_test = all_y[test_start:test_end]\n",
    "        \n",
    "        # drop columns in train that do note have enough obs:\n",
    "        cur_train = cur_train.dropna(axis=1, thresh=int(MIN_X_THRESH * cur_train.shape[0]))\n",
    "        cur_test = cur_test[cur_train.columns]\n",
    "        \n",
    "        # pipe to norm/impute\n",
    "        cur_train_norm = pipe.fit_transform(cur_train)\n",
    "        cur_test_norm = pipe.transform(cur_test)\n",
    "        \n",
    "        en = ElasticNet(alpha=h_alpha, l1_ratio=h_l1_ratio)\n",
    "        en.fit(cur_train_norm, cur_y)\n",
    "        \n",
    "        # ** we will compute the total SSE on the test 20 days and use that as our parameter selection\n",
    "        test_preds = en.predict(cur_test_norm)\n",
    "        cur_sse = ((test_preds - cur_y_test.values) ** 2).sum()\n",
    "        tot_sse += cur_sse\n",
    "        \n",
    "    return tot_sse"
   ]
  },
  {
   "cell_type": "markdown",
   "metadata": {},
   "source": [
    "## Grid Search"
   ]
  },
  {
   "cell_type": "code",
   "execution_count": null,
   "metadata": {},
   "outputs": [],
   "source": [
    "try_alphas = [1.0, 0.1, 0.01, 0.001]\n",
    "try_l1_ratios = [0.25, 0.5, 0.75]\n",
    "res_dict = {}\n",
    "\n",
    "for h_alpha in try_alphas:\n",
    "    for h_l1_ratio in try_l1_ratios:\n",
    "        res_dict[(h_alpha, h_l1_ratio)] = test_en_hparams(h_alpha, h_l1_ratio)"
   ]
  },
  {
   "cell_type": "code",
   "execution_count": 47,
   "metadata": {},
   "outputs": [
    {
     "data": {
      "text/plain": [
       "{(1.0, 0.25): 1318.4443828115468,\n",
       " (1.0, 0.5): 1318.4443828115468,\n",
       " (1.0, 0.75): 1318.4443828115468,\n",
       " (0.1, 0.25): 1141.1292711800847,\n",
       " (0.1, 0.5): 1259.2301957745276,\n",
       " (0.1, 0.75): 1315.0827489387632,\n",
       " (0.01, 0.25): 836.8538463757556,\n",
       " (0.01, 0.5): 862.463983611152,\n",
       " (0.01, 0.75): 907.9513296219629,\n",
       " (0.001, 0.25): 769.190723807801,\n",
       " (0.001, 0.5): 783.9081263764788,\n",
       " (0.001, 0.75): 800.5696658714743}"
      ]
     },
     "execution_count": 47,
     "metadata": {},
     "output_type": "execute_result"
    }
   ],
   "source": [
    "res_dict"
   ]
  },
  {
   "cell_type": "code",
   "execution_count": 68,
   "metadata": {},
   "outputs": [],
   "source": [
    "used_alpha, used_l1_ratio = 0.001, 0.25"
   ]
  },
  {
   "cell_type": "markdown",
   "metadata": {},
   "source": [
    "## Loop to predict the forward returns:"
   ]
  },
  {
   "cell_type": "code",
   "execution_count": 69,
   "metadata": {},
   "outputs": [],
   "source": [
    "# actual returns (log returns)\n",
    "all_spx = df['SPX']"
   ]
  },
  {
   "cell_type": "code",
   "execution_count": 70,
   "metadata": {},
   "outputs": [],
   "source": [
    "start_i = LOOKBACK_YEARS * 252\n",
    "i = start_i\n",
    "\n",
    "all_preds = {}\n",
    "\n",
    "while i < all_x.shape[0]:\n",
    "    fit_start = i - LOOKBACK_YEARS * 252\n",
    "    fit_end = i\n",
    "    cur_train = all_x[fit_start:fit_end]\n",
    "    cur_idx = cur_train.index[-1]\n",
    "    cur_y = all_y[fit_start:fit_end]\n",
    "    \n",
    "    # drop cols that do not have sufficient data\n",
    "    cur_train = cur_train.dropna(axis=1, thresh=int(MIN_X_THRESH * cur_train.shape[0]))\n",
    "    \n",
    "    # normalization\n",
    "    cur_train_norm = pipe.fit_transform(cur_train)\n",
    "    cur_target = cur_train_norm[-1:]\n",
    "    \n",
    "    en = ElasticNet(alpha=used_alpha, l1_ratio=used_l1_ratio, max_iter=10000)\n",
    "    en.fit(cur_train_norm, cur_y)\n",
    "    pred = en.predict(cur_target)\n",
    "    all_preds[cur_idx] = pred\n",
    "    \n",
    "    i += 20"
   ]
  },
  {
   "cell_type": "code",
   "execution_count": 71,
   "metadata": {},
   "outputs": [],
   "source": [
    "df_preds = pd.DataFrame(all_preds, index=['predicted_spx130']).T"
   ]
  },
  {
   "cell_type": "code",
   "execution_count": 72,
   "metadata": {},
   "outputs": [
    {
     "data": {
      "text/plain": [
       "(0.027741473532061273, 0.10644429422171539)"
      ]
     },
     "execution_count": 72,
     "metadata": {},
     "output_type": "execute_result"
    }
   ],
   "source": [
    "pmean, pstd = df_preds['predicted_spx130'].mean(), df_preds['predicted_spx130'].std()\n",
    "pmean, pstd"
   ]
  },
  {
   "cell_type": "code",
   "execution_count": 73,
   "metadata": {},
   "outputs": [
    {
     "data": {
      "text/html": [
       "<div>\n",
       "<style scoped>\n",
       "    .dataframe tbody tr th:only-of-type {\n",
       "        vertical-align: middle;\n",
       "    }\n",
       "\n",
       "    .dataframe tbody tr th {\n",
       "        vertical-align: top;\n",
       "    }\n",
       "\n",
       "    .dataframe thead th {\n",
       "        text-align: right;\n",
       "    }\n",
       "</style>\n",
       "<table border=\"1\" class=\"dataframe\">\n",
       "  <thead>\n",
       "    <tr style=\"text-align: right;\">\n",
       "      <th></th>\n",
       "      <th>predicted_spx130</th>\n",
       "      <th>pred_z</th>\n",
       "      <th>position_unclipped</th>\n",
       "      <th>position</th>\n",
       "    </tr>\n",
       "  </thead>\n",
       "  <tbody>\n",
       "    <tr>\n",
       "      <td>2000-05-26</td>\n",
       "      <td>0.161297</td>\n",
       "      <td>1.254697</td>\n",
       "      <td>0.627349</td>\n",
       "      <td>0.627349</td>\n",
       "    </tr>\n",
       "    <tr>\n",
       "      <td>2000-06-26</td>\n",
       "      <td>0.053021</td>\n",
       "      <td>0.237493</td>\n",
       "      <td>0.118746</td>\n",
       "      <td>0.118746</td>\n",
       "    </tr>\n",
       "    <tr>\n",
       "      <td>2000-07-25</td>\n",
       "      <td>0.032053</td>\n",
       "      <td>0.040503</td>\n",
       "      <td>0.020252</td>\n",
       "      <td>0.020252</td>\n",
       "    </tr>\n",
       "    <tr>\n",
       "      <td>2000-08-22</td>\n",
       "      <td>-0.017975</td>\n",
       "      <td>-0.429491</td>\n",
       "      <td>-0.214745</td>\n",
       "      <td>-0.214745</td>\n",
       "    </tr>\n",
       "    <tr>\n",
       "      <td>2000-09-20</td>\n",
       "      <td>0.009652</td>\n",
       "      <td>-0.169939</td>\n",
       "      <td>-0.084969</td>\n",
       "      <td>-0.084969</td>\n",
       "    </tr>\n",
       "  </tbody>\n",
       "</table>\n",
       "</div>"
      ],
      "text/plain": [
       "            predicted_spx130    pred_z  position_unclipped  position\n",
       "2000-05-26          0.161297  1.254697            0.627349  0.627349\n",
       "2000-06-26          0.053021  0.237493            0.118746  0.118746\n",
       "2000-07-25          0.032053  0.040503            0.020252  0.020252\n",
       "2000-08-22         -0.017975 -0.429491           -0.214745 -0.214745\n",
       "2000-09-20          0.009652 -0.169939           -0.084969 -0.084969"
      ]
     },
     "execution_count": 73,
     "metadata": {},
     "output_type": "execute_result"
    }
   ],
   "source": [
    "df_preds['pred_z'] = (df_preds['predicted_spx130'] - pmean) / pstd\n",
    "df_preds['position_unclipped'] = df_preds['pred_z'] / 2\n",
    "df_preds['position'] = df_preds['position_unclipped'].clip(-0.5, 1.5)\n",
    "df_preds.head()"
   ]
  },
  {
   "cell_type": "code",
   "execution_count": 74,
   "metadata": {},
   "outputs": [],
   "source": [
    "df_preds_re = df_preds[['position']].resample('D').ffill()"
   ]
  },
  {
   "cell_type": "code",
   "execution_count": 75,
   "metadata": {},
   "outputs": [
    {
     "data": {
      "image/png": "[encoded data removed]",
      "text/plain": [
       "<Figure size 720x360 with 1 Axes>"
      ]
     },
     "metadata": {
      "needs_background": "light"
     },
     "output_type": "display_data"
    }
   ],
   "source": [
    "plt.figure(figsize=(10, 5))\n",
    "plt.plot(df_preds_re['position'])\n",
    "plt.title('SPX position as suggested by Elastic Net Model')\n",
    "plt.axhline(0, linestyle='--', color='k')\n",
    "plt.show()"
   ]
  },
  {
   "cell_type": "markdown",
   "metadata": {},
   "source": [
    "## Evaluating Portfolio"
   ]
  },
  {
   "cell_type": "code",
   "execution_count": 76,
   "metadata": {},
   "outputs": [
    {
     "data": {
      "text/html": [
       "<div>\n",
       "<style scoped>\n",
       "    .dataframe tbody tr th:only-of-type {\n",
       "        vertical-align: middle;\n",
       "    }\n",
       "\n",
       "    .dataframe tbody tr th {\n",
       "        vertical-align: top;\n",
       "    }\n",
       "\n",
       "    .dataframe thead th {\n",
       "        text-align: right;\n",
       "    }\n",
       "</style>\n",
       "<table border=\"1\" class=\"dataframe\">\n",
       "  <thead>\n",
       "    <tr style=\"text-align: right;\">\n",
       "      <th></th>\n",
       "      <th>position</th>\n",
       "      <th>SPX</th>\n",
       "      <th>buy_hold</th>\n",
       "      <th>strat_rt_daily</th>\n",
       "      <th>strat_rti</th>\n",
       "    </tr>\n",
       "  </thead>\n",
       "  <tbody>\n",
       "    <tr>\n",
       "      <td>2000-05-26</td>\n",
       "      <td>0.627349</td>\n",
       "      <td>-0.002537</td>\n",
       "      <td>0.997467</td>\n",
       "      <td>0.998411</td>\n",
       "      <td>0.998411</td>\n",
       "    </tr>\n",
       "    <tr>\n",
       "      <td>2000-05-30</td>\n",
       "      <td>0.627349</td>\n",
       "      <td>0.031733</td>\n",
       "      <td>1.029627</td>\n",
       "      <td>1.020227</td>\n",
       "      <td>1.018605</td>\n",
       "    </tr>\n",
       "    <tr>\n",
       "      <td>2000-05-31</td>\n",
       "      <td>0.627349</td>\n",
       "      <td>-0.001301</td>\n",
       "      <td>1.028288</td>\n",
       "      <td>0.999184</td>\n",
       "      <td>1.017774</td>\n",
       "    </tr>\n",
       "    <tr>\n",
       "      <td>2000-06-01</td>\n",
       "      <td>0.627349</td>\n",
       "      <td>0.019663</td>\n",
       "      <td>1.048707</td>\n",
       "      <td>1.012458</td>\n",
       "      <td>1.030454</td>\n",
       "    </tr>\n",
       "    <tr>\n",
       "      <td>2000-06-02</td>\n",
       "      <td>0.627349</td>\n",
       "      <td>0.019446</td>\n",
       "      <td>1.069300</td>\n",
       "      <td>1.012319</td>\n",
       "      <td>1.043148</td>\n",
       "    </tr>\n",
       "  </tbody>\n",
       "</table>\n",
       "</div>"
      ],
      "text/plain": [
       "            position       SPX  buy_hold  strat_rt_daily  strat_rti\n",
       "2000-05-26  0.627349 -0.002537  0.997467        0.998411   0.998411\n",
       "2000-05-30  0.627349  0.031733  1.029627        1.020227   1.018605\n",
       "2000-05-31  0.627349 -0.001301  1.028288        0.999184   1.017774\n",
       "2000-06-01  0.627349  0.019663  1.048707        1.012458   1.030454\n",
       "2000-06-02  0.627349  0.019446  1.069300        1.012319   1.043148"
      ]
     },
     "execution_count": 76,
     "metadata": {},
     "output_type": "execute_result"
    }
   ],
   "source": [
    "df_eval = df_preds_re.join(all_spx).dropna()\n",
    "\n",
    "df_eval['buy_hold'] = np.exp(df_eval['SPX'].cumsum())\n",
    "df_eval['strat_rt_daily'] = 1 + (df_eval['position'] * (np.exp(df_eval['SPX']) - 1))\n",
    "df_eval['strat_rti'] = df_eval['strat_rt_daily'].cumprod()\n",
    "\n",
    "df_eval.head()"
   ]
  },
  {
   "cell_type": "code",
   "execution_count": 77,
   "metadata": {},
   "outputs": [
    {
     "data": {
      "image/png": "[encoded data removed]",
      "text/plain": [
       "<Figure size 720x360 with 1 Axes>"
      ]
     },
     "metadata": {
      "needs_background": "light"
     },
     "output_type": "display_data"
    }
   ],
   "source": [
    "plt.figure(figsize=(10, 5))\n",
    "plt.plot(df_eval['buy_hold'], label='Buy-and-Hold')\n",
    "plt.plot(df_eval['strat_rti'], label='Elastic Net Strategy')\n",
    "plt.title('Value of $1 in Elastic Net Strategy vs Buy-and-Hold')\n",
    "plt.legend()\n",
    "plt.show()"
   ]
  },
  {
   "cell_type": "code",
   "execution_count": null,
   "metadata": {},
   "outputs": [],
   "source": []
  }
 ],
 "metadata": {
  "kernelspec": {
   "display_name": "Python 3",
   "language": "python",
   "name": "python3"
  },
  "language_info": {
   "codemirror_mode": {
    "name": "ipython",
    "version": 3
   },
   "file_extension": ".py",
   "mimetype": "text/x-python",
   "name": "python",
   "nbconvert_exporter": "python",
   "pygments_lexer": "ipython3",
   "version": "3.6.2"
  }
 },
 "nbformat": 4,
 "nbformat_minor": 2
}
